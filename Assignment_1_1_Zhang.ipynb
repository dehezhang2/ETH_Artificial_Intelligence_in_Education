{
  "cells": [
    {
      "cell_type": "markdown",
      "metadata": {
        "id": "porMw-cf2ngw"
      },
      "source": [
        "# Assignment 1.1 - AI in Education"
      ]
    },
    {
      "cell_type": "markdown",
      "metadata": {
        "id": "qVkknWQB2ngy"
      },
      "source": [
        "In the first assignment, we will explore using clustering techniques and perform a regression and a classification task to predict the third-term grades of students in two portuguese schools using a set of features collected through questionnaires and the two first term features. \n",
        "\n",
        "The dataset is taken from P. Cortez and A. Silva. Using Data Mining to Predict Secondary School Student Performance. In A. Brito and J. Teixeira Eds., Proceedings of 5th FUture BUsiness TEChnology Conference (FUBUTEC 2008) pp. 5-12, Porto, Portugal, April, 2008, EUROSIS, ISBN 978-9077381-39-7. More details can be found at https://www.kaggle.com/larsen0966/student-performance-data-set. \n",
        "\n",
        "The dataset consists of 639 samples (students) and 33 features (demographics, school-related features,...). A full description of the features can be found at https://archive.ics.uci.edu/ml/datasets/Student+Performance. "
      ]
    },
    {
      "cell_type": "markdown",
      "metadata": {
        "id": "OMp5R-TS2ngy"
      },
      "source": [
        "This assignment is a mix of theoretical and practical questions. Keep in mind that we expect brief answers in the analysis questions. A suggested length is indicated next to the analysis questions. "
      ]
    },
    {
      "cell_type": "markdown",
      "metadata": {
        "id": "h7VSuWmc2ngz"
      },
      "source": [
        "First, let's download all necessary modules. You can add the modules you wish to use as well."
      ]
    },
    {
      "cell_type": "code",
      "execution_count": 1,
      "metadata": {
        "id": "xRRMQhqv2ngz"
      },
      "outputs": [],
      "source": [
        "# general\n",
        "import numpy as np\n",
        "import pandas as pd\n",
        "\n",
        "# visualization\n",
        "import seaborn as sns\n",
        "import matplotlib.pyplot as plt\n",
        "\n",
        "# model evaluation\n",
        "from sklearn.model_selection import train_test_split\n",
        "\n",
        "# Non-linear\n",
        "from sklearn.preprocessing import PolynomialFeatures\n",
        "\n",
        "# IMPORTANT: please use this constant as a seed everywhere for reproducibility\n",
        "import random\n",
        "\n",
        "SEED = 42\n",
        "random.seed(SEED)\n",
        "np.random.seed(SEED)\n",
        "\n",
        "### Here any module you wish to download"
      ]
    },
    {
      "cell_type": "code",
      "source": [
        "from zipfile import ZipFile\n",
        "import io\n",
        "from urllib.request import urlopen\n",
        "\n",
        "URL = \"https://archive.ics.uci.edu/ml/machine-learning-databases/00320/student.zip\"\n",
        "r = urlopen(URL).read()\n",
        "zip_file = ZipFile(io.BytesIO(r))\n",
        "students_port = pd.read_csv(zip_file.open('student-por.csv'), delimiter=\";\")"
      ],
      "metadata": {
        "id": "hkQgx_nw2vwQ"
      },
      "execution_count": 2,
      "outputs": []
    },
    {
      "cell_type": "markdown",
      "metadata": {
        "id": "uhYRFcXu2ng1"
      },
      "source": [
        "Let's now verify we have all the information we need. You should obtain a dataset with 649 students and 33 features."
      ]
    },
    {
      "cell_type": "code",
      "execution_count": 3,
      "metadata": {
        "id": "3NBow9dD2ng1",
        "colab": {
          "base_uri": "https://localhost:8080/"
        },
        "outputId": "47f766b1-2f98-462a-87eb-4da2c8165bdc"
      },
      "outputs": [
        {
          "output_type": "stream",
          "name": "stdout",
          "text": [
            "This dataset consists of 649 students with 33 associated features\n"
          ]
        }
      ],
      "source": [
        "print(\"This dataset consists of {} students with {} associated features\".format(students_port.shape[0],students_port.shape[1]))"
      ]
    },
    {
      "cell_type": "markdown",
      "metadata": {
        "id": "Dg5g5E1G2ng1"
      },
      "source": [
        "## Part 1: Exploratory analysis (7 questions)"
      ]
    },
    {
      "cell_type": "markdown",
      "metadata": {
        "id": "lQ1uDPHR2ng2"
      },
      "source": [
        "First we will explore our dataset and its features. "
      ]
    },
    {
      "cell_type": "code",
      "execution_count": 4,
      "metadata": {
        "id": "oFBUO-592ng2"
      },
      "outputs": [],
      "source": [
        "# feature breakdown\n",
        "demographics = [\"school\",\"sex\",\"age\",\"address\"]\n",
        "family = [\"famsize\",\"Pstatus\",\"Medu\",\"Fedu\",\"Mjob\",\"Fjob\",\"guardian\",\"famrel\"]\n",
        "school_performance = [\"failures\",\"absences\",\"G1\",\"G2\",\"G3\"]\n",
        "school_exterior = [\"traveltime\",\"studytime\",\"schoolsup\",\"famsup\",\"paid\",\"nursery\",\"internet\"]\n",
        "other = [\"activities\",\"higher\",\"romantic\",\"freetime\",\"goout\",\"Dalc\",\"Walc\",\"health\"]"
      ]
    },
    {
      "cell_type": "markdown",
      "metadata": {
        "id": "xbgYUDmH2ng2"
      },
      "source": [
        "We will start with visualizing the distribution of demographics in the dataset."
      ]
    },
    {
      "cell_type": "code",
      "execution_count": 5,
      "metadata": {
        "id": "nX8dtYJz2ng2",
        "colab": {
          "base_uri": "https://localhost:8080/",
          "height": 305
        },
        "outputId": "9207229a-6ace-451f-f246-3145f251316d"
      },
      "outputs": [
        {
          "output_type": "display_data",
          "data": {
            "text/plain": [
              "<Figure size 1440x504 with 4 Axes>"
            ],
            "image/png": "[encoded data removed]"
          },
          "metadata": {
            "needs_background": "light"
          }
        }
      ],
      "source": [
        "fig, ax = plt.subplots(2,2,figsize=(20,7))\n",
        "flatax = ax.flatten()\n",
        "for i,feature in enumerate(demographics):\n",
        "    sns.histplot(students_port[feature],ax=flatax[i])"
      ]
    },
    {
      "cell_type": "markdown",
      "metadata": {
        "id": "qxzYmoFB2ng3"
      },
      "source": [
        "**Q1.1**: What are the demographics of the dataset? (1-2 sentences)"
      ]
    },
    {
      "cell_type": "markdown",
      "metadata": {
        "id": "AaqVgsH72ng3"
      },
      "source": [
        "**A1.1**: There are around 400 students from Gabriel Pereira, 200 students from Mousinho da Silveira. Nearly 400 of them are female, 250 of them are male. The age is mostly from 15 to 18, and the address or mostly from urban. "
      ]
    },
    {
      "cell_type": "markdown",
      "metadata": {
        "id": "yTOqjWa32ng3"
      },
      "source": [
        "We will now visualize the family situation of the students."
      ]
    },
    {
      "cell_type": "code",
      "execution_count": 6,
      "metadata": {
        "id": "GfYlawT_2ng3",
        "colab": {
          "base_uri": "https://localhost:8080/",
          "height": 432
        },
        "outputId": "87938e0f-d463-43f1-8d98-e22c47502368"
      },
      "outputs": [
        {
          "output_type": "execute_result",
          "data": {
            "text/plain": [
              "(0.0, 1.0, 0.0, 1.0)"
            ]
          },
          "metadata": {},
          "execution_count": 6
        },
        {
          "output_type": "display_data",
          "data": {
            "text/plain": [
              "<Figure size 1440x720 with 9 Axes>"
            ],
            "image/png": "[encoded data removed]"
          },
          "metadata": {
            "needs_background": "light"
          }
        }
      ],
      "source": [
        "fig, ax = plt.subplots(3,3,figsize=(20,10))\n",
        "flatax = ax.flatten()\n",
        "for i,feature in enumerate(family):\n",
        "    sns.histplot(students_port[feature],ax=flatax[i])\n",
        "flatax[-1].axis('off')"
      ]
    },
    {
      "cell_type": "code",
      "source": [
        "students_port['Medu'].mean()"
      ],
      "metadata": {
        "colab": {
          "base_uri": "https://localhost:8080/"
        },
        "id": "RpC28gA63ArH",
        "outputId": "91c244f1-f2f5-437c-c763-e7b89b91e7f1"
      },
      "execution_count": 7,
      "outputs": [
        {
          "output_type": "execute_result",
          "data": {
            "text/plain": [
              "2.514637904468413"
            ]
          },
          "metadata": {},
          "execution_count": 7
        }
      ]
    },
    {
      "cell_type": "code",
      "source": [
        "students_port['Fedu'].mean()"
      ],
      "metadata": {
        "colab": {
          "base_uri": "https://localhost:8080/"
        },
        "id": "xgEh9xgk3U36",
        "outputId": "82b7662c-81e3-4860-cae3-5080ba297547"
      },
      "execution_count": 8,
      "outputs": [
        {
          "output_type": "execute_result",
          "data": {
            "text/plain": [
              "2.3066255778120186"
            ]
          },
          "metadata": {},
          "execution_count": 8
        }
      ]
    },
    {
      "cell_type": "code",
      "source": [
        "students_port['famrel'].mean()"
      ],
      "metadata": {
        "colab": {
          "base_uri": "https://localhost:8080/"
        },
        "id": "wGMNTIuz3W3M",
        "outputId": "193c0077-3f9b-4b76-b2b7-5c6dfe36ceba"
      },
      "execution_count": 9,
      "outputs": [
        {
          "output_type": "execute_result",
          "data": {
            "text/plain": [
              "3.930662557781202"
            ]
          },
          "metadata": {},
          "execution_count": 9
        }
      ]
    },
    {
      "cell_type": "markdown",
      "metadata": {
        "id": "YSCkfLE-2ng3"
      },
      "source": [
        "**Q1.2**: Describe the average family of a student in these schools. (2 sentences)"
      ]
    },
    {
      "cell_type": "markdown",
      "metadata": {
        "id": "xQ-jYaJQ2ng3"
      },
      "source": [
        "**A1.2**: The average family of student has more than 3 members, mother as the students' guardian, with parents living together, and quality of family relationships very good (4). The average education of parents is between primary education (5th to 9th grade) and secondary education. "
      ]
    },
    {
      "cell_type": "markdown",
      "metadata": {
        "id": "VQQ7Gayc2ng3"
      },
      "source": [
        "We now observe how the students perform at school."
      ]
    },
    {
      "cell_type": "code",
      "execution_count": 10,
      "metadata": {
        "id": "aLU5ix152ng4",
        "colab": {
          "base_uri": "https://localhost:8080/",
          "height": 432
        },
        "outputId": "2faa85a6-1fe0-48d3-8f0a-6769a99e987c"
      },
      "outputs": [
        {
          "output_type": "execute_result",
          "data": {
            "text/plain": [
              "(0.0, 1.0, 0.0, 1.0)"
            ]
          },
          "metadata": {},
          "execution_count": 10
        },
        {
          "output_type": "display_data",
          "data": {
            "text/plain": [
              "<Figure size 1440x720 with 6 Axes>"
            ],
            "image/png": "[encoded data removed]"
          },
          "metadata": {
            "needs_background": "light"
          }
        }
      ],
      "source": [
        "fig, ax = plt.subplots(3,2,figsize=(20,10))\n",
        "flatax = ax.flatten()\n",
        "for i,feature in enumerate(school_performance):\n",
        "    sns.histplot(students_port[feature],ax=flatax[i])\n",
        "flatax[-1].axis('off')"
      ]
    },
    {
      "cell_type": "markdown",
      "metadata": {
        "id": "39PCdcVP2ng4"
      },
      "source": [
        "**Q1.3**: What proportion of students failed the first semester? second semester? third semester? (a student fails when their grade is under 10).\n",
        "\n",
        "How does this proportion evolve? (hint: you can verify in `student_port` the number of students with a grade under 10 to have exact numbers) "
      ]
    },
    {
      "cell_type": "code",
      "execution_count": 11,
      "metadata": {
        "id": "Y66f8qiV2ng4",
        "colab": {
          "base_uri": "https://localhost:8080/"
        },
        "outputId": "ca8ecf4e-e895-4ceb-8bfb-722ed4870cb3"
      },
      "outputs": [
        {
          "output_type": "stream",
          "name": "stdout",
          "text": [
            "First semester: 24.19106317411402%\n",
            "Second semester: 22.34206471494607%\n",
            "Third semester: 15.408320493066256%\n"
          ]
        }
      ],
      "source": [
        "# Your code here\n",
        "print( 'First semester: '+ str(100 * (students_port['G1'].to_numpy() < 10).sum() / students_port['G1'].to_numpy().shape[0]) + '%')\n",
        "print( 'Second semester: '+ str(100 * (students_port['G2'].to_numpy() < 10).sum() / students_port['G1'].to_numpy().shape[0]) + '%')\n",
        "print( 'Third semester: '+ str(100 * (students_port['G3'].to_numpy() < 10).sum() / students_port['G1'].to_numpy().shape[0]) + '%')"
      ]
    },
    {
      "cell_type": "markdown",
      "metadata": {
        "id": "J_dfMUT52ng4"
      },
      "source": [
        "**A1.3**: There are 24.19% students failed the first semester, 22.34% students failed the second semester, and 15.41% students failed the third semester. The proportion is decreasing. "
      ]
    },
    {
      "cell_type": "markdown",
      "metadata": {
        "id": "q38gJyPw2ng4"
      },
      "source": [
        "**Q1.4**: What proportion of students that failed previous classes failed at least a semester?"
      ]
    },
    {
      "cell_type": "code",
      "execution_count": 12,
      "metadata": {
        "id": "KfghDiTy2ng4",
        "colab": {
          "base_uri": "https://localhost:8080/"
        },
        "outputId": "6369b95e-ab04-464b-fd18-26997677657a"
      },
      "outputs": [
        {
          "output_type": "stream",
          "name": "stdout",
          "text": [
            "0.8\n"
          ]
        }
      ],
      "source": [
        "from pandas.core.arrays.sparse.array import printing\n",
        "# Your code here\n",
        "prev_failures_mask = students_port['failures'].to_numpy() > 0\n",
        "prev_failures = students_port[prev_failures_mask]\n",
        "sem_failures_mask = np.logical_or(prev_failures['G3'].to_numpy() < 10, np.logical_or(prev_failures['G1'].to_numpy() < 10, prev_failures['G2'].to_numpy() < 10))\n",
        "print(sem_failures_mask.sum() / sem_failures_mask.shape[0])"
      ]
    },
    {
      "cell_type": "markdown",
      "metadata": {
        "id": "1qRZh6yl2ng4"
      },
      "source": [
        "**A1.4**: There are 80% students that failed previous classes failed at least a semester. "
      ]
    },
    {
      "cell_type": "markdown",
      "metadata": {
        "id": "X7GXD3Ky2ng4"
      },
      "source": [
        "We explore school-related features that do not pertain directly to performance."
      ]
    },
    {
      "cell_type": "code",
      "execution_count": 13,
      "metadata": {
        "id": "A9BVvf2h2ng4",
        "colab": {
          "base_uri": "https://localhost:8080/",
          "height": 432
        },
        "outputId": "c9cbb232-9fb0-4cb8-a7f6-82061c331265"
      },
      "outputs": [
        {
          "output_type": "execute_result",
          "data": {
            "text/plain": [
              "(0.0, 1.0, 0.0, 1.0)"
            ]
          },
          "metadata": {},
          "execution_count": 13
        },
        {
          "output_type": "display_data",
          "data": {
            "text/plain": [
              "<Figure size 1440x720 with 9 Axes>"
            ],
            "image/png": "[encoded data removed]"
          },
          "metadata": {
            "needs_background": "light"
          }
        }
      ],
      "source": [
        "fig, ax = plt.subplots(3,3,figsize=(20,10))\n",
        "flatax = ax.flatten()\n",
        "for i,feature in enumerate(school_exterior):\n",
        "    sns.histplot(students_port[feature],ax=flatax[i])\n",
        "flatax[-1].axis('off')\n",
        "flatax[-2].axis('off')"
      ]
    },
    {
      "cell_type": "markdown",
      "metadata": {
        "id": "3SEiRaAT2ng4"
      },
      "source": [
        "**Q1.5**: What (approximate) proportion of students receive extra school support? family support? paid tutoring? \n",
        "How much time does the majority of students spend travelling to school? Studying? (3-4 sentences)"
      ]
    },
    {
      "cell_type": "code",
      "source": [
        "(students_port['schoolsup'] == 'yes').sum() / students_port.shape[0]"
      ],
      "metadata": {
        "colab": {
          "base_uri": "https://localhost:8080/"
        },
        "id": "L-_y4bXhlo0o",
        "outputId": "e2959655-dead-4c68-842b-2f10eb858fb8"
      },
      "execution_count": 14,
      "outputs": [
        {
          "output_type": "execute_result",
          "data": {
            "text/plain": [
              "0.10477657935285054"
            ]
          },
          "metadata": {},
          "execution_count": 14
        }
      ]
    },
    {
      "cell_type": "code",
      "source": [
        "(students_port['famsup'] == 'yes').sum() / students_port.shape[0]"
      ],
      "metadata": {
        "colab": {
          "base_uri": "https://localhost:8080/"
        },
        "id": "TfGAcTsxmCMa",
        "outputId": "82dda058-b7a5-4b09-b19a-24d2d9b01103"
      },
      "execution_count": 15,
      "outputs": [
        {
          "output_type": "execute_result",
          "data": {
            "text/plain": [
              "0.613251155624037"
            ]
          },
          "metadata": {},
          "execution_count": 15
        }
      ]
    },
    {
      "cell_type": "code",
      "source": [
        "(students_port['paid'] == 'yes').sum() / students_port.shape[0]"
      ],
      "metadata": {
        "colab": {
          "base_uri": "https://localhost:8080/"
        },
        "id": "QCQWDYAqmJMq",
        "outputId": "f654d265-4af9-4a84-d5a2-3cc05e3858e1"
      },
      "execution_count": 16,
      "outputs": [
        {
          "output_type": "execute_result",
          "data": {
            "text/plain": [
              "0.060092449922958396"
            ]
          },
          "metadata": {},
          "execution_count": 16
        }
      ]
    },
    {
      "cell_type": "markdown",
      "metadata": {
        "id": "fAtwBBtO2ng4"
      },
      "source": [
        "**A1.5**: 10.48% students receive extra school support, 61.33% students receive family support, 6.01% students have extra paid tutoring. Most of students spend less than 15 minutes travelling to school, and 2-5 hours studying. "
      ]
    },
    {
      "cell_type": "markdown",
      "metadata": {
        "id": "F6o0VlQN2ng4"
      },
      "source": [
        "Finally we explore features related to extra-curricular activities, motivation and health. "
      ]
    },
    {
      "cell_type": "code",
      "execution_count": 17,
      "metadata": {
        "id": "nKZ7z2oC2ng5",
        "colab": {
          "base_uri": "https://localhost:8080/",
          "height": 432
        },
        "outputId": "913c5983-1e1e-4177-bb56-368d2f203454"
      },
      "outputs": [
        {
          "output_type": "execute_result",
          "data": {
            "text/plain": [
              "(0.0, 1.0, 0.0, 1.0)"
            ]
          },
          "metadata": {},
          "execution_count": 17
        },
        {
          "output_type": "display_data",
          "data": {
            "text/plain": [
              "<Figure size 1440x720 with 9 Axes>"
            ],
            "image/png": "[encoded data removed]"
          },
          "metadata": {
            "needs_background": "light"
          }
        }
      ],
      "source": [
        "fig, ax = plt.subplots(3,3,figsize=(20,10))\n",
        "flatax = ax.flatten()\n",
        "for i,feature in enumerate(other):\n",
        "    sns.histplot(students_port[feature],ax=flatax[i])\n",
        "flatax[-1].axis('off')"
      ]
    },
    {
      "cell_type": "markdown",
      "metadata": {
        "id": "etPyHFIJ2ng5"
      },
      "source": [
        "**Q1.6**: Describe the average student of these schools (do they want to pursue higher education? do they often go out? consume alcohol? etc). (3-4 sentences)"
      ]
    },
    {
      "cell_type": "markdown",
      "metadata": {
        "id": "LCaLQ4Em2ng5"
      },
      "source": [
        "**A1.6**: On average the students have medium level of free time and go out with a medium frequency. Most students have low alchohol consumption, and good health condition. Most students want to pursue higher education and one-third of the students are with a relationship."
      ]
    },
    {
      "cell_type": "markdown",
      "metadata": {
        "id": "1xxvbuhd2ng5"
      },
      "source": [
        "**Q1.7**: How would you analyze this dataset further to find relationships between the studying predictor variables? (3-4 sentences) "
      ]
    },
    {
      "cell_type": "markdown",
      "metadata": {
        "id": "JC_FM_tu2ng5"
      },
      "source": [
        "**A1.7**: I would firstly plot the scatter graph between the variables to ovserve the relationship. Then we can calculate the correlation and pearson correlation between different pair of features to find out which features are highly correlated. I would keep the features that are correlated with the value to be predicated, and remove reduant features. "
      ]
    },
    {
      "cell_type": "markdown",
      "metadata": {
        "id": "tPZx2ktN2ng7"
      },
      "source": [
        "## Part 2: Regression (10 questions)"
      ]
    },
    {
      "cell_type": "code",
      "execution_count": 18,
      "metadata": {
        "id": "PxTU-XIS2ng5"
      },
      "outputs": [],
      "source": [
        "X = students_port.drop(\"G3\",axis=1)\n",
        "y = students_port[[\"G3\"]]"
      ]
    },
    {
      "cell_type": "markdown",
      "metadata": {
        "id": "9mCoSVEA2ng5"
      },
      "source": [
        "We will now try to predict the grade for the third semester (G3) using the transformed features."
      ]
    },
    {
      "cell_type": "markdown",
      "metadata": {
        "id": "nsyQM09_2ng5"
      },
      "source": [
        "**Q2.1**: Transform the features before using regression. (1 sentence) \n",
        "\n",
        "Store the transformed dataframe as `X_transformed`. \n",
        "\n",
        "(*hint*: you have numerical variables, ordinal variables and categorical variables, how should you treat them?) \n",
        "\n",
        "(*hint 2*: when should you perfom scaling?)"
      ]
    },
    {
      "cell_type": "code",
      "source": [
        "# Your code here\n",
        "from sklearn.preprocessing import LabelEncoder, StandardScaler\n",
        "X_num_col = X._get_numeric_data().columns.tolist()\n",
        "X_cat_col = set(X.columns) - set(X_num_col)\n",
        "# one-hot encoding\n",
        "lb = LabelEncoder()\n",
        "X_transformed = X.copy()\n",
        "for col_name in X_cat_col:\n",
        "  X_transformed[col_name] = lb.fit_transform(X[col_name])"
      ],
      "metadata": {
        "id": "mxmQQS5S8047"
      },
      "execution_count": 19,
      "outputs": []
    },
    {
      "cell_type": "code",
      "source": [
        "# scaling\n",
        "scaler = StandardScaler()\n",
        "X_transformed_np = scaler.fit_transform(X_transformed.to_numpy())\n",
        "X_transformed = pd.DataFrame(X_transformed_np, columns = X_transformed.columns)"
      ],
      "metadata": {
        "id": "ZSHtY-ZwgCPT"
      },
      "execution_count": 20,
      "outputs": []
    },
    {
      "cell_type": "markdown",
      "metadata": {
        "id": "yh8YPfUU2ng7"
      },
      "source": [
        "We will now try to predict the grade for the third semester (G3) using the transformed features."
      ]
    },
    {
      "cell_type": "markdown",
      "metadata": {
        "id": "J64PKnEm2ng8"
      },
      "source": [
        "We will start with some theoretical questions."
      ]
    },
    {
      "cell_type": "markdown",
      "metadata": {
        "id": "uFu0VST62ng8"
      },
      "source": [
        "**Q2.2**: High dimensional feature space increases computational requirements (run-time complexity of the machine learning algorithm that handles the feature-space), at the expense of \n",
        "1. increasing error at training time - True/False\n",
        "2. increasing error at test time - True/False\n",
        "\n",
        "Briefly justify your reasoning (1 sentence)."
      ]
    },
    {
      "cell_type": "markdown",
      "metadata": {
        "id": "FXmRNWGM2ng8"
      },
      "source": [
        "**A2.2**: \n",
        "1. True\n",
        "2. False\n",
        "* High dimensional feature increases the time of convergence of the optimization algorithm (such as gradient descent) during training. \n",
        "Therefore, the increase of training error due to the high dimensional feature space cause the increase of computation. However, the error is only computed for one time during testing, thus the test error does not require much more computation. "
      ]
    },
    {
      "cell_type": "markdown",
      "metadata": {
        "id": "ljND9BLG2ng8"
      },
      "source": [
        "**Q2.3**: Regularization is crucial to \n",
        "1. reduce variance of a machine learning model without leading to a substantial increase in bias, but only until a certain limit, after which bias increases rapidly - True/False\n",
        "2. reduce bias of a machine learning algorithm without leading to a substantial increase in variance, but only until a certain limit, after which variance increases rapidly - True/False\n",
        "\n",
        "Briefly justify your reasoning (1 sentence)."
      ]
    },
    {
      "cell_type": "markdown",
      "metadata": {
        "id": "JOhmhmxX2ng8"
      },
      "source": [
        "**A2.3**: Your answer here\n",
        "1. True\n",
        "2. False\n",
        "* The bias implies how well the model fit the given dataset, while the variance implies how well the model can be generalized to unknown data. Regularization add a term to the original loss, which makes it more generalized, therefore, bias is increased, while variance is decreased. "
      ]
    },
    {
      "cell_type": "markdown",
      "metadata": {
        "id": "J8X8pPan2ng8"
      },
      "source": [
        "**Q2.4**: How would you build a model that exemplifies the condition where bias dominates (high bias, low variance)? Is this solution optimal? Why or why not? (3 sentences)"
      ]
    },
    {
      "cell_type": "markdown",
      "metadata": {
        "id": "5tSH_YA82ng8"
      },
      "source": [
        "**A2.4**: \n",
        "* If we consider a simple model (linear regression or stump (only one decision in a decision tree)), which has high bias (too simple, not accurate) and low variance (can be easily generalized).\n",
        "* This solution is not optimal because the decision boundary is too simple to capture detailed information. \n"
      ]
    },
    {
      "cell_type": "markdown",
      "metadata": {
        "id": "fMdp3pgU2ng8"
      },
      "source": [
        "**Q2.5**: How would you build a model that exemplifies the condition where variance dominates (high variance, low bias)? Is this solution optimal? Why or why not? (3 sentences)"
      ]
    },
    {
      "cell_type": "markdown",
      "metadata": {
        "id": "toFzrCBr2ng8"
      },
      "source": [
        "**A2.5**: \n",
        "* If we consider complex models (deep neural network without regularization or dropout), which has low bias (only two layers of neural network can approximate any functions) and high variance (especially when the data is simple, the network will overfit the data). \n",
        "\n",
        "* This solution is not optimal because it cannot be generalized to other data, since the decision boundary is tailored for the training data. "
      ]
    },
    {
      "cell_type": "markdown",
      "metadata": {
        "id": "wV4vmxqP2ng8"
      },
      "source": [
        "We will know move on to practical questions."
      ]
    },
    {
      "cell_type": "markdown",
      "metadata": {
        "id": "33VZYgZs2ng8"
      },
      "source": [
        "As seen in class, it is important to keep a test set to evaluate the generalization of our models. We will thus use a $90\\%/10\\%$ train/test split for the regression model evaluation."
      ]
    },
    {
      "cell_type": "code",
      "execution_count": 21,
      "metadata": {
        "id": "BZRvLrth2ng8"
      },
      "outputs": [],
      "source": [
        "X_train, X_test, y_train, y_test = train_test_split(X_transformed,y,test_size=0.1,random_state=42)"
      ]
    },
    {
      "cell_type": "markdown",
      "metadata": {
        "id": "6z052tyu2ng8"
      },
      "source": [
        "**Q2.6**: Briefly describe what methods can be used to predict the G3 grade and what the main differences between the methods are. \n",
        "Which method would I use to be the most interpretable possible? (4-5 sentences)"
      ]
    },
    {
      "cell_type": "markdown",
      "metadata": {
        "id": "jaXRp6yg2ng8"
      },
      "source": [
        "**A2.6**: We can use methods such as linear regression, ridge regression, gaussian process to predict the G3 grade.\n",
        "* Linear regression is the most interpretable method, which simply minimize the MSE loss by projecting the ground truth vector y into the column space of the feature matrix X. \n",
        "\n",
        "* Ridge regression add a regularization term to reduce the variance and make the model work better of general case. \n",
        "\n",
        "* Gaussian process output a distribution of the predicted G3 grade ($M_y, \\Sigma_y$) given the ground truth.\n",
        "\n",
        "* Neural network use multilayer of linearity followed by non-linearity (activation function) to make the model more complex to handle complex data. "
      ]
    },
    {
      "cell_type": "markdown",
      "metadata": {
        "id": "0GyBOK5Y2ng8"
      },
      "source": [
        "**Q2.7**: Train a Linear Regression model on the training data. How many features are used by the model? What three features have the highest coefficient? What are the Mean Squared Error (MSE) and $R^2$ on the test set? What do you think of the goodness of fit of the model? (1 sentence)"
      ]
    },
    {
      "cell_type": "code",
      "execution_count": 22,
      "metadata": {
        "id": "WWdqtqWd2ng8",
        "colab": {
          "base_uri": "https://localhost:8080/"
        },
        "outputId": "92c87385-6376-4796-bbd3-a7c44d8181ec"
      },
      "outputs": [
        {
          "output_type": "stream",
          "name": "stdout",
          "text": [
            "Features: 32\n",
            "['G2' 'G1' 'traveltime']\n",
            "['G2' 'G1' 'failures']\n",
            "Train MSE: 1.5748036070091371\n",
            "Train R2: 0.8506160583188033\n",
            "Test MSE: 0.6470539241672262\n",
            "Test R2: 0.9236666435023586\n"
          ]
        }
      ],
      "source": [
        "# Your code here\n",
        "from sklearn.linear_model import LinearRegression\n",
        "from sklearn.metrics import mean_squared_error, r2_score\n",
        "reg = LinearRegression().fit(X_train, y_train)\n",
        "y_train_pred = reg.predict(X_train)\n",
        "y_test_pred = reg.predict(X_test)\n",
        "\n",
        "train_MSE = mean_squared_error(y_train, y_train_pred)\n",
        "train_r_2 = r2_score(y_train, y_train_pred)\n",
        "\n",
        "test_MSE = mean_squared_error(y_test, y_test_pred)\n",
        "test_r_2 = r2_score(y_test, y_test_pred)\n",
        "\n",
        "coef = reg.coef_\n",
        "coef_abs = np.abs(coef)\n",
        "print(\"Features: \" + str(X_train.shape[1]))\n",
        "print(X.columns.to_numpy()[np.argsort(-coef)[0, :3]])\n",
        "print(X.columns.to_numpy()[np.argsort(-coef_abs)[0, :3]])\n",
        "print('Train MSE: ' + str(train_MSE))\n",
        "print('Train R2: ' + str(train_r_2))\n",
        "print('Test MSE: ' + str(test_MSE))\n",
        "print('Test R2: ' + str(test_r_2))"
      ]
    },
    {
      "cell_type": "markdown",
      "metadata": {
        "id": "tFfVjSnI2ng8"
      },
      "source": [
        "**A2.7**: 32 features are used, the G2, G1, failures have the highest three absolute coefficients (G2, G1, traveltime if we do not use absolute coefficient), the test MSE is 0.647, and $R^2$ is 0.924. The model fits the data set well since the MSE of training is much lower than the scale of the G3 grade."
      ]
    },
    {
      "cell_type": "markdown",
      "metadata": {
        "id": "X5AWnyEc2ng8"
      },
      "source": [
        "**Q2.8**: Using 10-fold cross-validation, train the best possible Ridge regression model to predict G3. What are the three parameters with the highest coefficients? What are the MSE and $R^2$ on the test set? What regularization parameter is chosen?"
      ]
    },
    {
      "cell_type": "code",
      "execution_count": 23,
      "metadata": {
        "id": "2qcpYkHg2ng9"
      },
      "outputs": [],
      "source": [
        "# Your code here\n",
        "from sklearn.linear_model import RidgeCV\n",
        "ridge_reg = RidgeCV(alphas=[1e-2, 1e-1, 7,8,9, 10, 11, 12, 13, 15], cv=10).fit(X_train, y_train)"
      ]
    },
    {
      "cell_type": "code",
      "source": [
        "coef = ridge_reg.coef_\n",
        "coef_abs = np.abs(ridge_reg.coef_)\n",
        "\n",
        "y_test_pred = ridge_reg.predict(X_test)\n",
        "\n",
        "test_MSE = mean_squared_error(y_test, y_test_pred)\n",
        "test_r_2 = r2_score(y_test, y_test_pred)\n",
        "\n",
        "print(X.columns.to_numpy()[np.argsort(-coef)[0, :3]])\n",
        "print(X.columns.to_numpy()[np.argsort(-coef_abs)[0, :3]])\n",
        "print('Test MSE: ' + str(test_MSE))\n",
        "print('Test R2: ' + str(test_r_2))\n",
        "print(ridge_reg.alpha_)"
      ],
      "metadata": {
        "colab": {
          "base_uri": "https://localhost:8080/"
        },
        "id": "x5Uh0FSZV2rP",
        "outputId": "21040b25-b323-44d3-aa86-5bd234ddb14b"
      },
      "execution_count": 24,
      "outputs": [
        {
          "output_type": "stream",
          "name": "stdout",
          "text": [
            "['G2' 'G1' 'traveltime']\n",
            "['G2' 'G1' 'failures']\n",
            "Test MSE: 0.6518215031373991\n",
            "Test R2: 0.9231042092266848\n",
            "10.0\n"
          ]
        }
      ]
    },
    {
      "cell_type": "markdown",
      "metadata": {
        "id": "AeDzVlAP2ng9"
      },
      "source": [
        "**A2.8**: The G2, G1, failures have the highest three absolute coefficients (G2, G1, traveltime if we do not use absolute coefficient), the test MSE is 0.652, and $R^2$ is 0.923. The regularization parameter chosen is 10.0."
      ]
    },
    {
      "cell_type": "markdown",
      "metadata": {
        "id": "MtE6QgdL2ng9"
      },
      "source": [
        "**Q2.9**: Using 10-fold cross-validation, train the best possible Lasso regression model to predict G3. What are the MSE and $R^2$ on the test set? What regularization parameter is chosen? \n",
        "\n",
        "How many features are used by the model? What features does the model use? Can you explain this behavior? (1 sentence)"
      ]
    },
    {
      "cell_type": "code",
      "execution_count": 25,
      "metadata": {
        "id": "WiBvNkoO2ng9",
        "colab": {
          "base_uri": "https://localhost:8080/"
        },
        "outputId": "8b64144c-e050-400c-abcc-544f861711ad"
      },
      "outputs": [
        {
          "output_type": "stream",
          "name": "stderr",
          "text": [
            "/usr/local/lib/python3.7/dist-packages/sklearn/linear_model/_coordinate_descent.py:1571: DataConversionWarning: A column-vector y was passed when a 1d array was expected. Please change the shape of y to (n_samples, ), for example using ravel().\n",
            "  y = column_or_1d(y, warn=True)\n"
          ]
        }
      ],
      "source": [
        "# Your code here\n",
        "from sklearn.linear_model import LassoCV\n",
        "lasso_reg = LassoCV(alphas=[1e-2, 1e-1, 7, 8, 9, 10, 11, 12, 13, 15], cv=10).fit(X_train, y_train)"
      ]
    },
    {
      "cell_type": "code",
      "source": [
        "y_test_pred = lasso_reg.predict(X_test)\n",
        "\n",
        "test_MSE = mean_squared_error(y_test, y_test_pred)\n",
        "test_r_2 = r2_score(y_test, y_test_pred)\n",
        "\n",
        "print('Test MSE: ' + str(test_MSE))\n",
        "print('Test R2: ' + str(test_r_2))\n",
        "print(lasso_reg.alpha_)\n"
      ],
      "metadata": {
        "colab": {
          "base_uri": "https://localhost:8080/"
        },
        "id": "vPIKiY6wZwWA",
        "outputId": "a7162637-a10f-486b-ccef-293338acbcc7"
      },
      "execution_count": 26,
      "outputs": [
        {
          "output_type": "stream",
          "name": "stdout",
          "text": [
            "Test MSE: 0.5481814709541736\n",
            "Test R2: 0.9353306887032617\n",
            "0.1\n"
          ]
        }
      ]
    },
    {
      "cell_type": "code",
      "source": [
        "feature_mask = np.abs(lasso_reg.coef_) > 0\n",
        "features = feature_mask.sum()\n",
        "print(features)\n",
        "print(X.columns.to_numpy()[feature_mask])"
      ],
      "metadata": {
        "colab": {
          "base_uri": "https://localhost:8080/"
        },
        "id": "0LiRHmNHaYTk",
        "outputId": "ec45be61-d814-40e5-fa4d-86a6f4419387"
      },
      "execution_count": 27,
      "outputs": [
        {
          "output_type": "stream",
          "name": "stdout",
          "text": [
            "8\n",
            "['school' 'sex' 'Fjob' 'studytime' 'failures' 'Dalc' 'G1' 'G2']\n"
          ]
        }
      ]
    },
    {
      "cell_type": "markdown",
      "metadata": {
        "id": "aFs8HV7o2ng9"
      },
      "source": [
        "**A2.9**: \n",
        "* The test MSE is 0.548, and $R^2$ is 0.935. The regularization parameter chosen is 0.1.\n",
        "* 8 features ('school' 'sex' 'Fjob' 'studytime' 'failures' 'Dalc' 'G1' 'G2') are used by the model. \n",
        "* Lasso regression can select feature, because the level set of the MSE loss and the regulization norm are tangent to each other mostly on the coordinate axis."
      ]
    },
    {
      "cell_type": "markdown",
      "metadata": {
        "id": "Akwl-xVp2ng9"
      },
      "source": [
        "We now remove the G1 and G2 features from the dataset."
      ]
    },
    {
      "cell_type": "code",
      "execution_count": 28,
      "metadata": {
        "id": "3mdlbYE02ng9"
      },
      "outputs": [],
      "source": [
        "X_train_hard = X_train.drop([\"G2\",\"G1\"],axis=1)\n",
        "X_test_hard = X_test.drop([\"G2\",\"G1\"],axis=1)"
      ]
    },
    {
      "cell_type": "markdown",
      "metadata": {
        "id": "5Fbn8t6W2ng9"
      },
      "source": [
        "**Q2.10**: Retrain a all your regression models. \n",
        "    \n",
        "How many features are used? What are the MSE and $R^2$  on the test set? Which model performs the best according to the $R^2$  metric? How do you explain the drop in performance? (1-2 sentences)\n",
        "\n",
        "What are the three most informative features of the Lasso regression? How do you interpret these features? Based on these features, what could you recommend to the teachers to help students achieve better grades? (2-3 sentences)"
      ]
    },
    {
      "cell_type": "code",
      "execution_count": 29,
      "metadata": {
        "id": "cgK4Uq8I2ng9",
        "colab": {
          "base_uri": "https://localhost:8080/"
        },
        "outputId": "eeaabd30-0077-47cc-be58-cc37d075db49"
      },
      "outputs": [
        {
          "output_type": "stream",
          "name": "stdout",
          "text": [
            "Features: 30\n",
            "Lasso features: 19\n",
            "Test MSE linear: 7.800681102494242\n",
            "Test MSE ridge: 7.73148142346218\n",
            "Test MSE lasso: 7.766775614607525\n",
            "Test R2 linear: 0.07974876701741862\n",
            "Test R2 ridge: 0.08791229647267262\n",
            "Test R2 lasso: 0.0837486186486629\n",
            "['failures' 'school' 'higher']\n"
          ]
        }
      ],
      "source": [
        "# Your code here\n",
        "from sklearn.linear_model import Lasso, Ridge\n",
        "lin_reg = LinearRegression().fit(X_train_hard, y_train)\n",
        "ridge_reg = Ridge(alpha = 10).fit(X_train_hard, y_train)\n",
        "lasso_reg = Lasso(alpha = 0.1).fit(X_train_hard, y_train)\n",
        "\n",
        "y_test_pred_lin = lin_reg.predict(X_test_hard)\n",
        "y_test_pred_ridge = ridge_reg.predict(X_test_hard)\n",
        "y_test_pred_lasso = lasso_reg.predict(X_test_hard)\n",
        "\n",
        "test_r_2 = r2_score(y_test, y_test_pred)\n",
        "print(\"Features: \" + str(X_train_hard.shape[1]))\n",
        "print(\"Lasso features: \" + str((np.abs(lasso_reg.coef_) > 0).sum()))\n",
        "print('Test MSE linear: ' + str(mean_squared_error(y_test, y_test_pred_lin)))\n",
        "print('Test MSE ridge: ' + str(mean_squared_error(y_test, y_test_pred_ridge)))\n",
        "print('Test MSE lasso: ' + str(mean_squared_error(y_test, y_test_pred_lasso)))\n",
        "print('Test R2 linear: ' + str(r2_score(y_test, y_test_pred_lin)))\n",
        "print('Test R2 ridge: ' + str(r2_score(y_test, y_test_pred_ridge)))\n",
        "print('Test R2 lasso: ' + str(r2_score(y_test, y_test_pred_lasso)))\n",
        "print(X_train_hard.columns.to_numpy()[np.argsort(-abs(lasso_reg.coef_))[:3]])"
      ]
    },
    {
      "cell_type": "markdown",
      "metadata": {
        "id": "F8g5G-Cj2ng9"
      },
      "source": [
        "**A2.10**: \n",
        "* 30 features are used (19 features for lasso). Ridge regression performs the best. The MSE and $R^2$ scores are:\n",
        "  - Test MSE linear: 7.800681102494242\n",
        "  - Test MSE ridge: 7.73148142346218\n",
        "  - Test MSE lasso: 7.766775614607525\n",
        "  - Test R2 linear: 0.07974876701741862\n",
        "  - Test R2 ridge: 0.08791229647267262\n",
        "  - Test R2 lasso: 0.0837486186486629\n",
        "* , the performance is worse than previous (with G1, G2), because G3 is the final year grade (issued at the 3rd period), while G1 and G2 correspond to the 1st and 2nd period grades.\n",
        "\n",
        "* ('failures' 'school' 'higher') are the most informative features. \n",
        "  * Past failures of classes can indicate the final grade, because if a student fail more course, it's more likely that he has a lower final grade.\n",
        "  * Student's school can indicate the study environment of a student, thus it has big influence on the final grade.\n",
        "  * If a student wants to take higher education, it is more likely he works harder and get good final grade. \n",
        "\n",
        "* I would recommend the teachers to spend more time on the students who failed previous classes, and encourage students to pursue higher education. Besides, different schools should learn from successful experience of each other. "
      ]
    },
    {
      "cell_type": "markdown",
      "metadata": {
        "id": "3Pm_fnjV2ng9"
      },
      "source": [
        "## Part 3: Classification (4 questions)"
      ]
    },
    {
      "cell_type": "markdown",
      "metadata": {
        "id": "jG7IwCDV2ng9"
      },
      "source": [
        "We will now try to predict a higher level feature, namely if the student passes or fails. In portugal, a student passes when their grade is above 10. "
      ]
    },
    {
      "cell_type": "markdown",
      "metadata": {
        "id": "xMY4dxiS2ng9"
      },
      "source": [
        "**Q3.1**: Conceptually, what is the difference between classification and regression. What metrics can one use to evaluate the performance of the model? Briefly describe one of these metrics. (3-4 sentences)"
      ]
    },
    {
      "cell_type": "markdown",
      "metadata": {
        "id": "Mc4lR2262ng9"
      },
      "source": [
        "**A3.1**: While regression predict the continuous values, classification predicts discrete class labels. We can use accuracy, AUC or F1 score to evalute the model. For example, F1 combines the precision() and recall of a classifier into a single metric by taking their harmonic mean.\n"
      ]
    },
    {
      "cell_type": "markdown",
      "metadata": {
        "id": "9HBnyTxh2ng9"
      },
      "source": [
        "**Q3.2**: Transform your target variable so that it fits a binary classification model (using Pass and Fail as the two options, remembering a student passes if their grade is over 10). Using the same train/test split as before and 10-fold cross validation, train the best possible Logistic Regression model with L1-regularization. Use ROC AUC to evaluate your model. \n",
        "\n",
        "What are the ROC AUC and F1 score on the test set? What is the chosen regularization parameter (rounded to the decimal)? "
      ]
    },
    {
      "cell_type": "code",
      "execution_count": 30,
      "metadata": {
        "id": "sWd3ZO1G2ng9",
        "colab": {
          "base_uri": "https://localhost:8080/"
        },
        "outputId": "ffc1fea8-45f9-4a12-a76d-91369c72f2a7"
      },
      "outputs": [
        {
          "output_type": "stream",
          "name": "stderr",
          "text": [
            "/usr/local/lib/python3.7/dist-packages/sklearn/utils/validation.py:993: DataConversionWarning: A column-vector y was passed when a 1d array was expected. Please change the shape of y to (n_samples, ), for example using ravel().\n",
            "  y = column_or_1d(y, warn=True)\n"
          ]
        },
        {
          "output_type": "stream",
          "name": "stdout",
          "text": [
            "Test ROC AUC: 0.9175084175084175\n",
            "Test F1: 0.9523809523809523\n",
            "[0.1]\n"
          ]
        }
      ],
      "source": [
        "# Your code here\n",
        "from sklearn.linear_model import LogisticRegressionCV\n",
        "from sklearn.metrics import roc_auc_score, f1_score, auc\n",
        "y_test_clf = y_test > 10\n",
        "y_train_clf = y_train > 10\n",
        "\n",
        "clf = LogisticRegressionCV(Cs = [1e-2, 1e-1, 0.3, 0.4, 0.5, 1, 2, 3],\n",
        "                           cv=10, random_state=0, penalty = 'l1',\n",
        "                           scoring = 'roc_auc', solver = 'liblinear').fit(X_train, y_train_clf)\n",
        "\n",
        "y_test_pred_clf = clf.predict(X_test)\n",
        "print(\"Test ROC AUC: \" + str(roc_auc_score(y_test_pred_clf, y_test_clf)))\n",
        "print(\"Test F1: \" + str(f1_score(y_test_pred_clf, y_test_clf)))\n",
        "print(clf.C_)"
      ]
    },
    {
      "cell_type": "markdown",
      "metadata": {
        "id": "E2I2CQo82ng9"
      },
      "source": [
        "**A3.2**: The AUC on test set is 0.918, the F1 on test set is 0.952. The chosen regularization parameter is 0.1. "
      ]
    },
    {
      "cell_type": "markdown",
      "metadata": {
        "id": "mmsuz2xB2ng9"
      },
      "source": [
        "**Q3.3**: Now use the `X_train_hard` and `X_test_hard` features to train the best possible Logistic Regression with L1-regularization in the same manner.  What are the ROC AUC and F1 scores on your test set? \n",
        "\n",
        "What are the 5 most important features for classification? How do you interpret these features? (1-2 sentences) "
      ]
    },
    {
      "cell_type": "code",
      "execution_count": 31,
      "metadata": {
        "id": "ZPkazn1e2ng-",
        "colab": {
          "base_uri": "https://localhost:8080/"
        },
        "outputId": "be4bfcb9-3397-495d-ad43-360c018ea8f0"
      },
      "outputs": [
        {
          "output_type": "stream",
          "name": "stdout",
          "text": [
            "Test ROC AUC: 0.8454545454545455\n",
            "Test F1: 0.9245283018867925\n"
          ]
        },
        {
          "output_type": "stream",
          "name": "stderr",
          "text": [
            "/usr/local/lib/python3.7/dist-packages/sklearn/utils/validation.py:993: DataConversionWarning: A column-vector y was passed when a 1d array was expected. Please change the shape of y to (n_samples, ), for example using ravel().\n",
            "  y = column_or_1d(y, warn=True)\n"
          ]
        }
      ],
      "source": [
        "# Your code here\n",
        "from sklearn.linear_model import LogisticRegression\n",
        "\n",
        "clf = LogisticRegression(C = 1e-1,penalty = 'l1', solver = 'liblinear').fit(X_train_hard, y_train_clf)\n",
        "\n",
        "y_test_pred_clf = clf.predict(X_test_hard)\n",
        "print(\"Test ROC AUC: \" + str(roc_auc_score(y_test_pred_clf, y_test_clf)))\n",
        "print(\"Test F1: \" + str(f1_score(y_test_pred_clf, y_test_clf)))\n"
      ]
    },
    {
      "cell_type": "code",
      "source": [
        "print(X_train_hard.columns.to_numpy()[np.argsort(-np.abs(clf.coef_))[0, :5]])"
      ],
      "metadata": {
        "colab": {
          "base_uri": "https://localhost:8080/"
        },
        "id": "TLZiLrkxzvSJ",
        "outputId": "7866987f-958f-4933-a6a5-204c27444bef"
      },
      "execution_count": 32,
      "outputs": [
        {
          "output_type": "stream",
          "name": "stdout",
          "text": [
            "['failures' 'school' 'higher' 'Fedu' 'absences']\n"
          ]
        }
      ]
    },
    {
      "cell_type": "markdown",
      "metadata": {
        "id": "ueoZUiPC2ng-"
      },
      "source": [
        "**A3.3**: The AUC on test set is 0.845, the F1 on test set is 0.925. The 5 most important features are ['failures', 'school', 'higher', 'Fedu', 'absences']. As explained in Q 2.10, failures, school, and whether the student wants to pursue higher education influences the final grade, thus influences the pass or fail status. Besides, father's education influences the pass status because the home environment can have an impact on learning. Also, number of school absences indicate the students' motivation to learn, thus influences the pass or fail status. "
      ]
    },
    {
      "cell_type": "markdown",
      "metadata": {
        "id": "0MQpApjY2ng-"
      },
      "source": [
        "**Q3.4**: Classify the 5 most important features of the model into the following categories: \n",
        "- student performance\n",
        "- student motivation\n",
        "- student socioeconomic background\n",
        "\n",
        "Imagine this prediction model is used in the classroom. Taking into consideration the features most predictive of passing or failing, how can these predictions be used by the teachers to help failing students? (2-3 sentences)"
      ]
    },
    {
      "cell_type": "markdown",
      "metadata": {
        "id": "oyJmPFQt2ng-"
      },
      "source": [
        "**A3.4**: \n",
        "- student performance: failures\n",
        "- student motivation: higher, absences\n",
        "- student socioeconomic background: school, Fedu\n",
        "\n",
        "The teachers could give more aid to the students who fail previous courses. Teacher could encourage students to pursue higher education , stimulates students' interest in learning and prevent them from absence. Teachers could also improve the learning environment, and pay more attention to the students' family situation. \n",
        "\n"
      ]
    },
    {
      "cell_type": "markdown",
      "metadata": {
        "id": "17SRBaIu2ng-"
      },
      "source": [
        "## Part 4: Non-linear features and models (1 question)"
      ]
    },
    {
      "cell_type": "markdown",
      "metadata": {
        "id": "G8-OA37e2ng-"
      },
      "source": [
        "The regression task becomes harder when G1 and G2 (very informative features) are removed. To try and curb this issue, we will perform feature engineering on the dataset to try to model non-linear interactions."
      ]
    },
    {
      "cell_type": "code",
      "execution_count": 33,
      "metadata": {
        "id": "Sx1MdXM62ng-",
        "colab": {
          "base_uri": "https://localhost:8080/"
        },
        "outputId": "2077bcd3-1289-4b8d-c694-947f8602c3ea"
      },
      "outputs": [
        {
          "output_type": "stream",
          "name": "stderr",
          "text": [
            "/usr/local/lib/python3.7/dist-packages/sklearn/utils/deprecation.py:87: FutureWarning: Function get_feature_names is deprecated; get_feature_names is deprecated in 1.0 and will be removed in 1.2. Please use get_feature_names_out instead.\n",
            "  warnings.warn(msg, category=FutureWarning)\n",
            "/usr/local/lib/python3.7/dist-packages/sklearn/utils/deprecation.py:87: FutureWarning: Function get_feature_names is deprecated; get_feature_names is deprecated in 1.0 and will be removed in 1.2. Please use get_feature_names_out instead.\n",
            "  warnings.warn(msg, category=FutureWarning)\n"
          ]
        }
      ],
      "source": [
        "# we use a polynomial feature transformer (degree 2) that will model feature interactions and squared features\n",
        "poly = PolynomialFeatures(2)\n",
        "X_train_FE = pd.DataFrame(poly.fit_transform(X_train_hard),\n",
        "                    columns = poly.get_feature_names(X_train_hard.columns),index=X_train_hard.index)\n",
        "X_test_FE = pd.DataFrame(poly.fit_transform(X_test_hard),\n",
        "                    columns = poly.get_feature_names(X_test_hard.columns),index=X_test_hard.index)"
      ]
    },
    {
      "cell_type": "markdown",
      "metadata": {
        "id": "jaNzBr1y2ng-"
      },
      "source": [
        "**Q4.1**: Train a `RandomForestRegressor`from the `sklearn` package on the original transformed set `X_train_hard` and the engineered set `X_train_FE`. Use GridSearch to find the best possible model. \n",
        "\n",
        "What MSE and $R^2$  do you obtain for both these models? How would you explain the difference in performance?\n",
        "\n",
        "How would you explain the difference between the performance of this model and the linear models?\n",
        "\n",
        "What are the 10 most important features?"
      ]
    },
    {
      "cell_type": "code",
      "execution_count": 34,
      "metadata": {
        "id": "AlFiC73X2ng-",
        "colab": {
          "base_uri": "https://localhost:8080/"
        },
        "outputId": "c77f899e-a12d-44a9-da00-b73c0e79b219"
      },
      "outputs": [
        {
          "output_type": "stream",
          "name": "stdout",
          "text": [
            "Fitting 10 folds for each of 80 candidates, totalling 800 fits\n"
          ]
        },
        {
          "output_type": "stream",
          "name": "stderr",
          "text": [
            "/usr/local/lib/python3.7/dist-packages/sklearn/model_selection/_search.py:926: DataConversionWarning: A column-vector y was passed when a 1d array was expected. Please change the shape of y to (n_samples,), for example using ravel().\n",
            "  self.best_estimator_.fit(X, y, **fit_params)\n"
          ]
        },
        {
          "output_type": "execute_result",
          "data": {
            "text/plain": [
              "{'min_samples_leaf': 7, 'min_samples_split': 20, 'n_estimators': 50}"
            ]
          },
          "metadata": {},
          "execution_count": 34
        }
      ],
      "source": [
        "# Your code here\n",
        "from sklearn.model_selection import GridSearchCV\n",
        "from sklearn.ensemble import RandomForestRegressor\n",
        "parameters = {'n_estimators': [50, 75, 100, 150], \n",
        "              'min_samples_split': [15, 20, 25, 30],\n",
        "              'min_samples_leaf' : [5, 7, 9, 13, 15]\n",
        "              }\n",
        "reg_hard = GridSearchCV(RandomForestRegressor(), parameters, cv=10, n_jobs=-1, verbose=1).fit(X_train_hard, y_train)\n",
        "reg_hard.best_params_"
      ]
    },
    {
      "cell_type": "code",
      "source": [
        "parameters = {'n_estimators': [10, 20, 50], \n",
        "              'min_samples_split': [2, 8, 10, 16, 20],\n",
        "              'min_samples_leaf' : [2, 10, 20]\n",
        "              }\n",
        "reg_FE = GridSearchCV(RandomForestRegressor(), parameters, cv=10, n_jobs=-1, verbose=1).fit(X_train_FE, y_train)\n",
        "reg_FE.best_params_"
      ],
      "metadata": {
        "colab": {
          "base_uri": "https://localhost:8080/"
        },
        "id": "mQ-76sn9zpXe",
        "outputId": "6ff9d275-7b0f-4e5a-c3fa-f17da65fcdce"
      },
      "execution_count": 36,
      "outputs": [
        {
          "output_type": "stream",
          "name": "stdout",
          "text": [
            "Fitting 10 folds for each of 45 candidates, totalling 450 fits\n"
          ]
        },
        {
          "output_type": "stream",
          "name": "stderr",
          "text": [
            "/usr/local/lib/python3.7/dist-packages/sklearn/model_selection/_search.py:926: DataConversionWarning: A column-vector y was passed when a 1d array was expected. Please change the shape of y to (n_samples,), for example using ravel().\n",
            "  self.best_estimator_.fit(X, y, **fit_params)\n"
          ]
        },
        {
          "output_type": "execute_result",
          "data": {
            "text/plain": [
              "{'min_samples_leaf': 10, 'min_samples_split': 2, 'n_estimators': 50}"
            ]
          },
          "metadata": {},
          "execution_count": 36
        }
      ]
    },
    {
      "cell_type": "code",
      "source": [
        "y_test_hard_pred = reg_hard.predict(X_test_hard)\n",
        "y_test_FE_pred = reg_FE.predict(X_test_FE)\n",
        "\n",
        "print('Test hard MSE: ' + str(mean_squared_error(y_test, y_test_hard_pred)))\n",
        "print('Test hard R2: ' + str(r2_score(y_test, y_test_hard_pred)))\n",
        "print('Test FE MSE: ' + str(mean_squared_error(y_test, y_test_FE_pred)))\n",
        "print('Test FE R2: ' + str(r2_score(y_test, y_test_FE_pred)))"
      ],
      "metadata": {
        "colab": {
          "base_uri": "https://localhost:8080/"
        },
        "id": "bq5fwxDPi8hR",
        "outputId": "d623a577-5a2f-4432-f525-3be3850b6b72"
      },
      "execution_count": 37,
      "outputs": [
        {
          "output_type": "stream",
          "name": "stdout",
          "text": [
            "Test hard MSE: 7.080927335017776\n",
            "Test hard R2: 0.16465856954123803\n",
            "Test FE MSE: 7.2539622055193105\n",
            "Test FE R2: 0.1442455375462366\n"
          ]
        }
      ]
    },
    {
      "cell_type": "code",
      "source": [
        "# print(X_train_hard.columns.to_numpy()[np.argsort(-np.abs(clf.coef_))[0, :5]])\n",
        "X_train_hard.columns.to_numpy()[np.argsort(-reg_hard.best_estimator_.feature_importances_)[:10]]"
      ],
      "metadata": {
        "colab": {
          "base_uri": "https://localhost:8080/"
        },
        "id": "zPLmwbto7atR",
        "outputId": "c91eb99f-bf97-4204-b95b-126ce9719c8d"
      },
      "execution_count": 39,
      "outputs": [
        {
          "output_type": "execute_result",
          "data": {
            "text/plain": [
              "array(['failures', 'school', 'absences', 'Walc', 'higher', 'Fedu',\n",
              "       'studytime', 'health', 'schoolsup', 'Dalc'], dtype=object)"
            ]
          },
          "metadata": {},
          "execution_count": 39
        }
      ]
    },
    {
      "cell_type": "code",
      "source": [
        "# print(X_train_hard.columns.to_numpy()[np.argsort(-np.abs(clf.coef_))[0, :5]])\n",
        "X_train_FE.columns.to_numpy()[np.argsort(-reg_FE.best_estimator_.feature_importances_)[:10]]"
      ],
      "metadata": {
        "colab": {
          "base_uri": "https://localhost:8080/"
        },
        "id": "mjp8Ts4ZP8ss",
        "outputId": "29ef24ca-d1d5-46e0-ddc1-f38a04af2653"
      },
      "execution_count": 40,
      "outputs": [
        {
          "output_type": "execute_result",
          "data": {
            "text/plain": [
              "array(['failures^2', 'failures', 'school Walc', 'schoolsup higher',\n",
              "       'school schoolsup', 'school Fedu', 'studytime schoolsup',\n",
              "       'higher goout', 'Medu Dalc', 'failures schoolsup'], dtype=object)"
            ]
          },
          "metadata": {},
          "execution_count": 40
        }
      ]
    },
    {
      "cell_type": "markdown",
      "metadata": {
        "id": "xXauWcne2ng-"
      },
      "source": [
        "**A4.1**: \n",
        "1. The MSE and  $R^2$  scores are:\n",
        "  * Test hard MSE: 7.212882955739302\n",
        "  * Test hard R2: 0.1490916823588947\n",
        "  * Test FE MSE: 7.2231068254770285\n",
        "  * Test FE R2: 0.14788556604566816\n",
        "  * Since the random forest randomly select features for different decision trees, and ensembles the base models, the complexity of base model may not have big effect on the overall performance. Therefore, the difference between the two features is slight. \n",
        "2. The random forest uses multiple decision tree and esemble them to make prediction. Therefore, the bias and variance of the model is reduced compared with naive linear models.\n",
        "3. The most important features are ['failures', 'school', 'absences', 'higher', 'Walc', 'studytime', 'Fedu', 'schoolsup', 'health', 'Dalc'] for hard and ['failures^2', 'failures', 'school Walc', 'schoolsup higher',\n",
        "  'school schoolsup', 'school Fedu', 'studytime schoolsup',\n",
        "  'higher goout', 'Medu Dalc', 'failures schoolsup'] for FE"
      ]
    }
  ],
  "metadata": {
    "kernelspec": {
      "display_name": "Python 3",
      "language": "python",
      "name": "python3"
    },
    "language_info": {
      "codemirror_mode": {
        "name": "ipython",
        "version": 3
      },
      "file_extension": ".py",
      "mimetype": "text/x-python",
      "name": "python",
      "nbconvert_exporter": "python",
      "pygments_lexer": "ipython3",
      "version": "3.7.6"
    },
    "colab": {
      "provenance": [],
      "collapsed_sections": []
    }
  },
  "nbformat": 4,
  "nbformat_minor": 0
}
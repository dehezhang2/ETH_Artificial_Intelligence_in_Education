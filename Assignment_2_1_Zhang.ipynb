{
  "cells": [
    {
      "cell_type": "markdown",
      "id": "3bc760ec",
      "metadata": {
        "id": "3bc760ec"
      },
      "source": [
        "# Assignment 2.1: Learner modeling - AI in Education, ETH Zurich\n",
        "\n",
        "Intelligent tutoring systems are a popular approach for providing learners an opportunity to solve tasks and problems using learning-by-doing principles. These systems track data about the sequences of student interactions and based on this information, provide individualized feedback adapted to the level of student understanding.\n",
        "\n",
        "An important part of this task is to be able to model learner performance, estimate the current state of a learner's knowledge and predict their future performance. Such models are called **Knowledge Tracing** models in the EDM literature. \n",
        "\n",
        "## Goal of Knowledge Tracing\n",
        "The goal is to model the performance of learners as they interact with a learning system. \n",
        "\n",
        "In its simplest form, this can be formalized as a supervised sequence learning task - given a learner's history of past interactions with a learning system $(x_1, ..., x_t)$, predict some aspect of learner's next interaction $x_{t+1}$. In the case of a tutoring system, the $t$-th interaction is a tuple $x_t = (q_t, a_t)$, where $q_t$ is question that the learner attempts and $a_t$ is the binary correctness of the learner's answer.  \n",
        "We predict the probability of learner answering next question correctly $p(a_{t+1} = 1 | q_{t+1}, x_{1:t})$.\n",
        "\n",
        "In the dataset we are going to use, each interaction includes a set of knowledge components (KC) tags involved in the the question. A knowledge component is a label provided by teachers / instructors which specifies which knowledge is needed to solve a question. \n",
        "\n",
        "Example: Question of `16 / 4` might be categorized in the knowledge component of `whole number division`. \n",
        "\n",
        "Please note that we will use different terms - question, item, problem type - to refer to the problem solved by learners.\n",
        "\n",
        "Knowledge tracing assumes that the probability of answering question $q$ that involves knowledge component $k$ (sometimes referred to as a skill) correctly depends on the learner's mastery of knowledge component $k$. Typically, different knowledge tracing models (encoding various assumptions about learning) are fit to the data and their comaprative fit can be evaluated. For a more detailed overview of knowldege components, please refer to knowledge-learning-instruction (KLI) theoretical framework (Koedinger 2012). \n",
        "\n",
        "## Models\n",
        "The most commonly used approaches for knowledge tracing tasks are:\n",
        "- **Bayesian Knowledge Tracing (BKT)** (Corbett and Anderson 1994)\n",
        "- **Additive Factors Model (AFM)** (Cenn et al. 2009)\n",
        "- **Performance Factor Analysis (PFA)** (Pavlik et al. 2009)\n",
        "- **Deep Knowledge Tracing (DKT)** (Piech et al. 2015)\n",
        "\n",
        "## Dataset\n",
        "In this assignment we are going to work with subsets of the following dataset:\n",
        "- [Assistment 2017 challenge](https://sites.google.com/view/assistmentsdatamining/dataset)\n",
        "\n",
        "## Learning objectives\n",
        "- Get hands on experience with datasets of student logged interactions from an educational system.\n",
        "- Compare 5 different knowledge tracing models (BKT, BKT+forgetting, AFM, PFA, DKT) in terms of AUC, RMSE and area under precision-recall curve evaluation metrics.\n",
        "- Report suggestions for teachers based on the analysis of model outputs and model parameters.\n",
        "\n",
        "## Resources\n",
        "- [pyBKT paper](https://educationaldatamining.org/EDM2021/virtual/static/pdf/EDM21_paper_237.pdf)\n",
        "- [pyBKT library](https://github.com/CAHLR/pyBKT)\n",
        "- [pyAFM library](https://github.com/cmaclell/pyAFM)\n",
        "\n",
        "## Important\n",
        "Please set your seed to the constant `SEED` everywhere random seed is used - this is crucial for reproducibility.\n",
        "\n",
        "If you have any questions, please post them on the Moodle discussion forum.\n",
        "\n",
        "Please note that some model fittings might require longer running times (several minutes on Apple Macbook 13' Pro 2016). Consider not using the full dataset when developing your solution.\n",
        "\n",
        "## Instructions\n",
        "- Please use cells which are marked as `ADD CODE HERE` for writing code for your answer. If you need more cells, you are free to create more.\n",
        "- You can use anything available in the Python ecosystem, however you need to justify the usage of any additional library or component. \n",
        "- Use meaningful variable names and document your code.\n",
        "- For each solution, provide textual description of your approach with explanations. If you used any assumptions, please document it.\n",
        "- Submit only this single notebook (do not use additional python scripts) where all cells are executed (with output)."
      ]
    },
    {
      "cell_type": "code",
      "execution_count": 1,
      "id": "a469224e",
      "metadata": {
        "id": "a469224e",
        "scrolled": true,
        "colab": {
          "base_uri": "https://localhost:8080/"
        },
        "outputId": "c78a1d60-4d7a-4619-9a6d-46fcc9e32077"
      },
      "outputs": [
        {
          "output_type": "stream",
          "name": "stdout",
          "text": [
            "Looking in indexes: https://pypi.org/simple, https://us-python.pkg.dev/colab-wheels/public/simple/\n",
            "Collecting pyBKT\n",
            "  Downloading pyBKT-1.4.tar.gz (32.7 MB)\n",
            "\u001b[K     |████████████████████████████████| 32.7 MB 221 kB/s \n",
            "\u001b[?25hRequirement already satisfied: numpy in /usr/local/lib/python3.7/dist-packages (from pyBKT) (1.21.6)\n",
            "Collecting sklearn\n",
            "  Downloading sklearn-0.0.post1.tar.gz (3.6 kB)\n",
            "Requirement already satisfied: pandas in /usr/local/lib/python3.7/dist-packages (from pyBKT) (1.3.5)\n",
            "Requirement already satisfied: requests in /usr/local/lib/python3.7/dist-packages (from pyBKT) (2.23.0)\n",
            "Requirement already satisfied: python-dateutil>=2.7.3 in /usr/local/lib/python3.7/dist-packages (from pandas->pyBKT) (2.8.2)\n",
            "Requirement already satisfied: pytz>=2017.3 in /usr/local/lib/python3.7/dist-packages (from pandas->pyBKT) (2022.6)\n",
            "Requirement already satisfied: six>=1.5 in /usr/local/lib/python3.7/dist-packages (from python-dateutil>=2.7.3->pandas->pyBKT) (1.15.0)\n",
            "Requirement already satisfied: urllib3!=1.25.0,!=1.25.1,<1.26,>=1.21.1 in /usr/local/lib/python3.7/dist-packages (from requests->pyBKT) (1.24.3)\n",
            "Requirement already satisfied: certifi>=2017.4.17 in /usr/local/lib/python3.7/dist-packages (from requests->pyBKT) (2022.9.24)\n",
            "Requirement already satisfied: chardet<4,>=3.0.2 in /usr/local/lib/python3.7/dist-packages (from requests->pyBKT) (3.0.4)\n",
            "Requirement already satisfied: idna<3,>=2.5 in /usr/local/lib/python3.7/dist-packages (from requests->pyBKT) (2.10)\n",
            "Building wheels for collected packages: pyBKT, sklearn\n",
            "  Building wheel for pyBKT (setup.py) ... \u001b[?25l\u001b[?25hdone\n",
            "  Created wheel for pyBKT: filename=pyBKT-1.4-cp37-cp37m-linux_x86_64.whl size=1024750 sha256=836af7641f8801c1a55c0a112303fd25e63b39e072c049161124b63ce8952943\n",
            "  Stored in directory: /root/.cache/pip/wheels/d4/bb/83/0fe92b544252ddb34ad6bf4fd2659abd64140612b2d418cd07\n",
            "  Building wheel for sklearn (setup.py) ... \u001b[?25l\u001b[?25hdone\n",
            "  Created wheel for sklearn: filename=sklearn-0.0.post1-py3-none-any.whl size=2344 sha256=50f59888b238df54da4f9b0354f63339787bd9513c3d176b6d896a13db6d6106\n",
            "  Stored in directory: /root/.cache/pip/wheels/42/56/cc/4a8bf86613aafd5b7f1b310477667c1fca5c51c3ae4124a003\n",
            "Successfully built pyBKT sklearn\n",
            "Installing collected packages: sklearn, pyBKT\n",
            "Successfully installed pyBKT-1.4 sklearn-0.0.post1\n"
          ]
        }
      ],
      "source": [
        "# Install pyBKT using pip\n",
        "!pip install pyBKT"
      ]
    },
    {
      "cell_type": "code",
      "execution_count": 2,
      "id": "8a400c56",
      "metadata": {
        "id": "8a400c56",
        "scrolled": true,
        "colab": {
          "base_uri": "https://localhost:8080/"
        },
        "outputId": "13dd06fc-3653-4f4d-dd69-47f24ca6f07e"
      },
      "outputs": [
        {
          "output_type": "stream",
          "name": "stdout",
          "text": [
            "Looking in indexes: https://pypi.org/simple, https://us-python.pkg.dev/colab-wheels/public/simple/\n",
            "Collecting git+https://github.com/cmaclell/pyAFM@6150afdef7ab2eabff6c439accb5f9f81af34129\n",
            "  Cloning https://github.com/cmaclell/pyAFM (to revision 6150afdef7ab2eabff6c439accb5f9f81af34129) to /tmp/pip-req-build-pysrb9gl\n",
            "  Running command git clone -q https://github.com/cmaclell/pyAFM /tmp/pip-req-build-pysrb9gl\n",
            "  Running command git rev-parse -q --verify 'sha^6150afdef7ab2eabff6c439accb5f9f81af34129'\n",
            "  Running command git fetch -q https://github.com/cmaclell/pyAFM 6150afdef7ab2eabff6c439accb5f9f81af34129\n",
            "Requirement already satisfied: tabulate in /usr/local/lib/python3.7/dist-packages (from pyafm==0.1.0) (0.8.10)\n",
            "Requirement already satisfied: numpy in /usr/local/lib/python3.7/dist-packages (from pyafm==0.1.0) (1.21.6)\n",
            "Requirement already satisfied: scipy in /usr/local/lib/python3.7/dist-packages (from pyafm==0.1.0) (1.7.3)\n",
            "Requirement already satisfied: sklearn in /usr/local/lib/python3.7/dist-packages (from pyafm==0.1.0) (0.0.post1)\n",
            "Requirement already satisfied: matplotlib in /usr/local/lib/python3.7/dist-packages (from pyafm==0.1.0) (3.2.2)\n",
            "Requirement already satisfied: python-dateutil>=2.1 in /usr/local/lib/python3.7/dist-packages (from matplotlib->pyafm==0.1.0) (2.8.2)\n",
            "Requirement already satisfied: pyparsing!=2.0.4,!=2.1.2,!=2.1.6,>=2.0.1 in /usr/local/lib/python3.7/dist-packages (from matplotlib->pyafm==0.1.0) (3.0.9)\n",
            "Requirement already satisfied: cycler>=0.10 in /usr/local/lib/python3.7/dist-packages (from matplotlib->pyafm==0.1.0) (0.11.0)\n",
            "Requirement already satisfied: kiwisolver>=1.0.1 in /usr/local/lib/python3.7/dist-packages (from matplotlib->pyafm==0.1.0) (1.4.4)\n",
            "Requirement already satisfied: typing-extensions in /usr/local/lib/python3.7/dist-packages (from kiwisolver>=1.0.1->matplotlib->pyafm==0.1.0) (4.1.1)\n",
            "Requirement already satisfied: six>=1.5 in /usr/local/lib/python3.7/dist-packages (from python-dateutil>=2.1->matplotlib->pyafm==0.1.0) (1.15.0)\n",
            "Building wheels for collected packages: pyafm\n",
            "  Building wheel for pyafm (setup.py) ... \u001b[?25l\u001b[?25hdone\n",
            "  Created wheel for pyafm: filename=pyafm-0.1.0-py3-none-any.whl size=15145 sha256=eaf21065a10fb86c6887d3057736c9d1e6c2501cddfbac1144f35aee38d485e5\n",
            "  Stored in directory: /root/.cache/pip/wheels/8f/16/0c/ba6fe55038af4d5547c6757bfb69795a121a6301ae5f8c65f0\n",
            "Successfully built pyafm\n",
            "Installing collected packages: pyafm\n",
            "Successfully installed pyafm-0.1.0\n"
          ]
        }
      ],
      "source": [
        "# Install specific version of PyAFMs using pip\n",
        "!pip install git+https://github.com/cmaclell/pyAFM@6150afdef7ab2eabff6c439accb5f9f81af34129"
      ]
    },
    {
      "cell_type": "code",
      "execution_count": 3,
      "id": "f8eb36af",
      "metadata": {
        "id": "f8eb36af"
      },
      "outputs": [],
      "source": [
        "# Import common data science libraries\n",
        "import numpy as np\n",
        "import pandas as pd\n",
        "import scipy as sc\n",
        "import matplotlib.pyplot as plt\n",
        "from typing import List, Dict, Any\n",
        "from pyBKT.models import Model\n",
        "from pyafm.custom_logistic import CustomLogistic\n",
        "import tensorflow as tf\n",
        "\n",
        "# IMPORTANT: please use this constant as a seed everywhere for reproducibility\n",
        "import random\n",
        "\n",
        "SEED = 42\n",
        "random.seed(SEED)\n",
        "np.random.seed(SEED)\n",
        "tf.random.set_seed(SEED)\n",
        "\n",
        "# ADD CODE HERE - import of any additional libraries\n",
        "import seaborn as sns\n",
        "import matplotlib.pyplot as plt"
      ]
    },
    {
      "cell_type": "markdown",
      "id": "f4d1d2a0",
      "metadata": {
        "id": "f4d1d2a0"
      },
      "source": [
        "## Load Assistment 2017 Dataset\n",
        "We are going to use dataset from Assistment tutoring system, the [Assistment 2017 dataset](https://sites.google.com/view/assistmentsdatamining/dataset). [ASSiSTment](https://www.commonsense.org/education/website/assistments) is a system for assigning and asessing math problems to students. Teachers select problems that students can complete. The student interface contains hints and immediate feedback. The original dataset has nearly 1M interactions from 1708 learners. In this assignment, we are going to use a subset of the data.\n",
        "\n",
        "Refer to the [official descriptions of the variables](https://docs.google.com/spreadsheets/d/1QVUStXiRerWbH1X0P11rJ5IsuU2Xutu60D1SjpmTMlk/edit#gid=0). Please note the unique student id in the column with name `studentId` and is renamed to `user_id` during data loading. "
      ]
    },
    {
      "cell_type": "code",
      "execution_count": 4,
      "id": "46477539",
      "metadata": {
        "id": "46477539",
        "colab": {
          "base_uri": "https://localhost:8080/",
          "height": 334
        },
        "outputId": "2c011fd9-0a14-44cf-d6f6-2c506ad12815"
      },
      "outputs": [
        {
          "output_type": "execute_result",
          "data": {
            "text/plain": [
              "   user_id  MiddleSchoolId InferredGender SY ASSISTments Usage  AveKnow  \\\n",
              "0        8               2           Male            2004-2005  0.35242   \n",
              "1        8               2           Male            2004-2005  0.35242   \n",
              "2        8               2           Male            2004-2005  0.35242   \n",
              "3        8               2           Male            2004-2005  0.35242   \n",
              "4        8               2           Male            2004-2005  0.35242   \n",
              "\n",
              "   AveCarelessness  AveCorrect  NumActions  AveResBored  AveResEngcon  ...  \\\n",
              "0          0.18328     0.48390        1056      0.20839       0.67913  ...   \n",
              "1          0.18328     0.48390        1056      0.20839       0.67913  ...   \n",
              "2          0.18328     0.48390        1056      0.20839       0.67913  ...   \n",
              "3          0.18328     0.48390        1056      0.20839       0.67913  ...   \n",
              "4          0.18328     0.48390        1056      0.20839       0.67913  ...   \n",
              "\n",
              "   RES_OFFTASK  RES_GAMING    Ln-1      Ln  MCAS Enrolled  Selective isSTEM  \\\n",
              "0      0.44027     0.00580 0.18500 0.55551    45        0          0    NaN   \n",
              "1      0.88922     0.00580 0.41900 0.73761    45        0          0    NaN   \n",
              "2      0.12259     0.00580 0.73761 0.91578    45        0          0    NaN   \n",
              "3      0.12259     0.00580 0.91578 0.97673    45        0          0    NaN   \n",
              "4      0.12259     0.00580 0.97673 0.99386    45        0          0    NaN   \n",
              "\n",
              "   prior KC success  prior KC failure  \n",
              "0                 0                 0  \n",
              "1                 0                 0  \n",
              "2                 1                 0  \n",
              "3                 2                 0  \n",
              "4                 3                 0  \n",
              "\n",
              "[5 rows x 84 columns]"
            ],
            "text/html": [
              "\n",
              "  <div id=\"df-bcda8f46-1ef5-4c7f-8d58-c3950b110843\">\n",
              "    <div class=\"colab-df-container\">\n",
              "      <div>\n",
              "<style scoped>\n",
              "    .dataframe tbody tr th:only-of-type {\n",
              "        vertical-align: middle;\n",
              "    }\n",
              "\n",
              "    .dataframe tbody tr th {\n",
              "        vertical-align: top;\n",
              "    }\n",
              "\n",
              "    .dataframe thead th {\n",
              "        text-align: right;\n",
              "    }\n",
              "</style>\n",
              "<table border=\"1\" class=\"dataframe\">\n",
              "  <thead>\n",
              "    <tr style=\"text-align: right;\">\n",
              "      <th></th>\n",
              "      <th>user_id</th>\n",
              "      <th>MiddleSchoolId</th>\n",
              "      <th>InferredGender</th>\n",
              "      <th>SY ASSISTments Usage</th>\n",
              "      <th>AveKnow</th>\n",
              "      <th>AveCarelessness</th>\n",
              "      <th>AveCorrect</th>\n",
              "      <th>NumActions</th>\n",
              "      <th>AveResBored</th>\n",
              "      <th>AveResEngcon</th>\n",
              "      <th>...</th>\n",
              "      <th>RES_OFFTASK</th>\n",
              "      <th>RES_GAMING</th>\n",
              "      <th>Ln-1</th>\n",
              "      <th>Ln</th>\n",
              "      <th>MCAS</th>\n",
              "      <th>Enrolled</th>\n",
              "      <th>Selective</th>\n",
              "      <th>isSTEM</th>\n",
              "      <th>prior KC success</th>\n",
              "      <th>prior KC failure</th>\n",
              "    </tr>\n",
              "  </thead>\n",
              "  <tbody>\n",
              "    <tr>\n",
              "      <th>0</th>\n",
              "      <td>8</td>\n",
              "      <td>2</td>\n",
              "      <td>Male</td>\n",
              "      <td>2004-2005</td>\n",
              "      <td>0.35242</td>\n",
              "      <td>0.18328</td>\n",
              "      <td>0.48390</td>\n",
              "      <td>1056</td>\n",
              "      <td>0.20839</td>\n",
              "      <td>0.67913</td>\n",
              "      <td>...</td>\n",
              "      <td>0.44027</td>\n",
              "      <td>0.00580</td>\n",
              "      <td>0.18500</td>\n",
              "      <td>0.55551</td>\n",
              "      <td>45</td>\n",
              "      <td>0</td>\n",
              "      <td>0</td>\n",
              "      <td>NaN</td>\n",
              "      <td>0</td>\n",
              "      <td>0</td>\n",
              "    </tr>\n",
              "    <tr>\n",
              "      <th>1</th>\n",
              "      <td>8</td>\n",
              "      <td>2</td>\n",
              "      <td>Male</td>\n",
              "      <td>2004-2005</td>\n",
              "      <td>0.35242</td>\n",
              "      <td>0.18328</td>\n",
              "      <td>0.48390</td>\n",
              "      <td>1056</td>\n",
              "      <td>0.20839</td>\n",
              "      <td>0.67913</td>\n",
              "      <td>...</td>\n",
              "      <td>0.88922</td>\n",
              "      <td>0.00580</td>\n",
              "      <td>0.41900</td>\n",
              "      <td>0.73761</td>\n",
              "      <td>45</td>\n",
              "      <td>0</td>\n",
              "      <td>0</td>\n",
              "      <td>NaN</td>\n",
              "      <td>0</td>\n",
              "      <td>0</td>\n",
              "    </tr>\n",
              "    <tr>\n",
              "      <th>2</th>\n",
              "      <td>8</td>\n",
              "      <td>2</td>\n",
              "      <td>Male</td>\n",
              "      <td>2004-2005</td>\n",
              "      <td>0.35242</td>\n",
              "      <td>0.18328</td>\n",
              "      <td>0.48390</td>\n",
              "      <td>1056</td>\n",
              "      <td>0.20839</td>\n",
              "      <td>0.67913</td>\n",
              "      <td>...</td>\n",
              "      <td>0.12259</td>\n",
              "      <td>0.00580</td>\n",
              "      <td>0.73761</td>\n",
              "      <td>0.91578</td>\n",
              "      <td>45</td>\n",
              "      <td>0</td>\n",
              "      <td>0</td>\n",
              "      <td>NaN</td>\n",
              "      <td>1</td>\n",
              "      <td>0</td>\n",
              "    </tr>\n",
              "    <tr>\n",
              "      <th>3</th>\n",
              "      <td>8</td>\n",
              "      <td>2</td>\n",
              "      <td>Male</td>\n",
              "      <td>2004-2005</td>\n",
              "      <td>0.35242</td>\n",
              "      <td>0.18328</td>\n",
              "      <td>0.48390</td>\n",
              "      <td>1056</td>\n",
              "      <td>0.20839</td>\n",
              "      <td>0.67913</td>\n",
              "      <td>...</td>\n",
              "      <td>0.12259</td>\n",
              "      <td>0.00580</td>\n",
              "      <td>0.91578</td>\n",
              "      <td>0.97673</td>\n",
              "      <td>45</td>\n",
              "      <td>0</td>\n",
              "      <td>0</td>\n",
              "      <td>NaN</td>\n",
              "      <td>2</td>\n",
              "      <td>0</td>\n",
              "    </tr>\n",
              "    <tr>\n",
              "      <th>4</th>\n",
              "      <td>8</td>\n",
              "      <td>2</td>\n",
              "      <td>Male</td>\n",
              "      <td>2004-2005</td>\n",
              "      <td>0.35242</td>\n",
              "      <td>0.18328</td>\n",
              "      <td>0.48390</td>\n",
              "      <td>1056</td>\n",
              "      <td>0.20839</td>\n",
              "      <td>0.67913</td>\n",
              "      <td>...</td>\n",
              "      <td>0.12259</td>\n",
              "      <td>0.00580</td>\n",
              "      <td>0.97673</td>\n",
              "      <td>0.99386</td>\n",
              "      <td>45</td>\n",
              "      <td>0</td>\n",
              "      <td>0</td>\n",
              "      <td>NaN</td>\n",
              "      <td>3</td>\n",
              "      <td>0</td>\n",
              "    </tr>\n",
              "  </tbody>\n",
              "</table>\n",
              "<p>5 rows × 84 columns</p>\n",
              "</div>\n",
              "      <button class=\"colab-df-convert\" onclick=\"convertToInteractive('df-bcda8f46-1ef5-4c7f-8d58-c3950b110843')\"\n",
              "              title=\"Convert this dataframe to an interactive table.\"\n",
              "              style=\"display:none;\">\n",
              "        \n",
              "  <svg xmlns=\"http://www.w3.org/2000/svg\" height=\"24px\"viewBox=\"0 0 24 24\"\n",
              "       width=\"24px\">\n",
              "    <path d=\"M0 0h24v24H0V0z\" fill=\"none\"/>\n",
              "    <path d=\"M18.56 5.44l.94 2.06.94-2.06 2.06-.94-2.06-.94-.94-2.06-.94 2.06-2.06.94zm-11 1L8.5 8.5l.94-2.06 2.06-.94-2.06-.94L8.5 2.5l-.94 2.06-2.06.94zm10 10l.94 2.06.94-2.06 2.06-.94-2.06-.94-.94-2.06-.94 2.06-2.06.94z\"/><path d=\"M17.41 7.96l-1.37-1.37c-.4-.4-.92-.59-1.43-.59-.52 0-1.04.2-1.43.59L10.3 9.45l-7.72 7.72c-.78.78-.78 2.05 0 2.83L4 21.41c.39.39.9.59 1.41.59.51 0 1.02-.2 1.41-.59l7.78-7.78 2.81-2.81c.8-.78.8-2.07 0-2.86zM5.41 20L4 18.59l7.72-7.72 1.47 1.35L5.41 20z\"/>\n",
              "  </svg>\n",
              "      </button>\n",
              "      \n",
              "  <style>\n",
              "    .colab-df-container {\n",
              "      display:flex;\n",
              "      flex-wrap:wrap;\n",
              "      gap: 12px;\n",
              "    }\n",
              "\n",
              "    .colab-df-convert {\n",
              "      background-color: #E8F0FE;\n",
              "      border: none;\n",
              "      border-radius: 50%;\n",
              "      cursor: pointer;\n",
              "      display: none;\n",
              "      fill: #1967D2;\n",
              "      height: 32px;\n",
              "      padding: 0 0 0 0;\n",
              "      width: 32px;\n",
              "    }\n",
              "\n",
              "    .colab-df-convert:hover {\n",
              "      background-color: #E2EBFA;\n",
              "      box-shadow: 0px 1px 2px rgba(60, 64, 67, 0.3), 0px 1px 3px 1px rgba(60, 64, 67, 0.15);\n",
              "      fill: #174EA6;\n",
              "    }\n",
              "\n",
              "    [theme=dark] .colab-df-convert {\n",
              "      background-color: #3B4455;\n",
              "      fill: #D2E3FC;\n",
              "    }\n",
              "\n",
              "    [theme=dark] .colab-df-convert:hover {\n",
              "      background-color: #434B5C;\n",
              "      box-shadow: 0px 1px 3px 1px rgba(0, 0, 0, 0.15);\n",
              "      filter: drop-shadow(0px 1px 2px rgba(0, 0, 0, 0.3));\n",
              "      fill: #FFFFFF;\n",
              "    }\n",
              "  </style>\n",
              "\n",
              "      <script>\n",
              "        const buttonEl =\n",
              "          document.querySelector('#df-bcda8f46-1ef5-4c7f-8d58-c3950b110843 button.colab-df-convert');\n",
              "        buttonEl.style.display =\n",
              "          google.colab.kernel.accessAllowed ? 'block' : 'none';\n",
              "\n",
              "        async function convertToInteractive(key) {\n",
              "          const element = document.querySelector('#df-bcda8f46-1ef5-4c7f-8d58-c3950b110843');\n",
              "          const dataTable =\n",
              "            await google.colab.kernel.invokeFunction('convertToInteractive',\n",
              "                                                     [key], {});\n",
              "          if (!dataTable) return;\n",
              "\n",
              "          const docLinkHtml = 'Like what you see? Visit the ' +\n",
              "            '<a target=\"_blank\" href=https://colab.research.google.com/notebooks/data_table.ipynb>data table notebook</a>'\n",
              "            + ' to learn more about interactive tables.';\n",
              "          element.innerHTML = '';\n",
              "          dataTable['output_type'] = 'display_data';\n",
              "          await google.colab.output.renderOutput(dataTable, element);\n",
              "          const docLink = document.createElement('div');\n",
              "          docLink.innerHTML = docLinkHtml;\n",
              "          element.appendChild(docLink);\n",
              "        }\n",
              "      </script>\n",
              "    </div>\n",
              "  </div>\n",
              "  "
            ]
          },
          "metadata": {},
          "execution_count": 4
        }
      ],
      "source": [
        "# Load dataset\n",
        "DATASET = 'https://polybox.ethz.ch/index.php/s/C9YQPNADblf3G4Y/download'\n",
        "dataset = pd.read_csv(DATASET, encoding = 'latin', low_memory = False)\n",
        "dataset = dataset.rename(columns={\"studentId\": \"user_id\", \"skill\": \"skill_name\"}).drop(\"Unnamed: 0\",axis=1)\n",
        "dataset.head(5)"
      ]
    },
    {
      "cell_type": "markdown",
      "id": "4884bf52",
      "metadata": {
        "id": "4884bf52"
      },
      "source": [
        "# Part 1: Exploratory analysis to understand the dataset\n",
        "In the first part we are going to better understand the dataset."
      ]
    },
    {
      "cell_type": "code",
      "execution_count": null,
      "id": "d6a11c2f",
      "metadata": {
        "id": "d6a11c2f",
        "colab": {
          "base_uri": "https://localhost:8080/"
        },
        "outputId": "083bc296-3e92-4321-85f0-c83f344c9dff"
      },
      "outputs": [
        {
          "output_type": "stream",
          "name": "stdout",
          "text": [
            "Total number of interactions: 26432\n",
            "Total number of learners: 1354\n",
            "Total number of questions: 89\n",
            "Total number of knowledge components: 4\n",
            "Mean KC per question: 1.0\n",
            "Median question per KC: 22.0\n",
            "Median learners per question: 105.0\n",
            "Median days per learner: 3.0\n",
            "Median interactions per learner: 16.0\n"
          ]
        }
      ],
      "source": [
        "total_interactions = dataset.shape[0]\n",
        "total_learners = dataset['user_id'].nunique()\n",
        "total_question = dataset['problemId'].nunique()\n",
        "total_kcs = dataset['skill_name'].nunique()\n",
        "mean_kc_per_question = dataset.groupby(\"problemId\").nunique()[\"skill_name\"].mean()\n",
        "median_questions_per_kc = dataset.groupby(\"skill_name\").nunique()[\"problemId\"].median()\n",
        "median_learners_per_question = dataset.groupby(\"problemId\").nunique()[\"user_id\"].median()\n",
        "\n",
        "dataset['startTimeDatetime'] = pd.to_datetime(dataset['startTime'], unit='s')\n",
        "dataset['uniqueDateId'] = (dataset['startTimeDatetime'].dt.year.astype(str)+dataset['startTimeDatetime'].dt.month.astype(str)+dataset['startTimeDatetime'].dt.day.astype(str))\n",
        "\n",
        "median_days_per_learner =  dataset.groupby(\"user_id\").nunique()[\"uniqueDateId\"].median()\n",
        "median_interactions_per_learner = dataset.reset_index().groupby('user_id').nunique()[\"index\"].median()\n",
        "\n",
        "print(\"Total number of interactions: {}\".format(total_interactions))\n",
        "print(\"Total number of learners: {}\".format(total_learners))\n",
        "print(\"Total number of questions: {}\".format(total_question))\n",
        "print(\"Total number of knowledge components: {}\".format(total_kcs))\n",
        "print(\"Mean KC per question: {}\".format(mean_kc_per_question))\n",
        "print(\"Median question per KC: {}\".format(median_questions_per_kc))\n",
        "print(\"Median learners per question: {}\".format(median_learners_per_question))\n",
        "print(\"Median days per learner: {}\".format(median_days_per_learner)) \n",
        "print(\"Median interactions per learner: {}\".format(median_interactions_per_learner))"
      ]
    },
    {
      "cell_type": "markdown",
      "id": "2987f5cd",
      "metadata": {
        "id": "2987f5cd"
      },
      "source": [
        "### Q 1.1: Distributions of the number of interactions per learner\n",
        "Plot a histogram of the number of interactions per learner (x-axis: number of interactions, y-axis: number of learners). Briefly describe the distribution (1-2 sentences)."
      ]
    },
    {
      "cell_type": "code",
      "execution_count": null,
      "id": "23599cfc",
      "metadata": {
        "id": "23599cfc",
        "colab": {
          "base_uri": "https://localhost:8080/",
          "height": 497
        },
        "outputId": "98a6a2c8-eec8-43d2-c465-c7135619c9fb"
      },
      "outputs": [
        {
          "output_type": "stream",
          "name": "stdout",
          "text": [
            "19.52141802067947\n"
          ]
        },
        {
          "output_type": "execute_result",
          "data": {
            "text/plain": [
              "(array([71., 56., 47., 35., 49., 46., 41., 38., 37., 48., 42., 43., 24.,\n",
              "        39., 36., 28., 35., 31., 34., 29., 24., 31., 27., 33., 34., 25.,\n",
              "        22., 23., 21., 23., 19., 20., 12., 12., 10., 17., 22., 13., 13.,\n",
              "         8., 11.,  8.,  3., 12., 12., 10.,  5.,  5.,  2.,  3., 10.,  4.,\n",
              "         1.,  3.,  6.,  7.,  2.,  3.,  5.,  4.,  2.,  1.,  1.,  1.,  1.,\n",
              "         2.,  1.,  1.,  1.,  1.,  1.,  2.,  1.,  2.,  2.]),\n",
              " array([ 1,  2,  3,  4,  5,  6,  7,  8,  9, 10, 11, 12, 13, 14, 15, 16, 17,\n",
              "        18, 19, 20, 21, 22, 23, 24, 25, 26, 27, 28, 29, 30, 31, 32, 33, 34,\n",
              "        35, 36, 37, 38, 39, 40, 41, 42, 43, 44, 45, 46, 47, 48, 49, 50, 51,\n",
              "        52, 53, 54, 55, 56, 57, 58, 59, 60, 61, 62, 63, 64, 65, 66, 67, 68,\n",
              "        70, 73, 74, 78, 79, 80, 86, 88]),\n",
              " <a list of 75 Patch objects>)"
            ]
          },
          "metadata": {},
          "execution_count": 139
        },
        {
          "output_type": "display_data",
          "data": {
            "text/plain": [
              "<Figure size 432x288 with 1 Axes>"
            ],
            "image/png": "[encoded data removed]"
          },
          "metadata": {
            "needs_background": "light"
          }
        }
      ],
      "source": [
        "# ADD CODE HERE\n",
        "interaction_per_learner = dataset['user_id'].value_counts().to_numpy()\n",
        "print(interaction_per_learner.mean())\n",
        "interaction_hist = np.histogram(interaction_per_learner, bins = np.unique(interaction_per_learner))\n",
        "plt.hist(interaction_hist[1][:-1], interaction_hist[1], weights=interaction_hist[0])"
      ]
    },
    {
      "cell_type": "markdown",
      "source": [
        "Answer:\n",
        "* Most of *students* has from 0 to 40 interactions with the system. The median interactions per learn is 16, the average interactions per learner is 19.5.italicized text"
      ],
      "metadata": {
        "id": "xZbnP5EsY-5m"
      },
      "id": "xZbnP5EsY-5m"
    },
    {
      "cell_type": "markdown",
      "id": "66925cb2",
      "metadata": {
        "id": "66925cb2"
      },
      "source": [
        "### Q 1.2: Distribution of the knowledge components\n",
        "Plot a histogram with the distribution of knowledge components. Briefly describe the distribution and the skills present in the dataset (1-2 sentences)."
      ]
    },
    {
      "cell_type": "code",
      "execution_count": null,
      "id": "9ecf3537",
      "metadata": {
        "id": "9ecf3537",
        "colab": {
          "base_uri": "https://localhost:8080/",
          "height": 440
        },
        "outputId": "46a003c1-ad43-4be8-9fc6-acef3ddad4cc"
      },
      "outputs": [
        {
          "output_type": "execute_result",
          "data": {
            "text/plain": [
              "<matplotlib.axes._subplots.AxesSubplot at 0x7f0b6ea96e50>"
            ]
          },
          "metadata": {},
          "execution_count": 140
        },
        {
          "output_type": "display_data",
          "data": {
            "text/plain": [
              "<Figure size 432x288 with 1 Axes>"
            ],
            "image/png": "[encoded data removed]"
          },
          "metadata": {
            "needs_background": "light"
          }
        }
      ],
      "source": [
        "# ADD CODE HERE\n",
        "kc_df = dataset['skill_name'].value_counts().rename_axis('skills').reset_index(name='counts')\n",
        "kc_df.plot.bar(x='skills', y='counts')"
      ]
    },
    {
      "cell_type": "markdown",
      "source": [
        "Answer:\n",
        "* Fraction decimals percents is used less than other skills, least common multiple and sum of interior angles triangle are used more than other skills."
      ],
      "metadata": {
        "id": "aXfsWXPUbcAb"
      },
      "id": "aXfsWXPUbcAb"
    },
    {
      "cell_type": "markdown",
      "id": "99fffebe",
      "metadata": {
        "id": "99fffebe"
      },
      "source": [
        "### Q1.3: Visualize interactions over time\n",
        "The dataset contains timestamps of student interactions. Briefly answer the following questions (1-2 sentences each):\n",
        "- Are there any differences in the practice intervals in which learning occurs for different skills? Support your answer with visualization.\n",
        "- Why might it be important to consider time in knowledege tracing tasks? "
      ]
    },
    {
      "cell_type": "code",
      "execution_count": null,
      "id": "63c1ed87",
      "metadata": {
        "id": "63c1ed87",
        "colab": {
          "base_uri": "https://localhost:8080/",
          "height": 283
        },
        "outputId": "0d8d9dd8-142d-4c83-9710-30cbb8e9c5da"
      },
      "outputs": [
        {
          "output_type": "execute_result",
          "data": {
            "text/plain": [
              "<matplotlib.axes._subplots.AxesSubplot at 0x7f0b718b77d0>"
            ]
          },
          "metadata": {},
          "execution_count": 141
        },
        {
          "output_type": "display_data",
          "data": {
            "text/plain": [
              "<Figure size 432x288 with 1 Axes>"
            ],
            "image/png": "[encoded data removed]"
          },
          "metadata": {
            "needs_background": "light"
          }
        }
      ],
      "source": [
        "# ADD CODE HERE\n",
        "timetaken_df = dataset['timeTaken'].value_counts().rename_axis('timeTaken').reset_index(name='counts')\n",
        "timetaken_df.plot.hist(x='timeTaken', y='counts')"
      ]
    },
    {
      "cell_type": "code",
      "source": [
        "# ADD CODE HERE\n",
        "y = []\n",
        "for skill in dataset['skill_name'].unique() :\n",
        "  y.append(dataset[dataset['skill_name']==skill]['timeTaken'].mean())\n",
        "plt.bar(x= dataset['skill_name'].unique() , height=y)\n",
        "plt.xticks(rotation = 90)"
      ],
      "metadata": {
        "colab": {
          "base_uri": "https://localhost:8080/",
          "height": 426
        },
        "id": "6ghFpVtzd-9U",
        "outputId": "d61004ef-8ede-466b-e11a-867d3bdcd512"
      },
      "id": "6ghFpVtzd-9U",
      "execution_count": null,
      "outputs": [
        {
          "output_type": "execute_result",
          "data": {
            "text/plain": [
              "([0, 1, 2, 3], <a list of 4 Text major ticklabel objects>)"
            ]
          },
          "metadata": {},
          "execution_count": 142
        },
        {
          "output_type": "display_data",
          "data": {
            "text/plain": [
              "<Figure size 432x288 with 1 Axes>"
            ],
            "image/png": "[encoded data removed]"
          },
          "metadata": {
            "needs_background": "light"
          }
        }
      ]
    },
    {
      "cell_type": "markdown",
      "source": [
        "Answer:\n",
        "1. As shown in the histogram above, least common multiple uses less time than other skills. The division costs the most time span to finish.\n",
        "2. Because longer timespan means the knowledge might be more difficult to handle compared with knowledge components with shorter timespan."
      ],
      "metadata": {
        "id": "wlxGubmRhCF9"
      },
      "id": "wlxGubmRhCF9"
    },
    {
      "cell_type": "markdown",
      "id": "6085bc0e",
      "metadata": {
        "id": "6085bc0e"
      },
      "source": [
        "# Part 2: Fit models and compare evaluation metrics using cross-validation\n",
        "- Work with the following models:\n",
        "    - Model 1: BKT\n",
        "    - Model 2: BKT+forgetting\n",
        "    - Model 3: AFM\n",
        "    - Model 4: PFA\n",
        "\n",
        "Overview of tasks for this section:\n",
        "- Perform student-based split into 3-folds, where each learner belongs to just one fold.\n",
        "- Compare these models in terms of AUC, RMSE and area-under-precision-recall-curve on skills defined in the list `SKILLS` - Which model has the best performance? What is the difference between those models?\n",
        "- Visualize resulting cross-validation metrics and their confidence intervals.\n",
        "\n",
        "## Additive Factors Model (AFM) and Performance Factors Analysis (PFA) \n",
        "- The Additive Factors Model is a type of logistic regression model. \n",
        "- PFA (Pavlik et al. 2009) extends the idea of AFM by taking into account whether previous answers associated with a given KC were correct or incorrect. The model learns different learning rates for correct and wrong practice opportunities. \n"
      ]
    },
    {
      "cell_type": "code",
      "execution_count": 6,
      "id": "ee88ecb6",
      "metadata": {
        "id": "ee88ecb6"
      },
      "outputs": [],
      "source": [
        "# List of skills we are interested in\n",
        "SKILLS =  [\"sum-of-interior-angles-triangle\", \"division\", \"fraction-decimals-percents\", \"least-common-multiple\"]"
      ]
    },
    {
      "cell_type": "markdown",
      "id": "46fac5eb",
      "metadata": {
        "id": "46fac5eb"
      },
      "source": [
        "### Dataset split\n",
        "To be consistent with the comparisons in the related literature, we would like to evaluate and compare models based on their ability to generalize to unseen learners. Therefore our goal is to perform a learner-based split - create 3-folds, where in each split interactions of the same student appear just in one fold. We are going to use the method `column_based_k_fold` to run 3-fold cross-validation at the learner level for all the models. "
      ]
    },
    {
      "cell_type": "code",
      "execution_count": null,
      "id": "a6e09637",
      "metadata": {
        "id": "a6e09637"
      },
      "outputs": [],
      "source": [
        "from sklearn import feature_extraction, model_selection, metrics\n",
        "\n",
        "def column_based_k_fold(df: pd.DataFrame, by_column: str, nunber_of_splits: int = 3):\n",
        "    \"\"\"\n",
        "    Splits dataset where same groups do not appear in two diverse folds.\n",
        "    :param df:                Pandas Dataframe with learner interactions.\n",
        "    :param by_column:         Which dataframe column to use for split, e.g. \"item_id\" for item-based split.\n",
        "    :param number_of_splits:  Number of folds to create, cannot be less than 2. \n",
        "    :return:                  An iterator returning tuple of arrays of (training set indices, testing set indices)\n",
        "    \"\"\"\n",
        "    X = np.arange(len(df)) \n",
        "    return model_selection.GroupKFold(n_splits=nunber_of_splits).split(X, groups=df[by_column].values)"
      ]
    },
    {
      "cell_type": "code",
      "execution_count": null,
      "id": "a001fd25",
      "metadata": {
        "id": "a001fd25",
        "colab": {
          "base_uri": "https://localhost:8080/"
        },
        "outputId": "c8acf19b-3090-4283-f507-cfb42fe75d9f"
      },
      "outputs": [
        {
          "output_type": "stream",
          "name": "stdout",
          "text": [
            "\n",
            "Cross-validation iteration number: 1\n",
            "Train set:\n",
            "       group  interaction_id\n",
            "0  student_1               1\n",
            "1  student_1               2\n",
            "Test set:\n",
            "       group  interaction_id\n",
            "2  student_2               3\n",
            "3  student_2               4\n",
            "\n",
            "Cross-validation iteration number: 2\n",
            "Train set:\n",
            "       group  interaction_id\n",
            "2  student_2               3\n",
            "3  student_2               4\n",
            "Test set:\n",
            "       group  interaction_id\n",
            "0  student_1               1\n",
            "1  student_1               2\n"
          ]
        }
      ],
      "source": [
        "# Test usage - See example of method usage and expected output\n",
        "test_df = pd.DataFrame({'group':['student_1', 'student_1', 'student_2', 'student_2'],\n",
        "                        'interaction_id': [1, 2, 3, 4]})\n",
        "for index, (train_index, test_index) in enumerate(column_based_k_fold(test_df, by_column=\"group\", nunber_of_splits=2)):\n",
        "    print(\"\\nCross-validation iteration number: {}\".format(index+1))\n",
        "    train, test = test_df.iloc[train_index], test_df.iloc[test_index]\n",
        "    print(\"Train set:\")\n",
        "    print(train)\n",
        "    print(\"Test set:\")\n",
        "    print(test)"
      ]
    },
    {
      "cell_type": "markdown",
      "id": "f4d01d0f",
      "metadata": {
        "id": "f4d01d0f"
      },
      "source": [
        "Please notice that interactions of one student belongs to just one unique fold - either train or test set in this case."
      ]
    },
    {
      "cell_type": "markdown",
      "id": "4ac55f7d",
      "metadata": {
        "id": "4ac55f7d"
      },
      "source": [
        "### Define our custom evaluation metric: area under precision recall curve"
      ]
    },
    {
      "cell_type": "markdown",
      "id": "8baf8f50",
      "metadata": {
        "id": "8baf8f50"
      },
      "source": [
        "Precision-recall curves are typically used in binary classification to study the output of a classifier. When data is imbalanced, the AUC might not reflect the true performance of the classifier. When we care about minority class, e.g. in case of knowledge tracing (assuming correct response is minority class) we would like to focus on model being able to correctly predict when student will answer a question correctly if we are using the model for downstream task such as adaptivity to not pick questions / problem which are too easy for a student."
      ]
    },
    {
      "cell_type": "code",
      "execution_count": null,
      "id": "f6bad206",
      "metadata": {
        "id": "f6bad206"
      },
      "outputs": [],
      "source": [
        "from sklearn.metrics import average_precision_score, roc_auc_score, mean_squared_error\n",
        "\n",
        "def area_under_precision_recall_curve(true_vals: np.ndarray, pred_vals: np.ndarray) -> float:\n",
        "    return average_precision_score(true_vals, pred_vals)\n",
        "\n",
        "y_true = np.array([0, 0, 1, 1])\n",
        "y_scores = np.array([0.1, 0.4, 0.35, 0.8])\n",
        "assert round(area_under_precision_recall_curve(y_true, y_scores)) == round(5/6)\n",
        "def m_rmse(true_vals: np.ndarray, pred_vals: np.ndarray) -> float:\n",
        "  return mean_squared_error(true_vals, pred_vals, squared = False)"
      ]
    },
    {
      "cell_type": "markdown",
      "source": [
        "Create variables for visualization of metrics (see Q2.7)"
      ],
      "metadata": {
        "id": "cqwQOHXn6TWK"
      },
      "id": "cqwQOHXn6TWK"
    },
    {
      "cell_type": "code",
      "source": [
        "# Store metric for each cross validation split in these variable\n",
        "# Use these varaibles for storing AUC metrics\n",
        "bkt_auc = [random.random() for _ in range(3)]\n",
        "bkt_forgetting_auc = [random.random() for _ in range(3)]\n",
        "afm_auc = [random.random() for _ in range(3)]\n",
        "pfa_auc = [random.random() for _ in range(3)]\n",
        "\n",
        "# Use these varaibles for storing RMSE metrics\n",
        "bkt_rmse = [random.random() for _ in range(3)]\n",
        "bkt_forgetting_rmse = [random.random() for _ in range(3)]\n",
        "afm_rmse = [random.random() for _ in range(3)]\n",
        "pfa_rmse = [random.random() for _ in range(3)]\n",
        "\n",
        "# Use these varaibles for storing Average precision score metrics\n",
        "bkt_ap = [random.random() for _ in range(3)]\n",
        "bkt_forgetting_ap = [random.random() for _ in range(3)]\n",
        "afm_ap = [random.random() for _ in range(3)]\n",
        "pfa_ap = [random.random() for _ in range(3)]"
      ],
      "metadata": {
        "id": "sO1CHl2o6n6l"
      },
      "id": "sO1CHl2o6n6l",
      "execution_count": null,
      "outputs": []
    },
    {
      "cell_type": "markdown",
      "id": "6213eb7a",
      "metadata": {
        "id": "6213eb7a"
      },
      "source": [
        "### Q2.1 Train and evaluate `BKT` model\n",
        "Use pyBKT library for training the BKT model. Compute evaluation metrics for each cross-validation iteration and log / print them for each iteration. Think about how to store these metrics for visualizations (Q2.7).\n",
        "\n",
        "- Implement the cross-validation with BKT model training below\n",
        "- Briefly describe (1-2 sentences): What happens when we call BKT `fit` method?"
      ]
    },
    {
      "cell_type": "code",
      "execution_count": null,
      "id": "d80b7a2b",
      "metadata": {
        "id": "d80b7a2b",
        "colab": {
          "base_uri": "https://localhost:8080/"
        },
        "outputId": "e19ecb7a-ed87-4875-da5f-4066a1f60e5f"
      },
      "outputs": [
        {
          "output_type": "stream",
          "name": "stdout",
          "text": [
            "------Fold 0-----\n",
            "Training RMSE: 0.459754\n",
            "Training AUC: 0.721544\n",
            "Training AP: 0.727538\n",
            "Testing RMSE: 0.450586\n",
            "Testing AUC: 0.745236\n",
            "Testing AP: 0.770920\n",
            "------Fold 1-----\n",
            "Training RMSE: 0.454880\n",
            "Training AUC: 0.735131\n",
            "Training AP: 0.755801\n",
            "Testing RMSE: 0.459904\n",
            "Testing AUC: 0.724993\n",
            "Testing AP: 0.720579\n",
            "------Fold 2-----\n",
            "Training RMSE: 0.453755\n",
            "Training AUC: 0.736655\n",
            "Training AP: 0.744958\n",
            "Testing RMSE: 0.461823\n",
            "Testing AUC: 0.714985\n",
            "Testing AP: 0.724208\n"
          ]
        }
      ],
      "source": [
        "BKT = Model(seed = SEED, parallel = True)\n",
        "for cv_iteration, (train_indices, test_indices) in enumerate(column_based_k_fold(dataset, by_column=\"user_id\", nunber_of_splits=3)):\n",
        "    # YOUR CODE HERE\n",
        "    print(\"------Fold {}-----\".format(cv_iteration))\n",
        "\n",
        "    train, test = dataset.iloc[train_indices], dataset.iloc[test_indices]\n",
        "    BKT.fit(data = train, skills = SKILLS)\n",
        "    training_rmse = BKT.evaluate(data=train, metric='rmse')\n",
        "    training_auc = BKT.evaluate(data=train, metric='auc')\n",
        "    training_ap = BKT.evaluate(data=train, metric=area_under_precision_recall_curve)\n",
        "    bkt_rmse[cv_iteration] = BKT.evaluate(data=test, metric='rmse')\n",
        "    bkt_auc[cv_iteration] = BKT.evaluate(data=test, metric='auc')\n",
        "    bkt_ap[cv_iteration] = BKT.evaluate(data=test, metric=area_under_precision_recall_curve)\n",
        "    \n",
        "    \n",
        "    print(\"Training RMSE: %f\" % training_rmse)\n",
        "    print(\"Training AUC: %f\" % training_auc)\n",
        "    print(\"Training AP: %f\" % training_ap)\n",
        "    print(\"Testing RMSE: %f\" % bkt_rmse[cv_iteration])\n",
        "    print(\"Testing AUC: %f\" % bkt_auc[cv_iteration])\n",
        "    print(\"Testing AP: %f\" % bkt_ap[cv_iteration])\n"
      ]
    },
    {
      "cell_type": "markdown",
      "source": [
        "Answer:\n",
        "* The BKT model is a use case of Hidden Markov Model. For each observation (interaction), the probability of the student u knows the knowledge k is updated by an update equation, and this probability will be used to compute the probability of getting a correct answer for the next interaction uses this knowledge. "
      ],
      "metadata": {
        "id": "ZIi5ub8rkGhS"
      },
      "id": "ZIi5ub8rkGhS"
    },
    {
      "cell_type": "markdown",
      "id": "7183ba14",
      "metadata": {
        "id": "7183ba14"
      },
      "source": [
        "### Q2.2: Train and evaluate `BKT+forgetting` model\n",
        "Use pyBKT library for training the BKT model with forgetting. Compute evaluation metrics for each cross-validation iteration and log / print them for each iteration. Think about how to store these metrics for future visualizations (Q 2.7)."
      ]
    },
    {
      "cell_type": "code",
      "execution_count": null,
      "id": "3b76ff2f",
      "metadata": {
        "id": "3b76ff2f",
        "colab": {
          "base_uri": "https://localhost:8080/"
        },
        "outputId": "ba2bc7a1-707a-44bf-c599-8bfa8c03fe2a"
      },
      "outputs": [
        {
          "output_type": "stream",
          "name": "stdout",
          "text": [
            "------Fold 0-----\n",
            "Training RMSE: 0.457458\n",
            "Training AUC: 0.730276\n",
            "Training AP: 0.744490\n",
            "Testing RMSE: 0.449854\n",
            "Testing AUC: 0.749728\n",
            "Testing AP: 0.771269\n",
            "------Fold 1-----\n",
            "Training RMSE: 0.453248\n",
            "Training AUC: 0.739999\n",
            "Training AP: 0.763244\n",
            "Testing RMSE: 0.459805\n",
            "Testing AUC: 0.726126\n",
            "Testing AP: 0.731889\n",
            "------Fold 2-----\n",
            "Training RMSE: 0.453070\n",
            "Training AUC: 0.740343\n",
            "Training AP: 0.754282\n",
            "Testing RMSE: 0.458507\n",
            "Testing AUC: 0.726751\n",
            "Testing AP: 0.750512\n"
          ]
        }
      ],
      "source": [
        "BKT = Model(seed = SEED, parallel = True)\n",
        "for cv_iteration, (train_indices, test_indices) in enumerate(column_based_k_fold(dataset, by_column=\"user_id\", nunber_of_splits=3)):\n",
        "    # YOUR CODE HERE\n",
        "    print(\"------Fold {}-----\".format(cv_iteration))\n",
        "\n",
        "    train, test = dataset.iloc[train_indices], dataset.iloc[test_indices]\n",
        "    \n",
        "    BKT.fit(data = train, skills = SKILLS, forgets=True)\n",
        "    training_rmse = BKT.evaluate(data=train, metric='rmse')\n",
        "    training_auc = BKT.evaluate(data=train, metric='auc')\n",
        "    training_ap = BKT.evaluate(data=train, metric=area_under_precision_recall_curve)\n",
        "    bkt_forgetting_rmse[cv_iteration] = BKT.evaluate(data=test, metric='rmse')\n",
        "    bkt_forgetting_auc[cv_iteration] = BKT.evaluate(data=test, metric='auc')\n",
        "    bkt_forgetting_ap[cv_iteration] = BKT.evaluate(data=test, metric=area_under_precision_recall_curve)\n",
        "    \n",
        "    \n",
        "    print(\"Training RMSE: %f\" % training_rmse)\n",
        "    print(\"Training AUC: %f\" % training_auc)\n",
        "    print(\"Training AP: %f\" % training_ap)\n",
        "    print(\"Testing RMSE: %f\" % bkt_forgetting_rmse[cv_iteration])\n",
        "    print(\"Testing AUC: %f\" % bkt_forgetting_auc[cv_iteration])\n",
        "    print(\"Testing AP: %f\" % bkt_forgetting_ap[cv_iteration])"
      ]
    },
    {
      "cell_type": "markdown",
      "id": "db601290",
      "metadata": {
        "id": "db601290"
      },
      "source": [
        "### AFM and PFA model\n",
        "In this section we are going to train models based on logistic regression.\n",
        "\n",
        "We are going to use `pyAFM` package which contains a custom implmentation in the model `CustomLogistic()`. It is a customized logistic regression which allows to restrict the learning rates to be positive, under the assumption that practice can only improve the likelihood that a student will get a step correct. Secondly, it prevents overfitting by L2 regularization only on the student intercepts. "
      ]
    },
    {
      "cell_type": "markdown",
      "id": "cd5103df",
      "metadata": {
        "id": "cd5103df"
      },
      "source": [
        "#### Compute prior opportunities, prior KC successes and prior KC failures\n",
        "We are going to add the following three columns to each row in the `dataframe` as additional features.\n",
        "- `prior_opportunities` - number of previous opportunities of learner with the knowledge component of a question.\n",
        "- `prior KC successes` - number of previously successfuly solved questions of learner with the knowledge component of a question.\n",
        "- `prior KC failures` - number of previously unsuccessfuly solved questions of learner with the knowledge component of a question.\n"
      ]
    },
    {
      "cell_type": "code",
      "execution_count": null,
      "id": "1c46fb24",
      "metadata": {
        "id": "1c46fb24"
      },
      "outputs": [],
      "source": [
        "# Compute prior opportunities, prior KC successes, prior KC failures (might be time-consuming and could be improved) - DO NOT CHANGE THE CODE\n",
        "dataset[\"prior_opportunities\"] = 0\n",
        "dataset[\"prior KC successes\"] = 0\n",
        "dataset[\"prior KC failures\"] = 0\n",
        "\n",
        "# Create list of unique KCs and unique student IDs\n",
        "knowledge_component_list = dataset['skill_name'].unique()\n",
        "student_ids_list = dataset['user_id'].unique()\n",
        "# Loop of all KCs\n",
        "for kc_index in range(len(knowledge_component_list)):\n",
        "    # Loop over all students\n",
        "    for student_index in range(len(student_ids_list)):\n",
        "\n",
        "        # Create temporary dataframes for different combinations\n",
        "        df_tmp = dataset.loc[\n",
        "            (dataset['user_id'] == student_ids_list[student_index]) & (dataset['skill_name'] == knowledge_component_list[kc_index])].copy()\n",
        "\n",
        "        df_tmp.sort_values(by=\"startTime\", inplace=True, key=pd.to_datetime)\n",
        "        \n",
        "        # Initialize counters for prior success and prior failure\n",
        "        counter = 0\n",
        "        correct = 0\n",
        "        incorrect = 0\n",
        "        for index, row in df_tmp.iterrows():\n",
        "            dataset[\"prior_opportunities\"].loc[index] = counter\n",
        "            counter +=1\n",
        "            dataset[\"prior KC successes\"].loc[index] = correct\n",
        "            dataset[\"prior KC failures\"].loc[index] = incorrect\n",
        "            if row['correct'] == 1:\n",
        "                correct += 1\n",
        "            else:\n",
        "                incorrect += 1"
      ]
    },
    {
      "cell_type": "code",
      "execution_count": null,
      "id": "1edd6f98",
      "metadata": {
        "id": "1edd6f98",
        "colab": {
          "base_uri": "https://localhost:8080/",
          "height": 363
        },
        "outputId": "bb2af463-84c7-4afa-8a90-defb541ff124"
      },
      "outputs": [
        {
          "output_type": "execute_result",
          "data": {
            "text/plain": [
              "   user_id                       skill_name  prior_opportunities  correct  \\\n",
              "0        8  sum-of-interior-angles-triangle                    0        1   \n",
              "1        8                         division                    0        1   \n",
              "2        8                         division                    1        1   \n",
              "3        8                         division                    2        1   \n",
              "4        8                         division                    3        1   \n",
              "5        8                         division                    4        1   \n",
              "6       35  sum-of-interior-angles-triangle                    0        0   \n",
              "7       35  sum-of-interior-angles-triangle                    1        0   \n",
              "8       35  sum-of-interior-angles-triangle                    2        1   \n",
              "9       35  sum-of-interior-angles-triangle                    3        1   \n",
              "\n",
              "   prior KC successes   startTime   startTimeDatetime  \n",
              "0                   0  1097164867 2004-10-07 16:01:07  \n",
              "1                   0  1098124282 2004-10-18 18:31:22  \n",
              "2                   1  1098125162 2004-10-18 18:46:02  \n",
              "3                   2  1098125306 2004-10-18 18:48:26  \n",
              "4                   3  1098719927 2004-10-25 15:58:47  \n",
              "5                   4  1098980116 2004-10-28 16:15:16  \n",
              "6                   0  1100526102 2004-11-15 13:41:42  \n",
              "7                   0  1100526182 2004-11-15 13:43:02  \n",
              "8                   0  1100526269 2004-11-15 13:44:29  \n",
              "9                   1  1100526408 2004-11-15 13:46:48  "
            ],
            "text/html": [
              "\n",
              "  <div id=\"df-8bb917f3-c877-4cfa-a867-a0aeef3bc97f\">\n",
              "    <div class=\"colab-df-container\">\n",
              "      <div>\n",
              "<style scoped>\n",
              "    .dataframe tbody tr th:only-of-type {\n",
              "        vertical-align: middle;\n",
              "    }\n",
              "\n",
              "    .dataframe tbody tr th {\n",
              "        vertical-align: top;\n",
              "    }\n",
              "\n",
              "    .dataframe thead th {\n",
              "        text-align: right;\n",
              "    }\n",
              "</style>\n",
              "<table border=\"1\" class=\"dataframe\">\n",
              "  <thead>\n",
              "    <tr style=\"text-align: right;\">\n",
              "      <th></th>\n",
              "      <th>user_id</th>\n",
              "      <th>skill_name</th>\n",
              "      <th>prior_opportunities</th>\n",
              "      <th>correct</th>\n",
              "      <th>prior KC successes</th>\n",
              "      <th>startTime</th>\n",
              "      <th>startTimeDatetime</th>\n",
              "    </tr>\n",
              "  </thead>\n",
              "  <tbody>\n",
              "    <tr>\n",
              "      <th>0</th>\n",
              "      <td>8</td>\n",
              "      <td>sum-of-interior-angles-triangle</td>\n",
              "      <td>0</td>\n",
              "      <td>1</td>\n",
              "      <td>0</td>\n",
              "      <td>1097164867</td>\n",
              "      <td>2004-10-07 16:01:07</td>\n",
              "    </tr>\n",
              "    <tr>\n",
              "      <th>1</th>\n",
              "      <td>8</td>\n",
              "      <td>division</td>\n",
              "      <td>0</td>\n",
              "      <td>1</td>\n",
              "      <td>0</td>\n",
              "      <td>1098124282</td>\n",
              "      <td>2004-10-18 18:31:22</td>\n",
              "    </tr>\n",
              "    <tr>\n",
              "      <th>2</th>\n",
              "      <td>8</td>\n",
              "      <td>division</td>\n",
              "      <td>1</td>\n",
              "      <td>1</td>\n",
              "      <td>1</td>\n",
              "      <td>1098125162</td>\n",
              "      <td>2004-10-18 18:46:02</td>\n",
              "    </tr>\n",
              "    <tr>\n",
              "      <th>3</th>\n",
              "      <td>8</td>\n",
              "      <td>division</td>\n",
              "      <td>2</td>\n",
              "      <td>1</td>\n",
              "      <td>2</td>\n",
              "      <td>1098125306</td>\n",
              "      <td>2004-10-18 18:48:26</td>\n",
              "    </tr>\n",
              "    <tr>\n",
              "      <th>4</th>\n",
              "      <td>8</td>\n",
              "      <td>division</td>\n",
              "      <td>3</td>\n",
              "      <td>1</td>\n",
              "      <td>3</td>\n",
              "      <td>1098719927</td>\n",
              "      <td>2004-10-25 15:58:47</td>\n",
              "    </tr>\n",
              "    <tr>\n",
              "      <th>5</th>\n",
              "      <td>8</td>\n",
              "      <td>division</td>\n",
              "      <td>4</td>\n",
              "      <td>1</td>\n",
              "      <td>4</td>\n",
              "      <td>1098980116</td>\n",
              "      <td>2004-10-28 16:15:16</td>\n",
              "    </tr>\n",
              "    <tr>\n",
              "      <th>6</th>\n",
              "      <td>35</td>\n",
              "      <td>sum-of-interior-angles-triangle</td>\n",
              "      <td>0</td>\n",
              "      <td>0</td>\n",
              "      <td>0</td>\n",
              "      <td>1100526102</td>\n",
              "      <td>2004-11-15 13:41:42</td>\n",
              "    </tr>\n",
              "    <tr>\n",
              "      <th>7</th>\n",
              "      <td>35</td>\n",
              "      <td>sum-of-interior-angles-triangle</td>\n",
              "      <td>1</td>\n",
              "      <td>0</td>\n",
              "      <td>0</td>\n",
              "      <td>1100526182</td>\n",
              "      <td>2004-11-15 13:43:02</td>\n",
              "    </tr>\n",
              "    <tr>\n",
              "      <th>8</th>\n",
              "      <td>35</td>\n",
              "      <td>sum-of-interior-angles-triangle</td>\n",
              "      <td>2</td>\n",
              "      <td>1</td>\n",
              "      <td>0</td>\n",
              "      <td>1100526269</td>\n",
              "      <td>2004-11-15 13:44:29</td>\n",
              "    </tr>\n",
              "    <tr>\n",
              "      <th>9</th>\n",
              "      <td>35</td>\n",
              "      <td>sum-of-interior-angles-triangle</td>\n",
              "      <td>3</td>\n",
              "      <td>1</td>\n",
              "      <td>1</td>\n",
              "      <td>1100526408</td>\n",
              "      <td>2004-11-15 13:46:48</td>\n",
              "    </tr>\n",
              "  </tbody>\n",
              "</table>\n",
              "</div>\n",
              "      <button class=\"colab-df-convert\" onclick=\"convertToInteractive('df-8bb917f3-c877-4cfa-a867-a0aeef3bc97f')\"\n",
              "              title=\"Convert this dataframe to an interactive table.\"\n",
              "              style=\"display:none;\">\n",
              "        \n",
              "  <svg xmlns=\"http://www.w3.org/2000/svg\" height=\"24px\"viewBox=\"0 0 24 24\"\n",
              "       width=\"24px\">\n",
              "    <path d=\"M0 0h24v24H0V0z\" fill=\"none\"/>\n",
              "    <path d=\"M18.56 5.44l.94 2.06.94-2.06 2.06-.94-2.06-.94-.94-2.06-.94 2.06-2.06.94zm-11 1L8.5 8.5l.94-2.06 2.06-.94-2.06-.94L8.5 2.5l-.94 2.06-2.06.94zm10 10l.94 2.06.94-2.06 2.06-.94-2.06-.94-.94-2.06-.94 2.06-2.06.94z\"/><path d=\"M17.41 7.96l-1.37-1.37c-.4-.4-.92-.59-1.43-.59-.52 0-1.04.2-1.43.59L10.3 9.45l-7.72 7.72c-.78.78-.78 2.05 0 2.83L4 21.41c.39.39.9.59 1.41.59.51 0 1.02-.2 1.41-.59l7.78-7.78 2.81-2.81c.8-.78.8-2.07 0-2.86zM5.41 20L4 18.59l7.72-7.72 1.47 1.35L5.41 20z\"/>\n",
              "  </svg>\n",
              "      </button>\n",
              "      \n",
              "  <style>\n",
              "    .colab-df-container {\n",
              "      display:flex;\n",
              "      flex-wrap:wrap;\n",
              "      gap: 12px;\n",
              "    }\n",
              "\n",
              "    .colab-df-convert {\n",
              "      background-color: #E8F0FE;\n",
              "      border: none;\n",
              "      border-radius: 50%;\n",
              "      cursor: pointer;\n",
              "      display: none;\n",
              "      fill: #1967D2;\n",
              "      height: 32px;\n",
              "      padding: 0 0 0 0;\n",
              "      width: 32px;\n",
              "    }\n",
              "\n",
              "    .colab-df-convert:hover {\n",
              "      background-color: #E2EBFA;\n",
              "      box-shadow: 0px 1px 2px rgba(60, 64, 67, 0.3), 0px 1px 3px 1px rgba(60, 64, 67, 0.15);\n",
              "      fill: #174EA6;\n",
              "    }\n",
              "\n",
              "    [theme=dark] .colab-df-convert {\n",
              "      background-color: #3B4455;\n",
              "      fill: #D2E3FC;\n",
              "    }\n",
              "\n",
              "    [theme=dark] .colab-df-convert:hover {\n",
              "      background-color: #434B5C;\n",
              "      box-shadow: 0px 1px 3px 1px rgba(0, 0, 0, 0.15);\n",
              "      filter: drop-shadow(0px 1px 2px rgba(0, 0, 0, 0.3));\n",
              "      fill: #FFFFFF;\n",
              "    }\n",
              "  </style>\n",
              "\n",
              "      <script>\n",
              "        const buttonEl =\n",
              "          document.querySelector('#df-8bb917f3-c877-4cfa-a867-a0aeef3bc97f button.colab-df-convert');\n",
              "        buttonEl.style.display =\n",
              "          google.colab.kernel.accessAllowed ? 'block' : 'none';\n",
              "\n",
              "        async function convertToInteractive(key) {\n",
              "          const element = document.querySelector('#df-8bb917f3-c877-4cfa-a867-a0aeef3bc97f');\n",
              "          const dataTable =\n",
              "            await google.colab.kernel.invokeFunction('convertToInteractive',\n",
              "                                                     [key], {});\n",
              "          if (!dataTable) return;\n",
              "\n",
              "          const docLinkHtml = 'Like what you see? Visit the ' +\n",
              "            '<a target=\"_blank\" href=https://colab.research.google.com/notebooks/data_table.ipynb>data table notebook</a>'\n",
              "            + ' to learn more about interactive tables.';\n",
              "          element.innerHTML = '';\n",
              "          dataTable['output_type'] = 'display_data';\n",
              "          await google.colab.output.renderOutput(dataTable, element);\n",
              "          const docLink = document.createElement('div');\n",
              "          docLink.innerHTML = docLinkHtml;\n",
              "          element.appendChild(docLink);\n",
              "        }\n",
              "      </script>\n",
              "    </div>\n",
              "  </div>\n",
              "  "
            ]
          },
          "metadata": {},
          "execution_count": 151
        }
      ],
      "source": [
        "# Just a quick check\n",
        "dataset[[\"user_id\", \"skill_name\", \"prior_opportunities\", \"correct\", \"prior KC successes\", \"startTime\", \"startTimeDatetime\"]].head(10)"
      ]
    },
    {
      "cell_type": "markdown",
      "id": "84d4b928",
      "metadata": {
        "id": "84d4b928"
      },
      "source": [
        "Let's use these columns to compute input and output features."
      ]
    },
    {
      "cell_type": "code",
      "execution_count": null,
      "id": "034c911c",
      "metadata": {
        "id": "034c911c"
      },
      "outputs": [],
      "source": [
        "# Adapted from pyAFM library - do not change the cell, if needed please document why\n",
        "# pyAFM helpers to create input and output matrices\n",
        "\n",
        "student_ids, knowledge_components, prior_opportunities, ground_truths = [], [], [], []\n",
        "# Iterate over all data points and create dictionaries with features\n",
        "for _, row in dataset.iterrows():\n",
        "    student_id = row['user_id']\n",
        "    knowledge_component = row['skill_name']\n",
        "    correct = row['correct']\n",
        "    prior_kc_opps = row[\"prior_opportunities\"] \n",
        "    student_ids.append({student_id: 1})\n",
        "    knowledge_components.append({knowledge_component: 1})\n",
        "    prior_opportunities.append({knowledge_component: prior_kc_opps})\n",
        "    ground_truths.append(correct)\n",
        "\n",
        "# Use dictionaries to vectorize features\n",
        "student_identity_matrix = feature_extraction.DictVectorizer().fit_transform(student_ids)\n",
        "knowledge_component_identity_matrix = feature_extraction.DictVectorizer().fit_transform(knowledge_components)\n",
        "student_kc_opportunities_matrix = feature_extraction.DictVectorizer().fit_transform(prior_opportunities)\n",
        "X = sc.sparse.hstack((student_identity_matrix, \n",
        "                      knowledge_component_identity_matrix, \n",
        "                      student_kc_opportunities_matrix))\n",
        "X = X.toarray()\n",
        "y = np.array(ground_truths)\n",
        "\n",
        "# Initialize l2 and bounds\n",
        "l2 = [1.0 for i in range(student_identity_matrix.shape[1])]\n",
        "l2 += [0.0 for i in range(knowledge_component_identity_matrix.shape[1])]\n",
        "l2 += [0.0 for i in range(student_kc_opportunities_matrix.shape[1])]\n",
        "bounds = [(None, None) for i in range(student_identity_matrix.shape[1])]\n",
        "bounds += [(None, None) for i in range(knowledge_component_identity_matrix.shape[1])]\n",
        "bounds += [(0, None) for i in range(student_kc_opportunities_matrix.shape[1])]"
      ]
    },
    {
      "cell_type": "markdown",
      "id": "bfa99faa",
      "metadata": {
        "id": "bfa99faa"
      },
      "source": [
        "### Q2.3: Number of learnable parameters\n",
        "Analyze the code above and matrices `student_identity_matrix`, `knowledge_component_identity_matrix`, `student_kc_opportunities_matrix`, `X` and `y`. \n",
        "\n",
        "Briefly describe:\n",
        "- Describe idea of AFM model (2-3 sentences).\n",
        "- How many learnable parameters does the model have? Use the code cell below to compute the answer."
      ]
    },
    {
      "cell_type": "markdown",
      "source": [
        "Answer:\n",
        "* The idea of AFM is actually logistic regression with feature engineering. AFM models the student's ability in parameter $\\theta$, difficulty of the knowledge in parameter $\\beta$, and occurence of the knowledge in past experience in parameter $\\gamma$. Correspondingly, the features includes: student identity matrix to multiply with $\\theta$, boolean matrix to identify whether the knowledge is used to multiply with $\\beta$, and number of occurence of the knowledge to multiply with $\\gamma$. "
      ],
      "metadata": {
        "id": "QI3HxUhBo6-N"
      },
      "id": "QI3HxUhBo6-N"
    },
    {
      "cell_type": "code",
      "source": [
        "print(\"Number of parameters: \" + str(student_identity_matrix.shape[1] + knowledge_component_identity_matrix.shape[1] + student_kc_opportunities_matrix.shape[1]))"
      ],
      "metadata": {
        "colab": {
          "base_uri": "https://localhost:8080/"
        },
        "id": "6d0_1K7HoeIA",
        "outputId": "fbcf478b-9f35-44bd-f6bd-34cb95f91a32"
      },
      "id": "6d0_1K7HoeIA",
      "execution_count": null,
      "outputs": [
        {
          "output_type": "stream",
          "name": "stdout",
          "text": [
            "Number of parameters: 1362\n"
          ]
        }
      ]
    },
    {
      "cell_type": "markdown",
      "id": "c94b790d",
      "metadata": {
        "id": "c94b790d"
      },
      "source": [
        "### Q2.4: Train and evaluate `AFM` model\n",
        "Use `CustomLogistic` from pyAFM library for training the AFM model and use the input and output variables computed in the previous cells. Compute evaluation metrics for each cross-validation iteration and log / print them for each iteration. Think about how to store these metrics for future visualizations (Q 2.10).\n",
        "\n",
        "- Implement the cross-validation with AFM model training below\n",
        "- Briefly describe (1-2 sentences): What happens when we call `CustomLogistic` fit method? Take a look at the `custom_logistic.py` from the library `pyAFM` to understand better how the model is trained."
      ]
    },
    {
      "cell_type": "code",
      "execution_count": null,
      "id": "d31216b7",
      "metadata": {
        "id": "d31216b7",
        "colab": {
          "base_uri": "https://localhost:8080/"
        },
        "outputId": "9dae0f58-23f5-4f46-a213-70a6558add54"
      },
      "outputs": [
        {
          "output_type": "stream",
          "name": "stdout",
          "text": [
            "------Fold 0-----\n",
            "Training RMSE: 0.546151\n",
            "Training AUC: 0.659274\n",
            "Training AP: 0.535297\n",
            "Testing RMSE: 0.650467\n",
            "Testing AUC: 0.541123\n",
            "Testing AP: 0.414624\n",
            "------Fold 1-----\n",
            "Training RMSE: 0.540353\n",
            "Training AUC: 0.662195\n",
            "Training AP: 0.535071\n",
            "Testing RMSE: 0.645123\n",
            "Testing AUC: 0.550902\n",
            "Testing AP: 0.432040\n",
            "------Fold 2-----\n",
            "Training RMSE: 0.534318\n",
            "Training AUC: 0.672120\n",
            "Training AP: 0.546168\n",
            "Testing RMSE: 0.648494\n",
            "Testing AUC: 0.547579\n",
            "Testing AP: 0.426307\n"
          ]
        }
      ],
      "source": [
        "# ADD CORE HERE\n",
        "\n",
        "afm_model = CustomLogistic(bounds=bounds, l2=l2, fit_intercept=False)\n",
        "\n",
        "for cv_iteration, (train_indices, test_indices) in enumerate(column_based_k_fold(dataset, by_column=\"user_id\", nunber_of_splits=3)):\n",
        "    # ADD CODE HERE\n",
        "    # YOUR CODE HERE\n",
        "    print(\"------Fold {}-----\".format(cv_iteration))\n",
        "    X_train, X_test, y_train, y_test = X[train_indices], X[test_indices], y[train_indices], y[test_indices]\n",
        "    afm_model.fit(X = X_train, y = y_train)\n",
        "    y_train_pred = afm_model.predict(X_train)\n",
        "    y_test_pred = afm_model.predict(X_test)\n",
        "    \n",
        "\n",
        "    training_rmse = mean_squared_error(y_train, y_train_pred, squared = False)\n",
        "    training_auc = roc_auc_score(y_train, y_train_pred)\n",
        "    training_ap = area_under_precision_recall_curve(y_train, y_train_pred)\n",
        "    afm_rmse[cv_iteration] = mean_squared_error(y_test, y_test_pred, squared = False)\n",
        "    afm_auc[cv_iteration] = roc_auc_score(y_test, y_test_pred)\n",
        "    afm_ap[cv_iteration] = area_under_precision_recall_curve(y_test, y_test_pred)\n",
        "    \n",
        "    \n",
        "    print(\"Training RMSE: %f\" % training_rmse)\n",
        "    print(\"Training AUC: %f\" % training_auc)\n",
        "    print(\"Training AP: %f\" % training_ap)\n",
        "    print(\"Testing RMSE: %f\" % afm_rmse[cv_iteration])\n",
        "    print(\"Testing AUC: %f\" % afm_auc[cv_iteration])\n",
        "    print(\"Testing AP: %f\" % afm_ap[cv_iteration])"
      ]
    },
    {
      "cell_type": "markdown",
      "source": [
        "Answer:\n",
        "* The dot product between parameters $\\theta, \\beta, \\gamma$ and the features student identity, knowledge identity, and number of occurrence is fitted into a sigmoid function and trained the same as logistic regression. "
      ],
      "metadata": {
        "id": "uMgp45xTqmC1"
      },
      "id": "uMgp45xTqmC1"
    },
    {
      "cell_type": "markdown",
      "id": "0385de2b",
      "metadata": {
        "id": "0385de2b"
      },
      "source": [
        "### Performance Factor Analysis model\n",
        "Similarly, in this part we are going to train and evalute PFA model."
      ]
    },
    {
      "cell_type": "code",
      "execution_count": null,
      "id": "383337aa",
      "metadata": {
        "id": "383337aa"
      },
      "outputs": [],
      "source": [
        "# Adapted from pyAFM library - do not change the cell, if needed please document why\n",
        "# pyAFM helpers to create input and output matrices\n",
        "\n",
        "student_ids, knowledge_components, ground_truths, prior_number_successes, prior_number_failures = [], [], [], [], []\n",
        "# Iterate over all data points and create dictionaries with features\n",
        "for _, row in dataset.iterrows():\n",
        "    student_id = row['user_id']\n",
        "    knowledge_component = row['skill_name']\n",
        "    correct = row['correct']\n",
        "    prior_successes = row[\"prior KC successes\"] \n",
        "    prior_failures = row[\"prior KC failures\"]\n",
        "\n",
        "    student_ids.append({student_id: 1})\n",
        "    knowledge_components.append({knowledge_component: 1})\n",
        "    ground_truths.append(correct)\n",
        "    prior_number_successes.append({knowledge_component: int(prior_successes)})\n",
        "    prior_number_failures.append({knowledge_component: int(prior_failures)})\n",
        "\n",
        "# Use dictionaries to vectorize features\n",
        "student_identity_matrix = feature_extraction.DictVectorizer().fit_transform(student_ids)\n",
        "knowledge_component_identity_matrix = feature_extraction.DictVectorizer().fit_transform(knowledge_components)\n",
        "student_kc_prior_sucess_matrix = feature_extraction.DictVectorizer().fit_transform(prior_number_successes)\n",
        "student_kc_prior_failure_matrix = feature_extraction.DictVectorizer().fit_transform(prior_number_failures)\n",
        "X = sc.sparse.hstack((student_identity_matrix, knowledge_component_identity_matrix, \n",
        "                      student_kc_prior_sucess_matrix, student_kc_prior_failure_matrix))\n",
        "X = X.toarray()\n",
        "y = np.array(ground_truths)\n",
        "\n",
        "# Initialize l2 and bounds\n",
        "l2 = [1.0 for i in range(student_identity_matrix.shape[1])]\n",
        "l2 += [0.0 for i in range(knowledge_component_identity_matrix.shape[1])]\n",
        "l2 += [0.0 for i in range(student_kc_prior_sucess_matrix.shape[1])]\n",
        "l2 += [0.0 for i in range(student_kc_prior_failure_matrix.shape[1])]\n",
        "bounds = [(None, None) for i in range(student_identity_matrix.shape[1])]\n",
        "bounds += [(None, None) for i in range(knowledge_component_identity_matrix.shape[1])]\n",
        "bounds += [(0, None) for i in range(student_kc_prior_sucess_matrix.shape[1])]\n",
        "bounds += [(0, None) for i in range(student_kc_prior_failure_matrix.shape[1])]"
      ]
    },
    {
      "cell_type": "markdown",
      "id": "1e354968",
      "metadata": {
        "id": "1e354968"
      },
      "source": [
        "### Q2.5: Number of learnable parameters\n",
        "Analyze the code above and matrices `student_identity_matrix`, `knowledge_component_identity_matrix`, `student_kc_prior_sucess_matrix`, `student_kc_prior_failure_matrix`, `X` and `y`. \n",
        "\n",
        "Briefly describe:\n",
        "- Describe idea of PFA model (2-3 sentences).\n",
        "- How many learnable parameters does the model have? What is the difference between AFM and PFA? Use the code cell below to compute the answer. "
      ]
    },
    {
      "cell_type": "markdown",
      "source": [
        "Answer:\n",
        "* PFA model is based on AFM, the difference is that it seperates the occurrence of the knowledge in the past experience ($γ$) into two parts: number of correct interaction modeled by $\\gamma$ and number of incorrect interaction modeled by $\\delta$. The intuition is that the correct and incorrect experience may have different influence on the learning of the knowledge. \n",
        "\n",
        "* The difference is that PFA separates the correct experience and incorrect experience. "
      ],
      "metadata": {
        "id": "XF48swn1zQ7s"
      },
      "id": "XF48swn1zQ7s"
    },
    {
      "cell_type": "code",
      "execution_count": null,
      "id": "2df75110",
      "metadata": {
        "id": "2df75110",
        "colab": {
          "base_uri": "https://localhost:8080/"
        },
        "outputId": "2c5ecbd3-9aed-4dca-f35f-8c893e3d6c25"
      },
      "outputs": [
        {
          "output_type": "stream",
          "name": "stdout",
          "text": [
            "Number of parameters: 1366\n"
          ]
        }
      ],
      "source": [
        "# ADD CODE HERE\n",
        "print(\"Number of parameters: \" + str(student_identity_matrix.shape[1] + knowledge_component_identity_matrix.shape[1] + student_kc_prior_sucess_matrix.shape[1] * 2))"
      ]
    },
    {
      "cell_type": "markdown",
      "id": "a4ce3a80",
      "metadata": {
        "id": "a4ce3a80"
      },
      "source": [
        "### Q2.6: Train and evaluate `PFA` model\n",
        "Use pyAFM library for training the PFA model using `CustomLogistic` model. Compute evaluation metrics for each cross-validation iteration and log / print them for each iteration. Think about how to store these metrics for future visualizations (Q 2.10)."
      ]
    },
    {
      "cell_type": "code",
      "execution_count": null,
      "id": "375da90e",
      "metadata": {
        "id": "375da90e",
        "colab": {
          "base_uri": "https://localhost:8080/"
        },
        "outputId": "47178367-454e-4a35-8bbb-b0ff04727279"
      },
      "outputs": [
        {
          "output_type": "stream",
          "name": "stdout",
          "text": [
            "------Fold 0-----\n",
            "Training RMSE: 0.544016\n",
            "Training AUC: 0.664204\n",
            "Training AP: 0.538476\n",
            "Testing RMSE: 0.628910\n",
            "Testing AUC: 0.577276\n",
            "Testing AP: 0.438531\n",
            "------Fold 1-----\n",
            "Training RMSE: 0.539302\n",
            "Training AUC: 0.665830\n",
            "Training AP: 0.536793\n",
            "Testing RMSE: 0.630172\n",
            "Testing AUC: 0.581664\n",
            "Testing AP: 0.452419\n",
            "------Fold 2-----\n",
            "Training RMSE: 0.529249\n",
            "Training AUC: 0.679023\n",
            "Training AP: 0.553279\n",
            "Testing RMSE: 0.636481\n",
            "Testing AUC: 0.573599\n",
            "Testing AP: 0.443091\n"
          ]
        }
      ],
      "source": [
        "from pyafm.custom_logistic import CustomLogistic\n",
        "\n",
        "pfa_model = CustomLogistic(bounds=bounds, l2=l2, fit_intercept=False)\n",
        "\n",
        "for cv_iteration, (train_indices, test_indices) in enumerate(column_based_k_fold(dataset, by_column=\"user_id\", nunber_of_splits=3)):\n",
        "    print(\"------Fold {}-----\".format(cv_iteration))\n",
        "    X_train, X_test, y_train, y_test = X[train_indices], X[test_indices], y[train_indices], y[test_indices]\n",
        "    pfa_model.fit(X = X_train, y = y_train)\n",
        "    y_train_pred = pfa_model.predict(X_train)\n",
        "    y_test_pred = pfa_model.predict(X_test)\n",
        "    \n",
        "\n",
        "    training_rmse = mean_squared_error(y_train, y_train_pred, squared = False)\n",
        "    training_auc = roc_auc_score(y_train, y_train_pred)\n",
        "    training_ap = area_under_precision_recall_curve(y_train, y_train_pred)\n",
        "    pfa_rmse[cv_iteration] = mean_squared_error(y_test, y_test_pred, squared = False)\n",
        "    pfa_auc[cv_iteration] = roc_auc_score(y_test, y_test_pred)\n",
        "    pfa_ap[cv_iteration] = area_under_precision_recall_curve(y_test, y_test_pred)\n",
        "    \n",
        "    \n",
        "    print(\"Training RMSE: %f\" % training_rmse)\n",
        "    print(\"Training AUC: %f\" % training_auc)\n",
        "    print(\"Training AP: %f\" % training_ap)\n",
        "    print(\"Testing RMSE: %f\" % pfa_rmse[cv_iteration])\n",
        "    print(\"Testing AUC: %f\" % pfa_auc[cv_iteration])\n",
        "    print(\"Testing AP: %f\" % pfa_ap[cv_iteration])"
      ]
    },
    {
      "cell_type": "markdown",
      "id": "cf120976",
      "metadata": {
        "id": "cf120976"
      },
      "source": [
        "### Visualize all metrics using bar plot with confidence intervals\n",
        "Bar plot visualizing all metrics (RMSE, AUC, AP) for each model. The code compute your final results as the mean over all cross-validation splits for each model. Visualization contains confidence intervals to measure variance across results per fold. \n",
        " \n",
        "Hint: Don't forget to store all cross-validation results for each split in an array. "
      ]
    },
    {
      "cell_type": "code",
      "execution_count": null,
      "id": "76f349e7",
      "metadata": {
        "id": "76f349e7",
        "colab": {
          "base_uri": "https://localhost:8080/",
          "height": 721
        },
        "outputId": "1522d422-60e5-4288-8fd9-4ca688ba7013"
      },
      "outputs": [
        {
          "output_type": "display_data",
          "data": {
            "text/plain": [
              "<Figure size 1080x360 with 3 Axes>"
            ],
            "image/png": "[encoded data removed]"
          },
          "metadata": {
            "needs_background": "light"
          }
        },
        {
          "output_type": "display_data",
          "data": {
            "text/plain": [
              "<Figure size 1080x360 with 3 Axes>"
            ],
            "image/png": "[encoded data removed]"
          },
          "metadata": {
            "needs_background": "light"
          }
        }
      ],
      "source": [
        "import seaborn as sns\n",
        "\n",
        "# Fill all the variables in previous questions\n",
        "metrics = {'AUC': {'BKT': bkt_auc, 'BKT+forgetting': bkt_forgetting_auc, 'AFM': afm_auc, 'PFA': pfa_auc}, \n",
        "           'RMSE': {'BKT': bkt_rmse, 'BKT+forgetting': bkt_forgetting_rmse, 'AFM': afm_rmse, 'PFA': pfa_rmse},\n",
        "           'Average Precision': {'BKT': bkt_ap, 'BKT+forgetting': bkt_forgetting_ap, 'AFM': afm_ap, 'PFA': pfa_ap}}\n",
        "\n",
        "plt.figure(figsize=(15, 5))\n",
        "\n",
        "for index, metric_key in enumerate(metrics.keys()):\n",
        "\n",
        "    plt.subplot(1, len(metrics), index + 1)\n",
        "    plt.title(metric_key)\n",
        "    sns.boxplot(x='variable', y='value', data=pd.melt(pd.DataFrame(metrics[metric_key])))\n",
        "    plt.ylabel(metric_key)\n",
        "    plt.xlabel('Model')\n",
        "\n",
        "plt.tight_layout()\n",
        "plt.show()\n",
        "\n",
        "\n",
        "plt.figure(figsize=(15, 5))\n",
        "for index, metric_key in enumerate(metrics.keys()):\n",
        "    plt.subplot(1, len(metrics), index + 1)\n",
        "    means, errors, labels = [], [], []\n",
        "    for model_key, model_scores in metrics[metric_key].items():\n",
        "        means.append(np.mean(model_scores))\n",
        "        errors.append(np.std(model_scores))\n",
        "        labels.append(model_key)\n",
        "    x_pos = np.arange(len(labels))\n",
        "    plt.bar(x_pos, means, yerr=errors, align='center', alpha=0.7, ecolor='black', capsize=15)\n",
        "    plt.grid(axis='y')\n",
        "    plt.xticks(x_pos, labels)\n",
        "    plt.ylabel(metric_key)\n",
        "    plt.ylim(0, 1.0)\n",
        "plt.tight_layout()\n",
        "plt.show()"
      ]
    },
    {
      "cell_type": "markdown",
      "id": "01090105",
      "metadata": {
        "id": "01090105"
      },
      "source": [
        "### Q 2.7: Compare and discuss the performance of these models. \n",
        "Comment on the results visualization and specifically compare (2 sentences each):\n",
        "- BKT and BKT+forgetting - provide a brief comparison based on the empirical evidence, does modeling forgetting help?\n",
        "- AFM and PFA - provide a brief comparison based on the empirical evidence, does the split into success and failures help? Could you provide a theoretical comparison?\n",
        "- Bayesian approaches vs. logistic regression based ones - which approach is generally better for this dataset?\n",
        "- Which model is not stable across cross-validation folds in terms of standard deviations? Why may that be the case?"
      ]
    },
    {
      "cell_type": "markdown",
      "source": [
        "Answer:\n",
        "* As shown in the figure BKT + forgetting slightly outperform BKT in terms of AUC and Average Precision and the RMSE is smaller. This means forgetting do help to improve the model, but only a little bit.\n",
        "* AFM and PFA:\n",
        "  * Spliting into success and failure do help improve the AUC and Average Precision and decrease the RMSE. And the improvement is larger than the previous question (BKT + forgetting).\n",
        "  * The theory behind this is that: we can AFM as PFA model with same coefficient for success occurrence and failure occurence. For PFA, the coefficient is different for these two features, which provides the model a larger ability to fit the data. In other word, PFA increase the dimensionality of the data, and make the model more complex.\n",
        "* Bayesian approaches are better than logistic regression based approaches as shown in the plot.\n",
        "* The most unstable model is BKT as shown in the figure. The reason might be that BKT is sensitive to prior information. If there is an outlier, the prior information is easily affected. Thus the variance is increased. Besides, compared with BKT + forgetting, BKT doesn't model the forgetting connection, which makes it unstable.\n"
      ],
      "metadata": {
        "id": "OvWRYfIf9H-s"
      },
      "id": "OvWRYfIf9H-s"
    },
    {
      "cell_type": "markdown",
      "id": "bfbffea4",
      "metadata": {
        "id": "bfbffea4"
      },
      "source": [
        "### Q2.8: Compare DKT with BKT+forgetting\n",
        "DKT uses neural networks to learn features automatically instead of hand-crafting features. In this part, we have already provided the code for comparison of DKT and BKT+forgetting. Run the code and compare these models. The code contains definitions of DKT model, BKT+forgetting model and data splitting. DKT model is written in Tensorflow 2.0 - please refer to the [Tensorflow tutorials](https://www.tensorflow.org/tutorials) for more details.\n",
        "\n",
        "*Note:* Please note that due to time consuming requirements for training neural networks, in this comparison we are not going to use cross-validation but traditional train-validation-test set split.\n",
        "\n",
        "Answer the following questions (2-3 sentences each):\n",
        "- Describe how DKT model works and compare it with BKT. What are advantages and disadvantages of each model? How is the time encoded? Compare number of learned parameters with other models.\n",
        "- Compare results of DKT and BKT+forgetting in terms of AUC (just run code below). What would be some of the steps to improve the performance of DKT model?"
      ]
    },
    {
      "cell_type": "markdown",
      "source": [
        "Answer: \n",
        "* DKT model use LSTM to to predict time series. The interaction is encoded by assigning a random vector $x_t = n_{q,a}$ drawn from the Gaussian distribution, and the probability of each answer is predicted as a vector $y_t$. \n",
        "  * BKT:\n",
        "    * advantage: Clear mathematical model and update equation. Light-weight model, easy to train.\n",
        "    * disadvantage: Fixed state design, cannot model more complex states such as a state between \"known\" and \"not known\".\n",
        "  * DKT:\n",
        "    * advantage: Achieve the forget behavior by LSTM, use deep neural network to automatically learn the states.\n",
        "    * disadvantage: The mathematical model is not explicitly designed. The training time is longer compared to other models\n",
        "  * The interaction is encoded by assigning a random vector $x_t = n_{q,a}$ drawn from the Gaussian distribution. There is also a hidden variable $h_t$ from previous layer (as the function of LSTM) for encoding the previous informations.\n",
        "  * The number of learned parameters of DKT is far greater than other methods\n",
        "\n",
        "* The performance of DKT is worse than BKT + forgetting. I think methods to improve DKT are:\n",
        "  * Use a function $x_t = n(q_t, a_t)$ to compute the encoding instead of using a random vector.\n",
        "  * let the output of LSTM $y_t$ be a vector contains the probability of guess, slip, know the knowledge etc. And explicitly compute the probability for each answer and plug into the loss function. "
      ],
      "metadata": {
        "id": "A2XZ281wBheD"
      },
      "id": "A2XZ281wBheD"
    },
    {
      "cell_type": "code",
      "execution_count": null,
      "id": "3b1463d6",
      "metadata": {
        "id": "3b1463d6"
      },
      "outputs": [],
      "source": [
        "## DKT model in Tensorflow 2 adapted from https://github.com/lccasagrande/Deep-Knowledge-Tracing\n",
        "\n",
        "MASK_VALUE = -1.\n",
        "\n",
        "def prepare_data(df, params):\n",
        "    # Step 1 - Enumerate skill id\n",
        "    df['skill'], kc_codes = pd.factorize(df['skill_name'], sort=True)\n",
        "\n",
        "    # Step 2 - Cross skill id with answer to form a synthetic feature\n",
        "    df['skill_with_answer'] = df['skill'] * 2 + df['correct']\n",
        "\n",
        "    # Step 3 - Convert to a sequence per user id and shift features 1 timestep\n",
        "    seq = df.groupby('user_id').apply(lambda r: (r['skill_with_answer'].values[:-1], r['skill'].values[1:], r['correct'].values[1:],))\n",
        "    \n",
        "    # Step 4 - Get Tensorflow Dataset\n",
        "    dataset = tf.data.Dataset.from_generator(generator=lambda: seq, output_types=(tf.int32, tf.int32, tf.float32))\n",
        "\n",
        "    # Step 5 - Encode categorical features and merge skills with labels to compute target loss.\n",
        "    features_depth = df['skill_with_answer'].max() + 1\n",
        "    skill_depth = df['skill'].max() \n",
        "\n",
        "    dataset = dataset.map(\n",
        "        lambda feat, skill, label: (\n",
        "            tf.one_hot(feat, depth=features_depth),\n",
        "            tf.concat(\n",
        "                values=[\n",
        "                    tf.one_hot(skill, depth=skill_depth),\n",
        "                    tf.expand_dims(label, -1)\n",
        "                ],\n",
        "                axis=-1\n",
        "            )\n",
        "        )\n",
        "    )\n",
        "\n",
        "    # Step 6 - Pad sequences per batch\n",
        "    dataset = dataset.padded_batch(\n",
        "        batch_size=params['batch_size'],\n",
        "        padding_values=(MASK_VALUE, MASK_VALUE),\n",
        "        padded_shapes=([None, None], [None, None]),\n",
        "        drop_remainder=True\n",
        "    )\n",
        "\n",
        "    return dataset.repeat(), len(seq), features_depth, skill_depth\n",
        "\n",
        "\n",
        "def split_dataset(dataset, params):\n",
        "    def split(dataset, split_size):\n",
        "        split_set = dataset.take(split_size)\n",
        "        dataset = dataset.skip(split_size)\n",
        "        return dataset, split_set\n",
        "\n",
        "    test_size = np.ceil(params['test_ratio'] * params['total_size'])\n",
        "    train_size = params['total_size'] - test_size\n",
        "\n",
        "    train_set, test_set = split(dataset, test_size)\n",
        "\n",
        "    val_set = None\n",
        "    if params['val_ratio'] > 0:\n",
        "        val_size = np.ceil(train_size * params['val_ratio'])\n",
        "        train_set, val_set = split(train_set, val_size)\n",
        "        train_size -= val_size\n",
        "        \n",
        "    return train_set, train_size, test_set, test_size, val_set, val_size\n",
        "\n",
        "\n",
        "def get_target(y_true, y_pred, mask_value=MASK_VALUE):\n",
        "    # Get skills and labels from y_true\n",
        "    mask = 1. - tf.cast(tf.equal(y_true, mask_value), y_true.dtype)\n",
        "    y_true = y_true * mask\n",
        "\n",
        "    skills, y_true = tf.split(y_true, num_or_size_splits=[-1, 1], axis=-1)\n",
        "\n",
        "    # Get predictions for each skill\n",
        "    y_pred = tf.reduce_sum(y_pred * skills, axis=-1, keepdims=True)\n",
        "\n",
        "    return y_true, y_pred\n",
        "\n",
        "\n",
        "class BinaryAccuracy(tf.keras.metrics.BinaryAccuracy):\n",
        "    def update_state(self, y_true, y_pred, sample_weight=None):\n",
        "        true, pred = get_target(y_true, y_pred)\n",
        "        super(BinaryAccuracy, self).update_state(y_true=true, y_pred=pred, sample_weight=sample_weight)\n",
        "\n",
        "        \n",
        "class AUC(tf.keras.metrics.AUC):\n",
        "    def update_state(self, y_true, y_pred, sample_weight=None):\n",
        "        true, pred = get_target(y_true, y_pred)\n",
        "        super(AUC, self).update_state(y_true=true, y_pred=pred, sample_weight=sample_weight)\n",
        "\n",
        "        \n",
        "class Precision(tf.keras.metrics.Precision):\n",
        "    def update_state(self, y_true, y_pred, sample_weight=None):\n",
        "        true, pred = get_target(y_true, y_pred)\n",
        "        super(Precision, self).update_state(y_true=true, y_pred=pred, sample_weight=sample_weight)\n",
        "\n",
        "        \n",
        "class Recall(tf.keras.metrics.Recall):\n",
        "    def update_state(self, y_true, y_pred, sample_weight=None):\n",
        "        true, pred = get_target(y_true, y_pred)\n",
        "        super(Recall, self).update_state(y_true=true, y_pred=pred, sample_weight=sample_weight)\n",
        "        \n",
        "\n",
        "def DKTBinaryCrossEntropy(y_true, y_pred):    \n",
        "    y_true, y_pred = get_target(y_true, y_pred)\n",
        "    return tf.keras.losses.binary_crossentropy(y_true, y_pred)\n",
        "\n",
        "\n",
        "def create_model(nb_features, nb_skills, params):\n",
        "    # Create the model architecture\n",
        "    inputs = tf.keras.Input(shape=(None, nb_features), name='inputs')\n",
        "    x = tf.keras.layers.Masking(mask_value=MASK_VALUE)(inputs)\n",
        "    x = tf.keras.layers.LSTM(params['recurrent_units'], return_sequences=True, dropout=params['dropout_rate'])(x)\n",
        "    dense = tf.keras.layers.Dense(nb_skills, activation='sigmoid')\n",
        "    outputs = tf.keras.layers.TimeDistributed(dense, name='outputs')(x)\n",
        "    model = tf.keras.models.Model(inputs=inputs, outputs=outputs, name='DKTModel')\n",
        "\n",
        "    # Compile the model\n",
        "    model.compile(loss=DKTBinaryCrossEntropy, \n",
        "                  optimizer=params['optimizer'], \n",
        "                  metrics=[AUC(), Precision(), Recall()])\n",
        "    \n",
        "    return model\n"
      ]
    },
    {
      "cell_type": "code",
      "execution_count": null,
      "id": "7092198b",
      "metadata": {
        "id": "7092198b",
        "colab": {
          "base_uri": "https://localhost:8080/"
        },
        "outputId": "f6038d9e-7ca3-42b6-c59c-1ac6cc69ed3f"
      },
      "outputs": [
        {
          "output_type": "stream",
          "name": "stdout",
          "text": [
            "0 (32, 54, 8) (32, 54, 4)\n",
            "1 (32, 56, 8) (32, 56, 4)\n",
            "2 (32, 66, 8) (32, 66, 4)\n",
            "Model: \"DKTModel\"\n",
            "_________________________________________________________________\n",
            " Layer (type)                Output Shape              Param #   \n",
            "=================================================================\n",
            " inputs (InputLayer)         [(None, None, 8)]         0         \n",
            "                                                                 \n",
            " masking_1 (Masking)         (None, None, 8)           0         \n",
            "                                                                 \n",
            " lstm_1 (LSTM)               (None, None, 128)         70144     \n",
            "                                                                 \n",
            " outputs (TimeDistributed)   (None, None, 3)           387       \n",
            "                                                                 \n",
            "=================================================================\n",
            "Total params: 70,531\n",
            "Trainable params: 70,531\n",
            "Non-trainable params: 0\n",
            "_________________________________________________________________\n"
          ]
        }
      ],
      "source": [
        "# Set params and instantiate a model\n",
        "params = {}\n",
        "params['batch_size'] = 32\n",
        "params['verbose'] = 1\n",
        "params['optimizer'] = 'adam' \n",
        "params['recurrent_units'] = 128 \n",
        "params['epochs'] = 20\n",
        "params['dropout_rate'] = 0.5\n",
        "\n",
        "tf_dataset, length, nb_features, nb_skills = prepare_data(dataset.copy(), params)\n",
        "for index, (x, y) in enumerate(tf_dataset.take(3)):\n",
        "    print(index, x.shape, y.shape)\n",
        "\n",
        "params['total_size'] = int(length // params['batch_size'])\n",
        "params['test_ratio'] = 0.2\n",
        "params['val_ratio'] = 0.1\n",
        "train_set, train_size, test_set, test_size, val_set, val_size = split_dataset(tf_dataset, params)\n",
        "dkt_model = create_model(nb_features, nb_skills, params)\n",
        "dkt_model.summary()"
      ]
    },
    {
      "cell_type": "code",
      "execution_count": null,
      "id": "80f05391",
      "metadata": {
        "id": "80f05391",
        "colab": {
          "base_uri": "https://localhost:8080/"
        },
        "outputId": "3badb573-8a34-4ad9-a0e5-f8beb0fd12be"
      },
      "outputs": [
        {
          "output_type": "stream",
          "name": "stdout",
          "text": [
            "Epoch 1/20\n",
            "29/29 [==============================] - 12s 231ms/step - loss: 0.7353 - auc_1: 0.5845 - precision_1: 0.5690 - recall_1: 0.3498 - val_loss: 0.8202 - val_auc_1: 0.5930 - val_precision_1: 0.6126 - val_recall_1: 0.3092\n",
            "Epoch 2/20\n",
            "29/29 [==============================] - 3s 104ms/step - loss: 0.7191 - auc_1: 0.6054 - precision_1: 0.6090 - recall_1: 0.3381 - val_loss: 0.8181 - val_auc_1: 0.5986 - val_precision_1: 0.6169 - val_recall_1: 0.3422\n",
            "Epoch 3/20\n",
            "29/29 [==============================] - 3s 100ms/step - loss: 0.7102 - auc_1: 0.6025 - precision_1: 0.6081 - recall_1: 0.3101 - val_loss: 0.8162 - val_auc_1: 0.5992 - val_precision_1: 0.6425 - val_recall_1: 0.3018\n",
            "Epoch 4/20\n",
            "29/29 [==============================] - 3s 104ms/step - loss: 0.7262 - auc_1: 0.6044 - precision_1: 0.6198 - recall_1: 0.3362 - val_loss: 0.8161 - val_auc_1: 0.6008 - val_precision_1: 0.6364 - val_recall_1: 0.3050\n",
            "Epoch 5/20\n",
            "29/29 [==============================] - 3s 99ms/step - loss: 0.7173 - auc_1: 0.6127 - precision_1: 0.6389 - recall_1: 0.3322 - val_loss: 0.8155 - val_auc_1: 0.6039 - val_precision_1: 0.6331 - val_recall_1: 0.3411\n",
            "Epoch 6/20\n",
            "29/29 [==============================] - 3s 96ms/step - loss: 0.7350 - auc_1: 0.6055 - precision_1: 0.6155 - recall_1: 0.3314 - val_loss: 0.8154 - val_auc_1: 0.6007 - val_precision_1: 0.6468 - val_recall_1: 0.2997\n",
            "Epoch 7/20\n",
            "29/29 [==============================] - 3s 101ms/step - loss: 0.6875 - auc_1: 0.6136 - precision_1: 0.6337 - recall_1: 0.3465 - val_loss: 0.8145 - val_auc_1: 0.6041 - val_precision_1: 0.6449 - val_recall_1: 0.3146\n",
            "Epoch 8/20\n",
            "29/29 [==============================] - 3s 101ms/step - loss: 0.7354 - auc_1: 0.6097 - precision_1: 0.6422 - recall_1: 0.3342 - val_loss: 0.8138 - val_auc_1: 0.6074 - val_precision_1: 0.6453 - val_recall_1: 0.3422\n",
            "Epoch 9/20\n",
            "29/29 [==============================] - 3s 98ms/step - loss: 0.7411 - auc_1: 0.6108 - precision_1: 0.6274 - recall_1: 0.3404 - val_loss: 0.8138 - val_auc_1: 0.6063 - val_precision_1: 0.6485 - val_recall_1: 0.3294\n",
            "Epoch 10/20\n",
            "29/29 [==============================] - 3s 102ms/step - loss: 0.6872 - auc_1: 0.6169 - precision_1: 0.6273 - recall_1: 0.3590 - val_loss: 0.8131 - val_auc_1: 0.6078 - val_precision_1: 0.6511 - val_recall_1: 0.3114\n",
            "Epoch 11/20\n",
            "29/29 [==============================] - 4s 137ms/step - loss: 0.7356 - auc_1: 0.6100 - precision_1: 0.6313 - recall_1: 0.3391 - val_loss: 0.8128 - val_auc_1: 0.6126 - val_precision_1: 0.6502 - val_recall_1: 0.3496\n",
            "Epoch 12/20\n",
            "29/29 [==============================] - 3s 97ms/step - loss: 0.7385 - auc_1: 0.6144 - precision_1: 0.6246 - recall_1: 0.3495 - val_loss: 0.8130 - val_auc_1: 0.6139 - val_precision_1: 0.6711 - val_recall_1: 0.3209\n",
            "Epoch 13/20\n",
            "29/29 [==============================] - 3s 99ms/step - loss: 0.6952 - auc_1: 0.6174 - precision_1: 0.6321 - recall_1: 0.3462 - val_loss: 0.8114 - val_auc_1: 0.6158 - val_precision_1: 0.6585 - val_recall_1: 0.3422\n",
            "Epoch 14/20\n",
            "29/29 [==============================] - 3s 98ms/step - loss: 0.7279 - auc_1: 0.6188 - precision_1: 0.6369 - recall_1: 0.3719 - val_loss: 0.8111 - val_auc_1: 0.6207 - val_precision_1: 0.6506 - val_recall_1: 0.3581\n",
            "Epoch 15/20\n",
            "29/29 [==============================] - 3s 99ms/step - loss: 0.7032 - auc_1: 0.6210 - precision_1: 0.6405 - recall_1: 0.3449 - val_loss: 0.8103 - val_auc_1: 0.6240 - val_precision_1: 0.6624 - val_recall_1: 0.3316\n",
            "Epoch 16/20\n",
            "29/29 [==============================] - 3s 97ms/step - loss: 0.7205 - auc_1: 0.6200 - precision_1: 0.6125 - recall_1: 0.3482 - val_loss: 0.8088 - val_auc_1: 0.6235 - val_precision_1: 0.6609 - val_recall_1: 0.3231\n",
            "Epoch 17/20\n",
            "29/29 [==============================] - 3s 97ms/step - loss: 0.7168 - auc_1: 0.6239 - precision_1: 0.6330 - recall_1: 0.3831 - val_loss: 0.8075 - val_auc_1: 0.6290 - val_precision_1: 0.6533 - val_recall_1: 0.3645\n",
            "Epoch 18/20\n",
            "29/29 [==============================] - 3s 99ms/step - loss: 0.7089 - auc_1: 0.6228 - precision_1: 0.6390 - recall_1: 0.3480 - val_loss: 0.8087 - val_auc_1: 0.6299 - val_precision_1: 0.6481 - val_recall_1: 0.3719\n",
            "Epoch 19/20\n",
            "29/29 [==============================] - 3s 96ms/step - loss: 0.7348 - auc_1: 0.6187 - precision_1: 0.6186 - recall_1: 0.3481 - val_loss: 0.8083 - val_auc_1: 0.6266 - val_precision_1: 0.6938 - val_recall_1: 0.3082\n",
            "Epoch 20/20\n",
            "29/29 [==============================] - 3s 112ms/step - loss: 0.6888 - auc_1: 0.6249 - precision_1: 0.6293 - recall_1: 0.3732 - val_loss: 0.8072 - val_auc_1: 0.6306 - val_precision_1: 0.6653 - val_recall_1: 0.3549\n",
            "9/9 [==============================] - 0s 46ms/step - loss: 0.6413 - auc_1: 0.6508 - precision_1: 0.6538 - recall_1: 0.3769\n",
            "Test set AUC for DKT model is: 0.6507669687271118\n"
          ]
        }
      ],
      "source": [
        "# Train DKT model\n",
        "best_model_path = \"weights/best_model_weights\"  # Path to checkpoint model during training\n",
        "ckp_callback = tf.keras.callbacks.ModelCheckpoint(best_model_path, save_best_only=True, save_weights_only=True)\n",
        "history = dkt_model.fit(train_set, epochs=params['epochs'], steps_per_epoch=train_size, validation_data=val_set, callbacks=[ckp_callback], verbose=params['verbose'])\n",
        "\n",
        "# Evaluate AUC\n",
        "dkt_model.load_weights(best_model_path)\n",
        "result = dkt_model.evaluate(test_set, verbose=params['verbose'])\n",
        "\n",
        "# (loss, auc, precision, recall)\n",
        "dkt_auc = result[1]\n",
        "print(\"Test set AUC for DKT model is: {}\".format(dkt_auc))"
      ]
    },
    {
      "cell_type": "code",
      "execution_count": null,
      "id": "004b5597",
      "metadata": {
        "id": "004b5597",
        "colab": {
          "base_uri": "https://localhost:8080/",
          "height": 744
        },
        "outputId": "7f456b6b-ffa2-439c-bb8c-b7eb9dffe517"
      },
      "outputs": [
        {
          "output_type": "stream",
          "name": "stdout",
          "text": [
            "CPU times: user 131 ms, sys: 1.82 ms, total: 133 ms\n",
            "Wall time: 91.8 ms\n"
          ]
        },
        {
          "output_type": "execute_result",
          "data": {
            "text/plain": [
              "                                                  value\n",
              "skill                           param   class          \n",
              "least-common-multiple           prior   default 0.15111\n",
              "                                learns  default 0.17629\n",
              "                                guesses default 0.09556\n",
              "                                slips   default 0.04935\n",
              "                                forgets default 0.09033\n",
              "division                        prior   default 0.51021\n",
              "                                learns  default 0.17132\n",
              "                                guesses default 0.30347\n",
              "                                slips   default 0.07410\n",
              "                                forgets default 0.10671\n",
              "fraction-decimals-percents      prior   default 0.14088\n",
              "                                learns  default 0.13666\n",
              "                                guesses default 0.36253\n",
              "                                slips   default 0.11792\n",
              "                                forgets default 0.13308\n",
              "sum-of-interior-angles-triangle prior   default 0.67553\n",
              "                                learns  default 0.04263\n",
              "                                guesses default 0.90471\n",
              "                                slips   default 0.87986\n",
              "                                forgets default 0.20419"
            ],
            "text/html": [
              "\n",
              "  <div id=\"df-0b1fe0a0-9d23-44fe-b257-cee2b09bf558\">\n",
              "    <div class=\"colab-df-container\">\n",
              "      <div>\n",
              "<style scoped>\n",
              "    .dataframe tbody tr th:only-of-type {\n",
              "        vertical-align: middle;\n",
              "    }\n",
              "\n",
              "    .dataframe tbody tr th {\n",
              "        vertical-align: top;\n",
              "    }\n",
              "\n",
              "    .dataframe thead th {\n",
              "        text-align: right;\n",
              "    }\n",
              "</style>\n",
              "<table border=\"1\" class=\"dataframe\">\n",
              "  <thead>\n",
              "    <tr style=\"text-align: right;\">\n",
              "      <th></th>\n",
              "      <th></th>\n",
              "      <th></th>\n",
              "      <th>value</th>\n",
              "    </tr>\n",
              "    <tr>\n",
              "      <th>skill</th>\n",
              "      <th>param</th>\n",
              "      <th>class</th>\n",
              "      <th></th>\n",
              "    </tr>\n",
              "  </thead>\n",
              "  <tbody>\n",
              "    <tr>\n",
              "      <th rowspan=\"5\" valign=\"top\">least-common-multiple</th>\n",
              "      <th>prior</th>\n",
              "      <th>default</th>\n",
              "      <td>0.15111</td>\n",
              "    </tr>\n",
              "    <tr>\n",
              "      <th>learns</th>\n",
              "      <th>default</th>\n",
              "      <td>0.17629</td>\n",
              "    </tr>\n",
              "    <tr>\n",
              "      <th>guesses</th>\n",
              "      <th>default</th>\n",
              "      <td>0.09556</td>\n",
              "    </tr>\n",
              "    <tr>\n",
              "      <th>slips</th>\n",
              "      <th>default</th>\n",
              "      <td>0.04935</td>\n",
              "    </tr>\n",
              "    <tr>\n",
              "      <th>forgets</th>\n",
              "      <th>default</th>\n",
              "      <td>0.09033</td>\n",
              "    </tr>\n",
              "    <tr>\n",
              "      <th rowspan=\"5\" valign=\"top\">division</th>\n",
              "      <th>prior</th>\n",
              "      <th>default</th>\n",
              "      <td>0.51021</td>\n",
              "    </tr>\n",
              "    <tr>\n",
              "      <th>learns</th>\n",
              "      <th>default</th>\n",
              "      <td>0.17132</td>\n",
              "    </tr>\n",
              "    <tr>\n",
              "      <th>guesses</th>\n",
              "      <th>default</th>\n",
              "      <td>0.30347</td>\n",
              "    </tr>\n",
              "    <tr>\n",
              "      <th>slips</th>\n",
              "      <th>default</th>\n",
              "      <td>0.07410</td>\n",
              "    </tr>\n",
              "    <tr>\n",
              "      <th>forgets</th>\n",
              "      <th>default</th>\n",
              "      <td>0.10671</td>\n",
              "    </tr>\n",
              "    <tr>\n",
              "      <th rowspan=\"5\" valign=\"top\">fraction-decimals-percents</th>\n",
              "      <th>prior</th>\n",
              "      <th>default</th>\n",
              "      <td>0.14088</td>\n",
              "    </tr>\n",
              "    <tr>\n",
              "      <th>learns</th>\n",
              "      <th>default</th>\n",
              "      <td>0.13666</td>\n",
              "    </tr>\n",
              "    <tr>\n",
              "      <th>guesses</th>\n",
              "      <th>default</th>\n",
              "      <td>0.36253</td>\n",
              "    </tr>\n",
              "    <tr>\n",
              "      <th>slips</th>\n",
              "      <th>default</th>\n",
              "      <td>0.11792</td>\n",
              "    </tr>\n",
              "    <tr>\n",
              "      <th>forgets</th>\n",
              "      <th>default</th>\n",
              "      <td>0.13308</td>\n",
              "    </tr>\n",
              "    <tr>\n",
              "      <th rowspan=\"5\" valign=\"top\">sum-of-interior-angles-triangle</th>\n",
              "      <th>prior</th>\n",
              "      <th>default</th>\n",
              "      <td>0.67553</td>\n",
              "    </tr>\n",
              "    <tr>\n",
              "      <th>learns</th>\n",
              "      <th>default</th>\n",
              "      <td>0.04263</td>\n",
              "    </tr>\n",
              "    <tr>\n",
              "      <th>guesses</th>\n",
              "      <th>default</th>\n",
              "      <td>0.90471</td>\n",
              "    </tr>\n",
              "    <tr>\n",
              "      <th>slips</th>\n",
              "      <th>default</th>\n",
              "      <td>0.87986</td>\n",
              "    </tr>\n",
              "    <tr>\n",
              "      <th>forgets</th>\n",
              "      <th>default</th>\n",
              "      <td>0.20419</td>\n",
              "    </tr>\n",
              "  </tbody>\n",
              "</table>\n",
              "</div>\n",
              "      <button class=\"colab-df-convert\" onclick=\"convertToInteractive('df-0b1fe0a0-9d23-44fe-b257-cee2b09bf558')\"\n",
              "              title=\"Convert this dataframe to an interactive table.\"\n",
              "              style=\"display:none;\">\n",
              "        \n",
              "  <svg xmlns=\"http://www.w3.org/2000/svg\" height=\"24px\"viewBox=\"0 0 24 24\"\n",
              "       width=\"24px\">\n",
              "    <path d=\"M0 0h24v24H0V0z\" fill=\"none\"/>\n",
              "    <path d=\"M18.56 5.44l.94 2.06.94-2.06 2.06-.94-2.06-.94-.94-2.06-.94 2.06-2.06.94zm-11 1L8.5 8.5l.94-2.06 2.06-.94-2.06-.94L8.5 2.5l-.94 2.06-2.06.94zm10 10l.94 2.06.94-2.06 2.06-.94-2.06-.94-.94-2.06-.94 2.06-2.06.94z\"/><path d=\"M17.41 7.96l-1.37-1.37c-.4-.4-.92-.59-1.43-.59-.52 0-1.04.2-1.43.59L10.3 9.45l-7.72 7.72c-.78.78-.78 2.05 0 2.83L4 21.41c.39.39.9.59 1.41.59.51 0 1.02-.2 1.41-.59l7.78-7.78 2.81-2.81c.8-.78.8-2.07 0-2.86zM5.41 20L4 18.59l7.72-7.72 1.47 1.35L5.41 20z\"/>\n",
              "  </svg>\n",
              "      </button>\n",
              "      \n",
              "  <style>\n",
              "    .colab-df-container {\n",
              "      display:flex;\n",
              "      flex-wrap:wrap;\n",
              "      gap: 12px;\n",
              "    }\n",
              "\n",
              "    .colab-df-convert {\n",
              "      background-color: #E8F0FE;\n",
              "      border: none;\n",
              "      border-radius: 50%;\n",
              "      cursor: pointer;\n",
              "      display: none;\n",
              "      fill: #1967D2;\n",
              "      height: 32px;\n",
              "      padding: 0 0 0 0;\n",
              "      width: 32px;\n",
              "    }\n",
              "\n",
              "    .colab-df-convert:hover {\n",
              "      background-color: #E2EBFA;\n",
              "      box-shadow: 0px 1px 2px rgba(60, 64, 67, 0.3), 0px 1px 3px 1px rgba(60, 64, 67, 0.15);\n",
              "      fill: #174EA6;\n",
              "    }\n",
              "\n",
              "    [theme=dark] .colab-df-convert {\n",
              "      background-color: #3B4455;\n",
              "      fill: #D2E3FC;\n",
              "    }\n",
              "\n",
              "    [theme=dark] .colab-df-convert:hover {\n",
              "      background-color: #434B5C;\n",
              "      box-shadow: 0px 1px 3px 1px rgba(0, 0, 0, 0.15);\n",
              "      filter: drop-shadow(0px 1px 2px rgba(0, 0, 0, 0.3));\n",
              "      fill: #FFFFFF;\n",
              "    }\n",
              "  </style>\n",
              "\n",
              "      <script>\n",
              "        const buttonEl =\n",
              "          document.querySelector('#df-0b1fe0a0-9d23-44fe-b257-cee2b09bf558 button.colab-df-convert');\n",
              "        buttonEl.style.display =\n",
              "          google.colab.kernel.accessAllowed ? 'block' : 'none';\n",
              "\n",
              "        async function convertToInteractive(key) {\n",
              "          const element = document.querySelector('#df-0b1fe0a0-9d23-44fe-b257-cee2b09bf558');\n",
              "          const dataTable =\n",
              "            await google.colab.kernel.invokeFunction('convertToInteractive',\n",
              "                                                     [key], {});\n",
              "          if (!dataTable) return;\n",
              "\n",
              "          const docLinkHtml = 'Like what you see? Visit the ' +\n",
              "            '<a target=\"_blank\" href=https://colab.research.google.com/notebooks/data_table.ipynb>data table notebook</a>'\n",
              "            + ' to learn more about interactive tables.';\n",
              "          element.innerHTML = '';\n",
              "          dataTable['output_type'] = 'display_data';\n",
              "          await google.colab.output.renderOutput(dataTable, element);\n",
              "          const docLink = document.createElement('div');\n",
              "          docLink.innerHTML = docLinkHtml;\n",
              "          element.appendChild(docLink);\n",
              "        }\n",
              "      </script>\n",
              "    </div>\n",
              "  </div>\n",
              "  "
            ]
          },
          "metadata": {},
          "execution_count": 162
        }
      ],
      "source": [
        "# Train BKT+forgetting\n",
        "users = dataset['user_id'].unique()\n",
        "test_users = users[:int(test_size * params['batch_size'])]\n",
        "val_users = users[int(test_size * params['batch_size']):int((test_size+val_size) * params['batch_size'])]\n",
        "train_users = users[int((test_size+val_size) * params['batch_size']):]\n",
        "\n",
        "model = Model(seed=SEED)\n",
        "%time model.fit(data=dataset[dataset['user_id'].isin(train_users)], forgets=True) \n",
        "bkt_forgetting_auc = model.evaluate(data=dataset[dataset['user_id'].isin(test_users)], metric='auc')\n",
        "model.params()"
      ]
    },
    {
      "cell_type": "code",
      "execution_count": null,
      "id": "32f8c9fb",
      "metadata": {
        "id": "32f8c9fb",
        "colab": {
          "base_uri": "https://localhost:8080/",
          "height": 283
        },
        "outputId": "30c9e48a-3f08-4133-c28d-aad96f351a28"
      },
      "outputs": [
        {
          "output_type": "display_data",
          "data": {
            "text/plain": [
              "<Figure size 432x288 with 1 Axes>"
            ],
            "image/png": "[encoded data removed]"
          },
          "metadata": {
            "needs_background": "light"
          }
        }
      ],
      "source": [
        "# Plot results\n",
        "labels = ['DKT', 'BKT+forgetting']\n",
        "scores = [dkt_auc, bkt_forgetting_auc]\n",
        "\n",
        "x_pos = np.arange(len(labels))\n",
        "plt.bar(x_pos, scores)\n",
        "plt.xticks(x_pos, labels)\n",
        "plt.xlabel('Model')\n",
        "plt.ylabel('AUC score')\n",
        "plt.ylim(.5, .8)\n",
        "plt.show()"
      ]
    },
    {
      "cell_type": "markdown",
      "id": "3bbde811",
      "metadata": {
        "id": "3bbde811"
      },
      "source": [
        "# Part 3: Actionable insights from knowledge tracing models"
      ]
    },
    {
      "cell_type": "markdown",
      "id": "70e1a734",
      "metadata": {
        "id": "70e1a734"
      },
      "source": [
        "### Q 3.1:  Analyze how time taken affects learning\n",
        "Train a BKT model to analyze how the time taken by a student to submit an answer affects their learning.\n",
        "\n",
        "Hint: Use `multilearn` parameter from pyBKT library.\n",
        "\n",
        "- Transform the numerical feature 'timeTaken' into 10 categories using bucketing / binning - `<0s,10s>, <10s,20s>, ..., <80s,90s>, <90s, inf>`\n",
        "- Train BKT model considering these buckets.\n",
        "- Use provided code to create a bar plot of the learned parameter $P(\\text{L})$ for each time taken category. \n",
        "- Compare and contrast parameters across three skills\n",
        "- Could a course intstructor improve / change the problem set or learning interface based on these insights? If yes, how?\n",
        "\n",
        "*Hint:* `dataframe.map(dictionary)` can help you map values to other values as given by `dictionary` in Python."
      ]
    },
    {
      "cell_type": "markdown",
      "source": [
        "Answer:\n",
        "* Compare and contrast parameters across three skills: \n",
        "  * The probability learn for division and fraction decimals percents is lower than other two skills, which means they are more difficult than other skills. A longer time span for the interaction increases the probability to learn fraction-decimals-percents and least-common-multiple. \n",
        "  \n",
        "* Could a course intstructor improve / change the problem set or learning interface based on these insights? If yes, how?\n",
        "  * Yes\n",
        "  * The instructor can give more division and fraction decimals percents questions to make students practice more on these questions. Besides, the instructor can also extend the time limit for fraction-decimals-percents and least-common-multiple questions. "
      ],
      "metadata": {
        "id": "B_uRI1bnTy9Y"
      },
      "id": "B_uRI1bnTy9Y"
    },
    {
      "cell_type": "code",
      "execution_count": 11,
      "id": "38b4b5cc",
      "metadata": {
        "id": "38b4b5cc"
      },
      "outputs": [],
      "source": [
        "# ADD CODE HERE\n",
        "dataset_copy = dataset.copy()\n",
        "dataset_copy['timeTaken'] = np.digitize(dataset_copy['timeTaken'], bins = [0, 10, 20, 30, 40, 50, 60, 70, 80, 90, np.inf]) - 1\n",
        "model = Model(seed = SEED, parallel = True)\n",
        "model.fit(data=dataset_copy, skills=SKILLS, multilearn='timeTaken') "
      ]
    },
    {
      "cell_type": "code",
      "execution_count": 12,
      "id": "38739f63",
      "metadata": {
        "id": "38739f63",
        "colab": {
          "base_uri": "https://localhost:8080/",
          "height": 406
        },
        "outputId": "caa0c6c1-6e0e-47a6-d752-920bf64f9ac6"
      },
      "outputs": [
        {
          "output_type": "execute_result",
          "data": {
            "text/plain": [
              "<matplotlib.axes._subplots.AxesSubplot at 0x7f869deec1d0>"
            ]
          },
          "metadata": {},
          "execution_count": 12
        },
        {
          "output_type": "display_data",
          "data": {
            "text/plain": [
              "<Figure size 864x432 with 1 Axes>"
            ],
            "image/png": "[encoded data removed]"
          },
          "metadata": {
            "needs_background": "light"
          }
        }
      ],
      "source": [
        "# Visualization code\n",
        "params = model.params().reset_index()\n",
        "\n",
        "import seaborn as sns\n",
        "\n",
        "plt.figure(figsize = (12, 6))\n",
        "sns.barplot(data=params[params['param'] == 'learns'], x=\"class\", y=\"value\", hue=\"skill\")"
      ]
    },
    {
      "cell_type": "markdown",
      "id": "1cbf5a4e",
      "metadata": {
        "id": "1cbf5a4e"
      },
      "source": [
        "### Q 3.2: Analyze learning curves of trained BKT model\n",
        "The aggregated model metrics above do not tell us anything about the performance for an individual knowledge component. Let's analyze performance across the knowledge components now. A learning curve is plot which shows the average value of mastery vs the number of learner opportunities to train the skill. Our intuition is that different knowledge components differ in their difficulty of mastering. Let's use the BKT and explore the learning curves to analyze it.\n",
        "\n",
        "Run the code below and discuss following topics:\n",
        "- Discuss and compare learning curves for three skills. \n",
        "- Is the model fitting the ground-truth data well? Compare BKT and BKT+forgetting curves.\n",
        "- Can you provide insights for a teacher about these knowledge components? "
      ]
    },
    {
      "cell_type": "code",
      "execution_count": null,
      "id": "950614a4",
      "metadata": {
        "id": "950614a4",
        "colab": {
          "base_uri": "https://localhost:8080/",
          "height": 744
        },
        "outputId": "801f56ab-5602-4104-8784-98868233a88f"
      },
      "outputs": [
        {
          "output_type": "stream",
          "name": "stdout",
          "text": [
            "CPU times: user 184 ms, sys: 2.59 ms, total: 187 ms\n",
            "Wall time: 131 ms\n"
          ]
        },
        {
          "output_type": "execute_result",
          "data": {
            "text/plain": [
              "                                                  value\n",
              "skill                           param   class          \n",
              "sum-of-interior-angles-triangle prior   default 0.28809\n",
              "                                learns  default 0.14767\n",
              "                                guesses default 0.12901\n",
              "                                slips   default 0.16012\n",
              "                                forgets default 0.00000\n",
              "division                        prior   default 0.55301\n",
              "                                learns  default 0.07822\n",
              "                                guesses default 0.36850\n",
              "                                slips   default 0.17311\n",
              "                                forgets default 0.00000\n",
              "fraction-decimals-percents      prior   default 0.17471\n",
              "                                learns  default 0.08361\n",
              "                                guesses default 0.36794\n",
              "                                slips   default 0.20293\n",
              "                                forgets default 0.00000\n",
              "least-common-multiple           prior   default 0.10539\n",
              "                                learns  default 0.11459\n",
              "                                guesses default 0.14591\n",
              "                                slips   default 0.07381\n",
              "                                forgets default 0.00000"
            ],
            "text/html": [
              "\n",
              "  <div id=\"df-fd9e096e-697f-4c9e-9b6d-4496918b1ded\">\n",
              "    <div class=\"colab-df-container\">\n",
              "      <div>\n",
              "<style scoped>\n",
              "    .dataframe tbody tr th:only-of-type {\n",
              "        vertical-align: middle;\n",
              "    }\n",
              "\n",
              "    .dataframe tbody tr th {\n",
              "        vertical-align: top;\n",
              "    }\n",
              "\n",
              "    .dataframe thead th {\n",
              "        text-align: right;\n",
              "    }\n",
              "</style>\n",
              "<table border=\"1\" class=\"dataframe\">\n",
              "  <thead>\n",
              "    <tr style=\"text-align: right;\">\n",
              "      <th></th>\n",
              "      <th></th>\n",
              "      <th></th>\n",
              "      <th>value</th>\n",
              "    </tr>\n",
              "    <tr>\n",
              "      <th>skill</th>\n",
              "      <th>param</th>\n",
              "      <th>class</th>\n",
              "      <th></th>\n",
              "    </tr>\n",
              "  </thead>\n",
              "  <tbody>\n",
              "    <tr>\n",
              "      <th rowspan=\"5\" valign=\"top\">sum-of-interior-angles-triangle</th>\n",
              "      <th>prior</th>\n",
              "      <th>default</th>\n",
              "      <td>0.28809</td>\n",
              "    </tr>\n",
              "    <tr>\n",
              "      <th>learns</th>\n",
              "      <th>default</th>\n",
              "      <td>0.14767</td>\n",
              "    </tr>\n",
              "    <tr>\n",
              "      <th>guesses</th>\n",
              "      <th>default</th>\n",
              "      <td>0.12901</td>\n",
              "    </tr>\n",
              "    <tr>\n",
              "      <th>slips</th>\n",
              "      <th>default</th>\n",
              "      <td>0.16012</td>\n",
              "    </tr>\n",
              "    <tr>\n",
              "      <th>forgets</th>\n",
              "      <th>default</th>\n",
              "      <td>0.00000</td>\n",
              "    </tr>\n",
              "    <tr>\n",
              "      <th rowspan=\"5\" valign=\"top\">division</th>\n",
              "      <th>prior</th>\n",
              "      <th>default</th>\n",
              "      <td>0.55301</td>\n",
              "    </tr>\n",
              "    <tr>\n",
              "      <th>learns</th>\n",
              "      <th>default</th>\n",
              "      <td>0.07822</td>\n",
              "    </tr>\n",
              "    <tr>\n",
              "      <th>guesses</th>\n",
              "      <th>default</th>\n",
              "      <td>0.36850</td>\n",
              "    </tr>\n",
              "    <tr>\n",
              "      <th>slips</th>\n",
              "      <th>default</th>\n",
              "      <td>0.17311</td>\n",
              "    </tr>\n",
              "    <tr>\n",
              "      <th>forgets</th>\n",
              "      <th>default</th>\n",
              "      <td>0.00000</td>\n",
              "    </tr>\n",
              "    <tr>\n",
              "      <th rowspan=\"5\" valign=\"top\">fraction-decimals-percents</th>\n",
              "      <th>prior</th>\n",
              "      <th>default</th>\n",
              "      <td>0.17471</td>\n",
              "    </tr>\n",
              "    <tr>\n",
              "      <th>learns</th>\n",
              "      <th>default</th>\n",
              "      <td>0.08361</td>\n",
              "    </tr>\n",
              "    <tr>\n",
              "      <th>guesses</th>\n",
              "      <th>default</th>\n",
              "      <td>0.36794</td>\n",
              "    </tr>\n",
              "    <tr>\n",
              "      <th>slips</th>\n",
              "      <th>default</th>\n",
              "      <td>0.20293</td>\n",
              "    </tr>\n",
              "    <tr>\n",
              "      <th>forgets</th>\n",
              "      <th>default</th>\n",
              "      <td>0.00000</td>\n",
              "    </tr>\n",
              "    <tr>\n",
              "      <th rowspan=\"5\" valign=\"top\">least-common-multiple</th>\n",
              "      <th>prior</th>\n",
              "      <th>default</th>\n",
              "      <td>0.10539</td>\n",
              "    </tr>\n",
              "    <tr>\n",
              "      <th>learns</th>\n",
              "      <th>default</th>\n",
              "      <td>0.11459</td>\n",
              "    </tr>\n",
              "    <tr>\n",
              "      <th>guesses</th>\n",
              "      <th>default</th>\n",
              "      <td>0.14591</td>\n",
              "    </tr>\n",
              "    <tr>\n",
              "      <th>slips</th>\n",
              "      <th>default</th>\n",
              "      <td>0.07381</td>\n",
              "    </tr>\n",
              "    <tr>\n",
              "      <th>forgets</th>\n",
              "      <th>default</th>\n",
              "      <td>0.00000</td>\n",
              "    </tr>\n",
              "  </tbody>\n",
              "</table>\n",
              "</div>\n",
              "      <button class=\"colab-df-convert\" onclick=\"convertToInteractive('df-fd9e096e-697f-4c9e-9b6d-4496918b1ded')\"\n",
              "              title=\"Convert this dataframe to an interactive table.\"\n",
              "              style=\"display:none;\">\n",
              "        \n",
              "  <svg xmlns=\"http://www.w3.org/2000/svg\" height=\"24px\"viewBox=\"0 0 24 24\"\n",
              "       width=\"24px\">\n",
              "    <path d=\"M0 0h24v24H0V0z\" fill=\"none\"/>\n",
              "    <path d=\"M18.56 5.44l.94 2.06.94-2.06 2.06-.94-2.06-.94-.94-2.06-.94 2.06-2.06.94zm-11 1L8.5 8.5l.94-2.06 2.06-.94-2.06-.94L8.5 2.5l-.94 2.06-2.06.94zm10 10l.94 2.06.94-2.06 2.06-.94-2.06-.94-.94-2.06-.94 2.06-2.06.94z\"/><path d=\"M17.41 7.96l-1.37-1.37c-.4-.4-.92-.59-1.43-.59-.52 0-1.04.2-1.43.59L10.3 9.45l-7.72 7.72c-.78.78-.78 2.05 0 2.83L4 21.41c.39.39.9.59 1.41.59.51 0 1.02-.2 1.41-.59l7.78-7.78 2.81-2.81c.8-.78.8-2.07 0-2.86zM5.41 20L4 18.59l7.72-7.72 1.47 1.35L5.41 20z\"/>\n",
              "  </svg>\n",
              "      </button>\n",
              "      \n",
              "  <style>\n",
              "    .colab-df-container {\n",
              "      display:flex;\n",
              "      flex-wrap:wrap;\n",
              "      gap: 12px;\n",
              "    }\n",
              "\n",
              "    .colab-df-convert {\n",
              "      background-color: #E8F0FE;\n",
              "      border: none;\n",
              "      border-radius: 50%;\n",
              "      cursor: pointer;\n",
              "      display: none;\n",
              "      fill: #1967D2;\n",
              "      height: 32px;\n",
              "      padding: 0 0 0 0;\n",
              "      width: 32px;\n",
              "    }\n",
              "\n",
              "    .colab-df-convert:hover {\n",
              "      background-color: #E2EBFA;\n",
              "      box-shadow: 0px 1px 2px rgba(60, 64, 67, 0.3), 0px 1px 3px 1px rgba(60, 64, 67, 0.15);\n",
              "      fill: #174EA6;\n",
              "    }\n",
              "\n",
              "    [theme=dark] .colab-df-convert {\n",
              "      background-color: #3B4455;\n",
              "      fill: #D2E3FC;\n",
              "    }\n",
              "\n",
              "    [theme=dark] .colab-df-convert:hover {\n",
              "      background-color: #434B5C;\n",
              "      box-shadow: 0px 1px 3px 1px rgba(0, 0, 0, 0.15);\n",
              "      filter: drop-shadow(0px 1px 2px rgba(0, 0, 0, 0.3));\n",
              "      fill: #FFFFFF;\n",
              "    }\n",
              "  </style>\n",
              "\n",
              "      <script>\n",
              "        const buttonEl =\n",
              "          document.querySelector('#df-fd9e096e-697f-4c9e-9b6d-4496918b1ded button.colab-df-convert');\n",
              "        buttonEl.style.display =\n",
              "          google.colab.kernel.accessAllowed ? 'block' : 'none';\n",
              "\n",
              "        async function convertToInteractive(key) {\n",
              "          const element = document.querySelector('#df-fd9e096e-697f-4c9e-9b6d-4496918b1ded');\n",
              "          const dataTable =\n",
              "            await google.colab.kernel.invokeFunction('convertToInteractive',\n",
              "                                                     [key], {});\n",
              "          if (!dataTable) return;\n",
              "\n",
              "          const docLinkHtml = 'Like what you see? Visit the ' +\n",
              "            '<a target=\"_blank\" href=https://colab.research.google.com/notebooks/data_table.ipynb>data table notebook</a>'\n",
              "            + ' to learn more about interactive tables.';\n",
              "          element.innerHTML = '';\n",
              "          dataTable['output_type'] = 'display_data';\n",
              "          await google.colab.output.renderOutput(dataTable, element);\n",
              "          const docLink = document.createElement('div');\n",
              "          docLink.innerHTML = docLinkHtml;\n",
              "          element.appendChild(docLink);\n",
              "        }\n",
              "      </script>\n",
              "    </div>\n",
              "  </div>\n",
              "  "
            ]
          },
          "metadata": {},
          "execution_count": 192
        }
      ],
      "source": [
        "# Train BKT model on the full dataset\n",
        "model = Model(seed=SEED)\n",
        "%time model.fit(data=dataset) \n",
        "model.params()"
      ]
    },
    {
      "cell_type": "code",
      "execution_count": null,
      "id": "a7351032",
      "metadata": {
        "id": "a7351032",
        "colab": {
          "base_uri": "https://localhost:8080/",
          "height": 744
        },
        "outputId": "090f73d2-29ef-4bf8-a04e-1f5fc15767e2"
      },
      "outputs": [
        {
          "output_type": "stream",
          "name": "stdout",
          "text": [
            "CPU times: user 160 ms, sys: 559 µs, total: 161 ms\n",
            "Wall time: 103 ms\n"
          ]
        },
        {
          "output_type": "execute_result",
          "data": {
            "text/plain": [
              "                                                  value\n",
              "skill                           param   class          \n",
              "sum-of-interior-angles-triangle prior   default 0.26292\n",
              "                                learns  default 0.19406\n",
              "                                guesses default 0.11928\n",
              "                                slips   default 0.09799\n",
              "                                forgets default 0.04113\n",
              "division                        prior   default 0.58150\n",
              "                                learns  default 0.28779\n",
              "                                guesses default 0.21786\n",
              "                                slips   default 0.06249\n",
              "                                forgets default 0.17269\n",
              "fraction-decimals-percents      prior   default 0.20589\n",
              "                                learns  default 0.09882\n",
              "                                guesses default 0.35650\n",
              "                                slips   default 0.20426\n",
              "                                forgets default 0.03068\n",
              "least-common-multiple           prior   default 0.18296\n",
              "                                learns  default 0.23654\n",
              "                                guesses default 0.06249\n",
              "                                slips   default 0.09250\n",
              "                                forgets default 0.24845"
            ],
            "text/html": [
              "\n",
              "  <div id=\"df-fcd9527a-bc73-4ac8-a240-6fb9cd63cc3b\">\n",
              "    <div class=\"colab-df-container\">\n",
              "      <div>\n",
              "<style scoped>\n",
              "    .dataframe tbody tr th:only-of-type {\n",
              "        vertical-align: middle;\n",
              "    }\n",
              "\n",
              "    .dataframe tbody tr th {\n",
              "        vertical-align: top;\n",
              "    }\n",
              "\n",
              "    .dataframe thead th {\n",
              "        text-align: right;\n",
              "    }\n",
              "</style>\n",
              "<table border=\"1\" class=\"dataframe\">\n",
              "  <thead>\n",
              "    <tr style=\"text-align: right;\">\n",
              "      <th></th>\n",
              "      <th></th>\n",
              "      <th></th>\n",
              "      <th>value</th>\n",
              "    </tr>\n",
              "    <tr>\n",
              "      <th>skill</th>\n",
              "      <th>param</th>\n",
              "      <th>class</th>\n",
              "      <th></th>\n",
              "    </tr>\n",
              "  </thead>\n",
              "  <tbody>\n",
              "    <tr>\n",
              "      <th rowspan=\"5\" valign=\"top\">sum-of-interior-angles-triangle</th>\n",
              "      <th>prior</th>\n",
              "      <th>default</th>\n",
              "      <td>0.26292</td>\n",
              "    </tr>\n",
              "    <tr>\n",
              "      <th>learns</th>\n",
              "      <th>default</th>\n",
              "      <td>0.19406</td>\n",
              "    </tr>\n",
              "    <tr>\n",
              "      <th>guesses</th>\n",
              "      <th>default</th>\n",
              "      <td>0.11928</td>\n",
              "    </tr>\n",
              "    <tr>\n",
              "      <th>slips</th>\n",
              "      <th>default</th>\n",
              "      <td>0.09799</td>\n",
              "    </tr>\n",
              "    <tr>\n",
              "      <th>forgets</th>\n",
              "      <th>default</th>\n",
              "      <td>0.04113</td>\n",
              "    </tr>\n",
              "    <tr>\n",
              "      <th rowspan=\"5\" valign=\"top\">division</th>\n",
              "      <th>prior</th>\n",
              "      <th>default</th>\n",
              "      <td>0.58150</td>\n",
              "    </tr>\n",
              "    <tr>\n",
              "      <th>learns</th>\n",
              "      <th>default</th>\n",
              "      <td>0.28779</td>\n",
              "    </tr>\n",
              "    <tr>\n",
              "      <th>guesses</th>\n",
              "      <th>default</th>\n",
              "      <td>0.21786</td>\n",
              "    </tr>\n",
              "    <tr>\n",
              "      <th>slips</th>\n",
              "      <th>default</th>\n",
              "      <td>0.06249</td>\n",
              "    </tr>\n",
              "    <tr>\n",
              "      <th>forgets</th>\n",
              "      <th>default</th>\n",
              "      <td>0.17269</td>\n",
              "    </tr>\n",
              "    <tr>\n",
              "      <th rowspan=\"5\" valign=\"top\">fraction-decimals-percents</th>\n",
              "      <th>prior</th>\n",
              "      <th>default</th>\n",
              "      <td>0.20589</td>\n",
              "    </tr>\n",
              "    <tr>\n",
              "      <th>learns</th>\n",
              "      <th>default</th>\n",
              "      <td>0.09882</td>\n",
              "    </tr>\n",
              "    <tr>\n",
              "      <th>guesses</th>\n",
              "      <th>default</th>\n",
              "      <td>0.35650</td>\n",
              "    </tr>\n",
              "    <tr>\n",
              "      <th>slips</th>\n",
              "      <th>default</th>\n",
              "      <td>0.20426</td>\n",
              "    </tr>\n",
              "    <tr>\n",
              "      <th>forgets</th>\n",
              "      <th>default</th>\n",
              "      <td>0.03068</td>\n",
              "    </tr>\n",
              "    <tr>\n",
              "      <th rowspan=\"5\" valign=\"top\">least-common-multiple</th>\n",
              "      <th>prior</th>\n",
              "      <th>default</th>\n",
              "      <td>0.18296</td>\n",
              "    </tr>\n",
              "    <tr>\n",
              "      <th>learns</th>\n",
              "      <th>default</th>\n",
              "      <td>0.23654</td>\n",
              "    </tr>\n",
              "    <tr>\n",
              "      <th>guesses</th>\n",
              "      <th>default</th>\n",
              "      <td>0.06249</td>\n",
              "    </tr>\n",
              "    <tr>\n",
              "      <th>slips</th>\n",
              "      <th>default</th>\n",
              "      <td>0.09250</td>\n",
              "    </tr>\n",
              "    <tr>\n",
              "      <th>forgets</th>\n",
              "      <th>default</th>\n",
              "      <td>0.24845</td>\n",
              "    </tr>\n",
              "  </tbody>\n",
              "</table>\n",
              "</div>\n",
              "      <button class=\"colab-df-convert\" onclick=\"convertToInteractive('df-fcd9527a-bc73-4ac8-a240-6fb9cd63cc3b')\"\n",
              "              title=\"Convert this dataframe to an interactive table.\"\n",
              "              style=\"display:none;\">\n",
              "        \n",
              "  <svg xmlns=\"http://www.w3.org/2000/svg\" height=\"24px\"viewBox=\"0 0 24 24\"\n",
              "       width=\"24px\">\n",
              "    <path d=\"M0 0h24v24H0V0z\" fill=\"none\"/>\n",
              "    <path d=\"M18.56 5.44l.94 2.06.94-2.06 2.06-.94-2.06-.94-.94-2.06-.94 2.06-2.06.94zm-11 1L8.5 8.5l.94-2.06 2.06-.94-2.06-.94L8.5 2.5l-.94 2.06-2.06.94zm10 10l.94 2.06.94-2.06 2.06-.94-2.06-.94-.94-2.06-.94 2.06-2.06.94z\"/><path d=\"M17.41 7.96l-1.37-1.37c-.4-.4-.92-.59-1.43-.59-.52 0-1.04.2-1.43.59L10.3 9.45l-7.72 7.72c-.78.78-.78 2.05 0 2.83L4 21.41c.39.39.9.59 1.41.59.51 0 1.02-.2 1.41-.59l7.78-7.78 2.81-2.81c.8-.78.8-2.07 0-2.86zM5.41 20L4 18.59l7.72-7.72 1.47 1.35L5.41 20z\"/>\n",
              "  </svg>\n",
              "      </button>\n",
              "      \n",
              "  <style>\n",
              "    .colab-df-container {\n",
              "      display:flex;\n",
              "      flex-wrap:wrap;\n",
              "      gap: 12px;\n",
              "    }\n",
              "\n",
              "    .colab-df-convert {\n",
              "      background-color: #E8F0FE;\n",
              "      border: none;\n",
              "      border-radius: 50%;\n",
              "      cursor: pointer;\n",
              "      display: none;\n",
              "      fill: #1967D2;\n",
              "      height: 32px;\n",
              "      padding: 0 0 0 0;\n",
              "      width: 32px;\n",
              "    }\n",
              "\n",
              "    .colab-df-convert:hover {\n",
              "      background-color: #E2EBFA;\n",
              "      box-shadow: 0px 1px 2px rgba(60, 64, 67, 0.3), 0px 1px 3px 1px rgba(60, 64, 67, 0.15);\n",
              "      fill: #174EA6;\n",
              "    }\n",
              "\n",
              "    [theme=dark] .colab-df-convert {\n",
              "      background-color: #3B4455;\n",
              "      fill: #D2E3FC;\n",
              "    }\n",
              "\n",
              "    [theme=dark] .colab-df-convert:hover {\n",
              "      background-color: #434B5C;\n",
              "      box-shadow: 0px 1px 3px 1px rgba(0, 0, 0, 0.15);\n",
              "      filter: drop-shadow(0px 1px 2px rgba(0, 0, 0, 0.3));\n",
              "      fill: #FFFFFF;\n",
              "    }\n",
              "  </style>\n",
              "\n",
              "      <script>\n",
              "        const buttonEl =\n",
              "          document.querySelector('#df-fcd9527a-bc73-4ac8-a240-6fb9cd63cc3b button.colab-df-convert');\n",
              "        buttonEl.style.display =\n",
              "          google.colab.kernel.accessAllowed ? 'block' : 'none';\n",
              "\n",
              "        async function convertToInteractive(key) {\n",
              "          const element = document.querySelector('#df-fcd9527a-bc73-4ac8-a240-6fb9cd63cc3b');\n",
              "          const dataTable =\n",
              "            await google.colab.kernel.invokeFunction('convertToInteractive',\n",
              "                                                     [key], {});\n",
              "          if (!dataTable) return;\n",
              "\n",
              "          const docLinkHtml = 'Like what you see? Visit the ' +\n",
              "            '<a target=\"_blank\" href=https://colab.research.google.com/notebooks/data_table.ipynb>data table notebook</a>'\n",
              "            + ' to learn more about interactive tables.';\n",
              "          element.innerHTML = '';\n",
              "          dataTable['output_type'] = 'display_data';\n",
              "          await google.colab.output.renderOutput(dataTable, element);\n",
              "          const docLink = document.createElement('div');\n",
              "          docLink.innerHTML = docLinkHtml;\n",
              "          element.appendChild(docLink);\n",
              "        }\n",
              "      </script>\n",
              "    </div>\n",
              "  </div>\n",
              "  "
            ]
          },
          "metadata": {},
          "execution_count": 190
        }
      ],
      "source": [
        "# Train BKT model with forgetting\n",
        "model_forgetting = Model(seed=SEED)\n",
        "%time model_forgetting.fit(data=dataset, forgets=True)\n",
        "model_forgetting.params()"
      ]
    },
    {
      "cell_type": "code",
      "execution_count": null,
      "id": "ddbf771b",
      "metadata": {
        "id": "ddbf771b"
      },
      "outputs": [],
      "source": [
        "# Run inference on the same dataset - we will later use it to visually see how good the model is fitting to the data\n",
        "predictions = model.predict(data=dataset)[['user_id', 'skill_name', 'correct', 'correct_predictions']]\n",
        "# Rename the dataframe columns as per instructions\n",
        "predictions.columns = ['user_id', 'skill_name', 'y_ground_truth', 'y_prediction_bkt']\n",
        "\n",
        "predictions['y_prediction_bkt+forgetting'] = model_forgetting.predict(data=dataset)['correct_predictions']"
      ]
    },
    {
      "cell_type": "markdown",
      "id": "c0e7851d",
      "metadata": {
        "id": "c0e7851d"
      },
      "source": [
        "Plot learning curves of ground truth data and BKT model predictions. Blue curve is based on the ground truth data and contains confidence intervals. Green curve is computed based on BKT model and red curve based on BKT+forgetting model."
      ]
    },
    {
      "cell_type": "code",
      "execution_count": null,
      "id": "63ac94f1",
      "metadata": {
        "id": "63ac94f1",
        "scrolled": false,
        "colab": {
          "base_uri": "https://localhost:8080/",
          "height": 1000
        },
        "outputId": "f6b5a560-fff8-4f31-9412-26fc174668f5"
      },
      "outputs": [
        {
          "output_type": "display_data",
          "data": {
            "text/plain": [
              "<Figure size 432x288 with 2 Axes>"
            ],
            "image/png": "[encoded data removed]"
          },
          "metadata": {
            "needs_background": "light"
          }
        },
        {
          "output_type": "display_data",
          "data": {
            "text/plain": [
              "<Figure size 432x288 with 2 Axes>"
            ],
            "image/png": "[encoded data removed]"
          },
          "metadata": {
            "needs_background": "light"
          }
        },
        {
          "output_type": "display_data",
          "data": {
            "text/plain": [
              "<Figure size 432x288 with 2 Axes>"
            ],
            "image/png": "[encoded data removed]"
          },
          "metadata": {
            "needs_background": "light"
          }
        },
        {
          "output_type": "display_data",
          "data": {
            "text/plain": [
              "<Figure size 432x288 with 2 Axes>"
            ],
            "image/png": "[encoded data removed]"
          },
          "metadata": {
            "needs_background": "light"
          }
        }
      ],
      "source": [
        "# Plot learning curves for the model\n",
        "# Adapted from pyAFM plot_datashop.py - do not change\n",
        "\n",
        "from pyafm.plot_datashop import avg_y_by_x\n",
        "\n",
        "colors = {\"y_ground_truth\": \"blue\", \"y_prediction_bkt\": \"green\", \"y_prediction_bkt+forgetting\": \"red\"}\n",
        "for plot_id, skill_name in enumerate(SKILLS):\n",
        "    preds = predictions[predictions['skill_name'] == skill_name]\n",
        "    xp = []\n",
        "    yp = {}\n",
        "    \n",
        "    for col in preds.columns: \n",
        "        if 'y_' in col:\n",
        "            yp[col] = []\n",
        "\n",
        "    for user_id in preds['user_id'].unique(): \n",
        "        user_preds = preds[preds['user_id'] == user_id] \n",
        "        xp += list(np.arange(len(user_preds))) \n",
        "        for col in preds.columns: \n",
        "            if 'y_' in col: \n",
        "                yp[col] += user_preds[col].tolist() \n",
        "\n",
        "    fig, axs = plt.subplots(2, 1, gridspec_kw={'height_ratios': [4, 2]}) \n",
        "    lines = []\n",
        "    for col in preds.columns:\n",
        "        if 'y_' in col:    \n",
        "            # compute mean and confidence intervals\n",
        "            x, y, lcb, ucb, n_obs = avg_y_by_x(xp, yp[col]) \n",
        "            y = [1-v for v in y] \n",
        "            if col == 'y_ground_truth': \n",
        "                axs[0].fill_between(x, lcb, ucb, alpha=.1, color=colors[col])\n",
        "            model_line, = axs[0].plot(x, y, label=col, color=colors[col]) \n",
        "            lines.append(model_line) \n",
        "\n",
        "    axs[0].set_title(\"Knowledge Component: {}\".format(skill_name))\n",
        "    axs[0].legend(handles=lines)\n",
        "    axs[0].set_ylabel('Error')\n",
        "    axs[0].set_ylim(0, 1.2)\n",
        "    axs[0].set_xlim(0, None)\n",
        "\n",
        "    axs[1].set_xlabel('Number of opportunities')\n",
        "    axs[1].bar([i for i in range(len(n_obs))], n_obs)\n",
        "    axs[1].set_ylabel('Number of observations')\n",
        "    axs[1].set_ylim(0, 1000)\n",
        "    axs[1].set_xlim(0, None)\n",
        "    plt.show()"
      ]
    },
    {
      "cell_type": "markdown",
      "source": [
        "Answer:\n",
        "- Discuss and compare learning curves for three skills. \n",
        "  * For sum-of-interior angle triangle, the error rate decreases as the number of opportunities increases. For other skills, the error rate first decreases then increases as the number of opportunities increases. For fraction-decimal-percents and division skills, the fluctuation of the error rate increases as the opportunites number goes larger (might caused by the decreasing number of observations). The faster decrease (such as sum-of-interior-angle) means the skill is relatively easier to learn. \n",
        "\n",
        "- Is the model fitting the ground-truth data well? Compare BKT and BKT+forgetting curves.\n",
        "  * The model fitting the ground-truth well when there is less opportunities. For large number opportunities cases, the variance is increased since the observation is decreasing. \n",
        "  * For sum-of-interior-angle skill the BKT + forgetting has better performance (or overfit the data). However, for other three skills, the two methods have similar performance. \n",
        "\n",
        "- Can you provide insights for a teacher about these knowledge components? \n",
        "  * Generouly, the error rate decreases as the number of opportunity increases. The teachers can find the optimal number of opportunities for different knowledge components to achieve the lowest error rate. This information could be helpful for choosing the number of practicing times. "
      ],
      "metadata": {
        "id": "jdGjQMrGjwae"
      },
      "id": "jdGjQMrGjwae"
    },
    {
      "cell_type": "markdown",
      "id": "f0baa7d5",
      "metadata": {
        "id": "f0baa7d5"
      },
      "source": [
        "### Q 3.3: Use knowledge tracing model for downstream tasks\n",
        "Knowledge tracing model is usually not the final goal in EDM. Definition of knowledge components are important for reaching high quality models for the downstream tasks. However, suitable mappings can be difficult to find and often require researchers to iteratively test mappings to see which better fits the student data. For a more detailed analysis of knowldege component please refer to knowledge-learning-instruction framework (Koedinger 2012). \n",
        "Answer the following questions: \n",
        "- 1) List some examples of downstream tasks which can benefit from knowledge tracing models. Pick one example and describe how the output of the knowledge tracing model could be incorporated in the downstream model in more detail (How can the output be interpreted when designing the downstream task? Does the output of the knowledge tracing need to be transformed?).\n",
        "- 2) Compare and discuss the impact of granularity of knowledge component on a) knowledge tracing models and b) student learning. Imagine a following simple scenario with math task / question: `A vase can hold 9 flowers. If you had 4 carnations and 23 roses, how many vases would you need to hold the flowers?` and consider these knowledge component annotations:\n",
        "    - Example 1: division, addition, three variables, within 100\n",
        "    - Example 2: arithmetic with more than two variables\n",
        "    - Example 3: math word problems"
      ]
    },
    {
      "cell_type": "markdown",
      "source": [
        "Answer:\n",
        "1. Downstream tasks:\n",
        "  * Examples: \n",
        "    * Improvement on this task means that resources can be suggested to students based on their individual needs.\n",
        "    * Content which is predicted to be too easy or too hard can be skipped or delayed.\n",
        "    * The system can select best number of opportunities for the knowledge.\n",
        "    \n",
        "  * For eample, the trained BKT model contains parameters such as probability of mastering the corresponding knowledge. This probability can be used to identify which knowledge is more difficult for the student. And the system can suggest more resources for the difficult knowledge. \n",
        "  * The output (probability learn) needs to be specified for each students.\n",
        "2. If the knowledge component is divided to rough, like in example 3, the performance will be bad since the model cannot learn different skills. However, it the component is divided to detaily, like in example 1, the performane is also bad since the model cannot be generalized. Like in example 2, the performance of knoledge tracing models will be better since there are suitable knowledge components parameters in the model (we assmue the dataset is large enough). It is also beneficial for student learning if the system can divide the knowledge in more detailed steps. "
      ],
      "metadata": {
        "id": "9nWn7yLlrO2t"
      },
      "id": "9nWn7yLlrO2t"
    },
    {
      "cell_type": "markdown",
      "id": "c4f5775e",
      "metadata": {
        "id": "c4f5775e"
      },
      "source": [
        "*End of the assignment.\n",
        "Congratulations on finishing assignment 2.1.*"
      ]
    }
  ],
  "metadata": {
    "colab": {
      "provenance": [],
      "collapsed_sections": [
        "cd5103df"
      ]
    },
    "kernelspec": {
      "display_name": "Python 3 (ipykernel)",
      "language": "python",
      "name": "python3"
    },
    "language_info": {
      "codemirror_mode": {
        "name": "ipython",
        "version": 3
      },
      "file_extension": ".py",
      "mimetype": "text/x-python",
      "name": "python",
      "nbconvert_exporter": "python",
      "pygments_lexer": "ipython3",
      "version": "3.7.10"
    }
  },
  "nbformat": 4,
  "nbformat_minor": 5
}